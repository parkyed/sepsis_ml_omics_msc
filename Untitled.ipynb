{
 "cells": [
  {
   "cell_type": "markdown",
   "id": "applicable-certificate",
   "metadata": {},
   "source": [
    "### Markup for write up"
   ]
  },
  {
   "cell_type": "markdown",
   "id": "shared-scottish",
   "metadata": {},
   "source": [
    "3. Summary Results (08/09/21)\n",
    "\n",
    "a) using 9 iterations of the train/test split, with all features\n",
    "\n",
    "\n",
    "| Model                                                     | Recall    | Precision| AUC  | Youden's J |\n",
    "| :-                                                        | :-:       | :-:      |:-:   | :-:        |\n",
    "| Logistic Reg - L1 reg, optimising accuracy (336 feat.)    | 0.94      | 0.92     | 0.98 | 0.xx       |\n",
    "| Logistic Reg - L1 reg, optimising features (19 feat.)     | 0.94      | 0.94     | 0.99 | 0.xx       |\n",
    "| SVM - baysian opt, L1 reg, optimising features (30 feat.) | 0.91      | 0.95     | 0.86 |\n",
    "| SVM - baysian opt, L2 reg, RFE (30 feat.)                 | 0.94      | 0.95     | 0.97 |\n",
    "| Random Forest, cross validated on accuracy (250 feat.)    | 0.92      | 0.93     | 0.99 |\n",
    "| Random Forest, scored on OOB   (1,200 feat.)              | 0.93      | 0.95     | 0.98 |\n",
    "| XGBoost                                                   | 0.xx      | 0.xx     | 0.xx |\n",
    "\n",
    "\n",
    "b) using 9 iterations of the train/test split, excluding patient Inf_075, the suspected viral sepsis case\n",
    "\n",
    "\n",
    "| Model                                                     | Recall    | Precision| AUC  |Youden's J |\n",
    "| :-                                                        | :-:       | :-:      |:-:   |:-:        |\n",
    "| Logistic Reg - L1 reg, optimising accuracy (336 featurs)  | 0.99      | 0.94     | 1.00 |0.xx       |\n",
    "| Logistic Reg - L1 reg, optimising features (19 features)  | 0.98      | 0.95     | 1.00 |0.xx       |\n",
    "| SVM - baysian opt, L1 reg, optimising features (30 feat.) | 0.94      | 0.91     | 0.97 |\n",
    "| SVM - baysian opt, L2 reg, RFE (30 feat.)                 | 0.95      | 0.99     | 1.00 |\n",
    "| Random Forest, cross validated on accuracy (250 feat.)    | 0.97      | 0.93     | 0.99 |\n",
    "| Random Forest, scored on OOB   (1,200 feat.)              | 0.97      | 0.98     | 0.99 |\n",
    "| XGBoost                                                   | 0.xx      | 0.xx     | 0.xx |"
   ]
  },
  {
   "cell_type": "code",
   "execution_count": null,
   "id": "stopped-imperial",
   "metadata": {},
   "outputs": [],
   "source": []
  },
  {
   "cell_type": "code",
   "execution_count": null,
   "id": "cordless-domestic",
   "metadata": {},
   "outputs": [],
   "source": []
  },
  {
   "cell_type": "code",
   "execution_count": null,
   "id": "rational-wright",
   "metadata": {},
   "outputs": [],
   "source": []
  }
 ],
 "metadata": {
  "kernelspec": {
   "display_name": "Python 3",
   "language": "python",
   "name": "python3"
  },
  "language_info": {
   "codemirror_mode": {
    "name": "ipython",
    "version": 3
   },
   "file_extension": ".py",
   "mimetype": "text/x-python",
   "name": "python",
   "nbconvert_exporter": "python",
   "pygments_lexer": "ipython3",
   "version": "3.7.10"
  }
 },
 "nbformat": 4,
 "nbformat_minor": 5
}
