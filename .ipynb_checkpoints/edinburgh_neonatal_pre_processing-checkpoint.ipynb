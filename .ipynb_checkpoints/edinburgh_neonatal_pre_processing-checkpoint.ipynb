{
 "cells": [
  {
   "cell_type": "markdown",
   "id": "anonymous-tourism",
   "metadata": {},
   "source": [
    "# edinburgh neonatal pre-processing"
   ]
  },
  {
   "cell_type": "markdown",
   "id": "swiss-addition",
   "metadata": {},
   "source": [
    "This file and raw data in github repo here: https://github.com/parkyed/sepsis_ml_omics_msc\n"
   ]
  },
  {
   "cell_type": "markdown",
   "id": "cheap-garbage",
   "metadata": {},
   "source": [
    "### Import libraries"
   ]
  },
  {
   "cell_type": "code",
   "execution_count": 177,
   "id": "hydraulic-washer",
   "metadata": {},
   "outputs": [],
   "source": [
    "import pandas as pd\n",
    "import numpy as np\n",
    "import os\n",
    "from scipy import stats\n",
    "from collections import OrderedDict\n",
    "from sklearn.preprocessing import StandardScaler\n",
    "from sklearn.impute import SimpleImputer\n",
    "import warnings\n",
    "from joblib import dump, load\n",
    "from pickle import dump, load\n",
    "warnings.filterwarnings(action=\"ignore\", message=\"^internal gelsd\")\n",
    "warnings.filterwarnings(action=\"ignore\", message=\"Starting in XGBoost 1.3.0, the default evaluation metric used with the objective 'binary:logistic' was changed from 'error' to 'logloss'. Explicitly set eval_metric if you'd like to restore the old behavior.\")\n",
    "#np.random.seed(1)"
   ]
  },
  {
   "cell_type": "code",
   "execution_count": 21,
   "id": "behavioral-civilization",
   "metadata": {},
   "outputs": [
    {
     "data": {
      "text/plain": [
       "'/Users/Ed/Documents/GitHub/sepsis_ml_omics_msc'"
      ]
     },
     "execution_count": 21,
     "metadata": {},
     "output_type": "execute_result"
    }
   ],
   "source": [
    "os.getcwd()"
   ]
  },
  {
   "cell_type": "markdown",
   "id": "lesser-connectivity",
   "metadata": {},
   "source": [
    "### Data Import"
   ]
  },
  {
   "cell_type": "code",
   "execution_count": 123,
   "id": "handed-ebony",
   "metadata": {},
   "outputs": [
    {
     "name": "stdout",
     "output_type": "stream",
     "text": [
      "The number of columns is:  93\n",
      "The number of row is:  48804\n"
     ]
    }
   ],
   "source": [
    "# import and check data\n",
    "\n",
    "raw_data = pd.read_csv('dataset_edinburgh/genomic_data.csv')\n",
    "print('The number of columns is:  '+str(len(raw_data.columns)))\n",
    "print('The number of row is:  '+str(len(raw_data)))"
   ]
  },
  {
   "cell_type": "markdown",
   "id": "clinical-bosnia",
   "metadata": {},
   "source": [
    "### Checking for Duplicates"
   ]
  },
  {
   "cell_type": "code",
   "execution_count": 124,
   "id": "rising-bleeding",
   "metadata": {},
   "outputs": [
    {
     "name": "stdout",
     "output_type": "stream",
     "text": [
      "# duplicate rows based on NuID:   0\n",
      "# duplicate rows based on Search_Key:   4671\n",
      "# duplicate rows based on ILMN_Gene:   11000\n",
      "# duplicate rows based on RefSeq_ID:   5742\n",
      "# duplicate rows based on Entrez_Gene_ID:   10897\n",
      "# duplicate rows based on Probe_Id:   1\n"
     ]
    }
   ],
   "source": [
    "# Counting the number of duplicate rows using various columns, NaN values excluded before looking for duplicates.\n",
    "\n",
    "dup_column = ['NuID', 'Search_Key', 'ILMN_Gene', 'RefSeq_ID', 'Entrez_Gene_ID', 'Probe_Id']\n",
    "for column in dup_column:\n",
    "    data = raw_data.dropna(subset=[column])\n",
    "    dup_list = []\n",
    "    for index, value in data.duplicated(subset=[column]).items():\n",
    "        if value == True:\n",
    "            dup_list.append(index)\n",
    "    print(f\"# duplicate rows based on {column}:   \"+str(len(dup_list)))"
   ]
  },
  {
   "cell_type": "markdown",
   "id": "painful-analyst",
   "metadata": {},
   "source": [
    "### Drop duplicate rows on Probe_Id and transpose"
   ]
  },
  {
   "cell_type": "code",
   "execution_count": 154,
   "id": "fuzzy-supply",
   "metadata": {},
   "outputs": [
    {
     "name": "stdout",
     "output_type": "stream",
     "text": [
      "Number of features in dataset:   48802\n",
      "Number of genes in the gene name database:    48802\n",
      "Number of examples in dataset:  63\n",
      "Number of Missing values in dataset:   0\n",
      "The number of features with all zeros is:   0\n",
      "Check indices of df and gene_df match. sum of matching index:   48802\n"
     ]
    }
   ],
   "source": [
    "# reformat data, drop duplicates, transpose, index on probe_id, drop columns with all NaN, drop Fold change\n",
    "\n",
    "# drop duplicate rows based on Probe_Id, and fold change column\n",
    "df = raw_data.drop_duplicates(subset=['Probe_Id'], keep='first')\n",
    "df = df.drop(['Fold change'], axis=1)\n",
    "\n",
    "# split into gene code dataframe, and data set based on unique probes\n",
    "gene_df = df.iloc[:, np.r_[14, 5]]\n",
    "df = df.iloc[:, np.r_[14, 29:92]]\n",
    "\n",
    "# transpose data set and index on probe ID, drop all columns that are all NaN values\n",
    "df = df.transpose()\n",
    "df = df.rename(columns=df.iloc[0]).drop(df.index[0])\n",
    "\n",
    "# identify any columns that are all NaN values, and drop from both data df and gene_df\n",
    "nan_columns = df.columns[df.isna().any()].tolist()\n",
    "df = df.drop(nan_columns, axis=1)\n",
    "gene_df = gene_df[gene_df['Probe_Id'] != nan_columns[0]]\n",
    "print('Number of features in dataset:   '+str(len(df.columns)))\n",
    "print('Number of genes in the gene name database:    '+str(len(gene_df.index)))\n",
    "print('Number of examples in dataset:  '+str(len(df)))\n",
    "print('Number of Missing values in dataset:   '+str(df.isnull().sum().sum()))\n",
    "print('The number of features with all zeros is:   '+str(sum((df == 0).all(axis=0))))\n",
    "print('Check indices of df and gene_df match. sum of matching index:   '+str(sum(df.columns == gene_df['Probe_Id'])))\n",
    "\n",
    "# create copy of the data without patient Inf_075\n",
    "df_no75 = df.drop(['Inf075'], axis=0)"
   ]
  },
  {
   "cell_type": "markdown",
   "id": "hairy-venezuela",
   "metadata": {},
   "source": [
    "### Create labels vectors"
   ]
  },
  {
   "cell_type": "code",
   "execution_count": 84,
   "id": "valid-cemetery",
   "metadata": {},
   "outputs": [],
   "source": [
    "# create labels for both data sets\n",
    "\n",
    "labels = []\n",
    "for item in df.index:\n",
    "    if 'Con' in item:\n",
    "        labels.append(0)\n",
    "    else:\n",
    "        labels.append(1)\n",
    "labels = np.asarray(labels)\n",
    "\n",
    "labels_no75 = []\n",
    "for item in df.index:\n",
    "    if item == 'Inf075':\n",
    "        continue\n",
    "    if 'Con' in item:\n",
    "        labels_no75.append(0)\n",
    "    else:\n",
    "        labels_no75.append(1)\n",
    "labels_no75 = np.asarray(labels_no75)\n",
    "\n",
    "# check correct\n",
    "#list(zip(df.index, labels))\n",
    "#list(zip(df_no75.index, labels_no75))"
   ]
  },
  {
   "cell_type": "markdown",
   "id": "crucial-density",
   "metadata": {},
   "source": [
    "### Standardisation (z-scoring)\n",
    "\n",
    "Data standardised (i.e. z-scored) for the following reasons:\n",
    "- L1 regularisation penalties in logistic regressions assumes data centred at zero and on the same scale\n",
    "- Distance based ML models such as SVM require and assume standardised data, otherwise variables on larger scales disproportionally impact the model\n",
    "- Am using the output coeffiecients from logistic regression as a crude measure of feature importance, and so in order to compare coefficients as a measure of relative importance, variables must be standardised\n",
    "\n",
    "Reference: https://towardsdatascience.com/normalization-vs-standardization-quantitative-analysis-a91e8a79cebf"
   ]
  },
  {
   "cell_type": "code",
   "execution_count": 88,
   "id": "adolescent-denial",
   "metadata": {},
   "outputs": [
    {
     "name": "stdout",
     "output_type": "stream",
     "text": [
      "(63, 48802)\n",
      "(62, 48802)\n",
      "(63, 200)\n"
     ]
    }
   ],
   "source": [
    "# standardise by imputing NaN values and using standard scale - z-scoring\n",
    "# note - given imputer not necessary, could move standard scaler into the pipeline for each model\n",
    "\n",
    "def standardise(examples):\n",
    "    scaler = StandardScaler()\n",
    "    examples_scaled = scaler.fit_transform(examples)\n",
    "    return examples_scaled\n",
    "\n",
    "X_df = standardise(df)\n",
    "X_df = pd.DataFrame(X_df, columns=df.columns, index=df.index)\n",
    "print(X_df.shape)\n",
    "\n",
    "# dataset excluding patient 75\n",
    "X_df_no75 = standardise(df_no75)\n",
    "X_df_no75 = pd.DataFrame(X_df_no75, columns=df_no75.columns, index=df_no75.index)\n",
    "print(X_df_no75.shape)\n",
    "\n",
    "# Reduced dataset for code testing\n",
    "X_df_red = X_df.iloc[:, 0:200]\n",
    "print(X_df_red.shape)"
   ]
  },
  {
   "cell_type": "code",
   "execution_count": 101,
   "id": "approximate-supply",
   "metadata": {},
   "outputs": [],
   "source": [
    "# saving pre-processed datasets\n",
    "import pickle\n",
    "\n",
    "with open('neonatal_preprocessed.pkl', 'wb') as f:\n",
    "    pickle.dump([gene_df, X_df, X_df_no75, X_df_red, labels, labels_no75], f)\n",
    "    \n",
    "X_df_no75.to_csv('neonatal_data_processed.csv')\n",
    "gene_df.to_csv('gene_codes_df.csv')\n",
    "np.savetxt('labels_no75.csv', labels_no75, delimiter=',')"
   ]
  },
  {
   "cell_type": "markdown",
   "id": "chronic-reasoning",
   "metadata": {},
   "source": [
    "### Import ensembl gene codes merge"
   ]
  },
  {
   "cell_type": "code",
   "execution_count": 150,
   "id": "level-substitute",
   "metadata": {},
   "outputs": [],
   "source": [
    "gene_code_mappings = pd.read_csv('dataset_edinburgh/illuminaht12v3_ensembl_mapping.csv').drop(['description', 'gene_biotype'], axis=1)\n"
   ]
  },
  {
   "cell_type": "code",
   "execution_count": 160,
   "id": "broke-boston",
   "metadata": {},
   "outputs": [],
   "source": [
    "gene_code_mappings = gene_code_mappings.rename(columns={'illumina_humanht_12_v3': 'Probe_Id'})"
   ]
  },
  {
   "cell_type": "code",
   "execution_count": 166,
   "id": "protected-causing",
   "metadata": {},
   "outputs": [
    {
     "data": {
      "text/plain": [
       "44170"
      ]
     },
     "execution_count": 166,
     "metadata": {},
     "output_type": "execute_result"
    }
   ],
   "source": [
    "len(gene_code_mappings)"
   ]
  },
  {
   "cell_type": "code",
   "execution_count": 172,
   "id": "valued-candle",
   "metadata": {},
   "outputs": [],
   "source": [
    "gene_df_merged = pd.merge(gene_df, gene_code_mappings, how='left', on='Probe_Id')"
   ]
  },
  {
   "cell_type": "code",
   "execution_count": 173,
   "id": "other-popularity",
   "metadata": {},
   "outputs": [
    {
     "data": {
      "text/plain": [
       "58740"
      ]
     },
     "execution_count": 173,
     "metadata": {},
     "output_type": "execute_result"
    }
   ],
   "source": [
    "len(gene_df_merged)"
   ]
  },
  {
   "cell_type": "code",
   "execution_count": 174,
   "id": "frozen-active",
   "metadata": {},
   "outputs": [
    {
     "data": {
      "text/html": [
       "<div>\n",
       "<style scoped>\n",
       "    .dataframe tbody tr th:only-of-type {\n",
       "        vertical-align: middle;\n",
       "    }\n",
       "\n",
       "    .dataframe tbody tr th {\n",
       "        vertical-align: top;\n",
       "    }\n",
       "\n",
       "    .dataframe thead th {\n",
       "        text-align: right;\n",
       "    }\n",
       "</style>\n",
       "<table border=\"1\" class=\"dataframe\">\n",
       "  <thead>\n",
       "    <tr style=\"text-align: right;\">\n",
       "      <th></th>\n",
       "      <th>Probe_Id</th>\n",
       "      <th>ILMN_Gene</th>\n",
       "      <th>ensembl_gene_id</th>\n",
       "      <th>external_gene_name</th>\n",
       "    </tr>\n",
       "  </thead>\n",
       "  <tbody>\n",
       "    <tr>\n",
       "      <th>0</th>\n",
       "      <td>ILMN_2227757</td>\n",
       "      <td>PCDHB2</td>\n",
       "      <td>ENSG00000112852</td>\n",
       "      <td>PCDHB2</td>\n",
       "    </tr>\n",
       "    <tr>\n",
       "      <th>1</th>\n",
       "      <td>ILMN_1683690</td>\n",
       "      <td>DCDC2B</td>\n",
       "      <td>ENSG00000222046</td>\n",
       "      <td>DCDC2B</td>\n",
       "    </tr>\n",
       "    <tr>\n",
       "      <th>2</th>\n",
       "      <td>ILMN_1710146</td>\n",
       "      <td>LOC649978</td>\n",
       "      <td>NaN</td>\n",
       "      <td>NaN</td>\n",
       "    </tr>\n",
       "    <tr>\n",
       "      <th>3</th>\n",
       "      <td>ILMN_1822171</td>\n",
       "      <td>HS.302418</td>\n",
       "      <td>NaN</td>\n",
       "      <td>NaN</td>\n",
       "    </tr>\n",
       "    <tr>\n",
       "      <th>4</th>\n",
       "      <td>ILMN_1748473</td>\n",
       "      <td>GIMAP4</td>\n",
       "      <td>ENSG00000133574</td>\n",
       "      <td>GIMAP4</td>\n",
       "    </tr>\n",
       "    <tr>\n",
       "      <th>5</th>\n",
       "      <td>ILMN_1822843</td>\n",
       "      <td>HS.583233</td>\n",
       "      <td>NaN</td>\n",
       "      <td>NaN</td>\n",
       "    </tr>\n",
       "    <tr>\n",
       "      <th>6</th>\n",
       "      <td>ILMN_1710170</td>\n",
       "      <td>PPAP2C</td>\n",
       "      <td>ENSG00000141934</td>\n",
       "      <td>PLPP2</td>\n",
       "    </tr>\n",
       "    <tr>\n",
       "      <th>7</th>\n",
       "      <td>ILMN_1704497</td>\n",
       "      <td>KRT25</td>\n",
       "      <td>ENSG00000204897</td>\n",
       "      <td>KRT25</td>\n",
       "    </tr>\n",
       "    <tr>\n",
       "      <th>8</th>\n",
       "      <td>ILMN_1847638</td>\n",
       "      <td>HS.579719</td>\n",
       "      <td>NaN</td>\n",
       "      <td>NaN</td>\n",
       "    </tr>\n",
       "    <tr>\n",
       "      <th>9</th>\n",
       "      <td>ILMN_1772260</td>\n",
       "      <td>STEAP1</td>\n",
       "      <td>ENSG00000164647</td>\n",
       "      <td>STEAP1</td>\n",
       "    </tr>\n",
       "    <tr>\n",
       "      <th>10</th>\n",
       "      <td>ILMN_1772260</td>\n",
       "      <td>STEAP1</td>\n",
       "      <td>ENSG00000105889</td>\n",
       "      <td>STEAP1B</td>\n",
       "    </tr>\n",
       "    <tr>\n",
       "      <th>11</th>\n",
       "      <td>ILMN_1672034</td>\n",
       "      <td>PIM3</td>\n",
       "      <td>ENSG00000198355</td>\n",
       "      <td>PIM3</td>\n",
       "    </tr>\n",
       "    <tr>\n",
       "      <th>12</th>\n",
       "      <td>ILMN_1672034</td>\n",
       "      <td>PIM3</td>\n",
       "      <td>ENSG00000276753</td>\n",
       "      <td>MIR6821</td>\n",
       "    </tr>\n",
       "    <tr>\n",
       "      <th>13</th>\n",
       "      <td>ILMN_2140008</td>\n",
       "      <td>LOC652614</td>\n",
       "      <td>NaN</td>\n",
       "      <td>NaN</td>\n",
       "    </tr>\n",
       "    <tr>\n",
       "      <th>14</th>\n",
       "      <td>ILMN_1865286</td>\n",
       "      <td>HS.540469</td>\n",
       "      <td>NaN</td>\n",
       "      <td>NaN</td>\n",
       "    </tr>\n",
       "    <tr>\n",
       "      <th>15</th>\n",
       "      <td>ILMN_1912077</td>\n",
       "      <td>HS.127935</td>\n",
       "      <td>NaN</td>\n",
       "      <td>NaN</td>\n",
       "    </tr>\n",
       "    <tr>\n",
       "      <th>16</th>\n",
       "      <td>ILMN_1665737</td>\n",
       "      <td>UFD1L</td>\n",
       "      <td>ENSG00000070010</td>\n",
       "      <td>UFD1</td>\n",
       "    </tr>\n",
       "    <tr>\n",
       "      <th>17</th>\n",
       "      <td>ILMN_1706859</td>\n",
       "      <td>C22ORF32</td>\n",
       "      <td>ENSG00000274112</td>\n",
       "      <td>SMDT1</td>\n",
       "    </tr>\n",
       "    <tr>\n",
       "      <th>18</th>\n",
       "      <td>ILMN_1706859</td>\n",
       "      <td>C22ORF32</td>\n",
       "      <td>ENSG00000272901</td>\n",
       "      <td>SMDT1</td>\n",
       "    </tr>\n",
       "    <tr>\n",
       "      <th>19</th>\n",
       "      <td>ILMN_1706859</td>\n",
       "      <td>C22ORF32</td>\n",
       "      <td>ENSG00000272835</td>\n",
       "      <td>SMDT1</td>\n",
       "    </tr>\n",
       "    <tr>\n",
       "      <th>20</th>\n",
       "      <td>ILMN_1706859</td>\n",
       "      <td>C22ORF32</td>\n",
       "      <td>ENSG00000183172</td>\n",
       "      <td>SMDT1</td>\n",
       "    </tr>\n",
       "    <tr>\n",
       "      <th>21</th>\n",
       "      <td>ILMN_1914349</td>\n",
       "      <td>HS.197593</td>\n",
       "      <td>NaN</td>\n",
       "      <td>NaN</td>\n",
       "    </tr>\n",
       "    <tr>\n",
       "      <th>22</th>\n",
       "      <td>ILMN_1680322</td>\n",
       "      <td>HHCM</td>\n",
       "      <td>NaN</td>\n",
       "      <td>NaN</td>\n",
       "    </tr>\n",
       "    <tr>\n",
       "      <th>23</th>\n",
       "      <td>ILMN_1678554</td>\n",
       "      <td>LOC653832</td>\n",
       "      <td>NaN</td>\n",
       "      <td>NaN</td>\n",
       "    </tr>\n",
       "    <tr>\n",
       "      <th>24</th>\n",
       "      <td>ILMN_1691534</td>\n",
       "      <td>ICHTHYIN</td>\n",
       "      <td>ENSG00000172548</td>\n",
       "      <td>NIPAL4</td>\n",
       "    </tr>\n",
       "    <tr>\n",
       "      <th>25</th>\n",
       "      <td>ILMN_1668996</td>\n",
       "      <td>C1QBP</td>\n",
       "      <td>ENSG00000108561</td>\n",
       "      <td>C1QBP</td>\n",
       "    </tr>\n",
       "    <tr>\n",
       "      <th>26</th>\n",
       "      <td>ILMN_2322552</td>\n",
       "      <td>NCKAP1</td>\n",
       "      <td>ENSG00000061676</td>\n",
       "      <td>NCKAP1</td>\n",
       "    </tr>\n",
       "    <tr>\n",
       "      <th>27</th>\n",
       "      <td>ILMN_1751904</td>\n",
       "      <td>EDNRB</td>\n",
       "      <td>ENSG00000136160</td>\n",
       "      <td>EDNRB</td>\n",
       "    </tr>\n",
       "    <tr>\n",
       "      <th>28</th>\n",
       "      <td>ILMN_1700306</td>\n",
       "      <td>OCIAD2</td>\n",
       "      <td>ENSG00000145247</td>\n",
       "      <td>OCIAD2</td>\n",
       "    </tr>\n",
       "    <tr>\n",
       "      <th>29</th>\n",
       "      <td>ILMN_1893536</td>\n",
       "      <td>HS.537870</td>\n",
       "      <td>NaN</td>\n",
       "      <td>NaN</td>\n",
       "    </tr>\n",
       "  </tbody>\n",
       "</table>\n",
       "</div>"
      ],
      "text/plain": [
       "        Probe_Id  ILMN_Gene  ensembl_gene_id external_gene_name\n",
       "0   ILMN_2227757     PCDHB2  ENSG00000112852             PCDHB2\n",
       "1   ILMN_1683690     DCDC2B  ENSG00000222046             DCDC2B\n",
       "2   ILMN_1710146  LOC649978              NaN                NaN\n",
       "3   ILMN_1822171  HS.302418              NaN                NaN\n",
       "4   ILMN_1748473     GIMAP4  ENSG00000133574             GIMAP4\n",
       "5   ILMN_1822843  HS.583233              NaN                NaN\n",
       "6   ILMN_1710170     PPAP2C  ENSG00000141934              PLPP2\n",
       "7   ILMN_1704497      KRT25  ENSG00000204897              KRT25\n",
       "8   ILMN_1847638  HS.579719              NaN                NaN\n",
       "9   ILMN_1772260     STEAP1  ENSG00000164647             STEAP1\n",
       "10  ILMN_1772260     STEAP1  ENSG00000105889            STEAP1B\n",
       "11  ILMN_1672034       PIM3  ENSG00000198355               PIM3\n",
       "12  ILMN_1672034       PIM3  ENSG00000276753            MIR6821\n",
       "13  ILMN_2140008  LOC652614              NaN                NaN\n",
       "14  ILMN_1865286  HS.540469              NaN                NaN\n",
       "15  ILMN_1912077  HS.127935              NaN                NaN\n",
       "16  ILMN_1665737      UFD1L  ENSG00000070010               UFD1\n",
       "17  ILMN_1706859   C22ORF32  ENSG00000274112              SMDT1\n",
       "18  ILMN_1706859   C22ORF32  ENSG00000272901              SMDT1\n",
       "19  ILMN_1706859   C22ORF32  ENSG00000272835              SMDT1\n",
       "20  ILMN_1706859   C22ORF32  ENSG00000183172              SMDT1\n",
       "21  ILMN_1914349  HS.197593              NaN                NaN\n",
       "22  ILMN_1680322       HHCM              NaN                NaN\n",
       "23  ILMN_1678554  LOC653832              NaN                NaN\n",
       "24  ILMN_1691534   ICHTHYIN  ENSG00000172548             NIPAL4\n",
       "25  ILMN_1668996      C1QBP  ENSG00000108561              C1QBP\n",
       "26  ILMN_2322552     NCKAP1  ENSG00000061676             NCKAP1\n",
       "27  ILMN_1751904      EDNRB  ENSG00000136160              EDNRB\n",
       "28  ILMN_1700306     OCIAD2  ENSG00000145247             OCIAD2\n",
       "29  ILMN_1893536  HS.537870              NaN                NaN"
      ]
     },
     "execution_count": 174,
     "metadata": {},
     "output_type": "execute_result"
    }
   ],
   "source": [
    "gene_df_merged.head(30)"
   ]
  },
  {
   "cell_type": "code",
   "execution_count": 175,
   "id": "worthy-faith",
   "metadata": {},
   "outputs": [
    {
     "data": {
      "text/plain": [
       "48802"
      ]
     },
     "execution_count": 175,
     "metadata": {},
     "output_type": "execute_result"
    }
   ],
   "source": [
    "## check that all probes in the raw data set remain in the merged gene annotation\n",
    "\n",
    "len(gene_df_merged['Probe_Id'].unique())"
   ]
  },
  {
   "cell_type": "code",
   "execution_count": 176,
   "id": "designed-syndicate",
   "metadata": {},
   "outputs": [],
   "source": [
    "## saved merged gene dataset\n",
    "gene_df_merged.to_csv('gene_codes_merged.csv')\n"
   ]
  },
  {
   "cell_type": "code",
   "execution_count": null,
   "id": "governing-identity",
   "metadata": {},
   "outputs": [],
   "source": []
  }
 ],
 "metadata": {
  "kernelspec": {
   "display_name": "Python 3",
   "language": "python",
   "name": "python3"
  },
  "language_info": {
   "codemirror_mode": {
    "name": "ipython",
    "version": 3
   },
   "file_extension": ".py",
   "mimetype": "text/x-python",
   "name": "python",
   "nbconvert_exporter": "python",
   "pygments_lexer": "ipython3",
   "version": "3.7.10"
  }
 },
 "nbformat": 4,
 "nbformat_minor": 5
}
