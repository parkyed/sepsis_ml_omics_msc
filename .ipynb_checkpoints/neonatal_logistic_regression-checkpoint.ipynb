{
 "cells": [
  {
   "cell_type": "markdown",
   "id": "headed-oakland",
   "metadata": {},
   "source": [
    "# ml sepsis logistic regression model\n"
   ]
  },
  {
   "cell_type": "markdown",
   "id": "pressed-creek",
   "metadata": {},
   "source": [
    "## Progress and Results:\n",
    "\n",
    "- Logistic regression models reworked to prepare for testing on unseen datasets. In particular:\n",
    "    - Model trained and scored on the whole dataset using leave one out cross validation. Cross validation used to select the features, using an L1 penalised model\n",
    "    - Model scored based on the predictions on the validation set over 62 folds - the full dataset\n",
    "    - Final model re-trained with the selected value of the hyper parameter C, to provide the final feature set. Targeted 20 features (can be adjusted)\n",
    "    - AUC of 0.997 (one mis-classified point)\n",
    "    - See plot of selected genes below\n",
    "    \n",
    "- Genes appear to be highly correlated - see heatmap below\n",
    "- Applied recursive feature elimination to see how performance deteriorates when reducing from 20 to 1 gene. Shows that AUC is 1.0 down to 4 genes, but then tails off. Would indicate that a small group of genes, e.g. 4 is better than a single gene. Needs further investigation, and testing on additional data sets.\n"
   ]
  },
  {
   "cell_type": "markdown",
   "id": "social-reality",
   "metadata": {},
   "source": [
    "## Potential Next Steps\n",
    "\n",
    "- Replace Bayesian search with grid search over a small range to be able to cross validate the training on performance, rather than just search for a number of featres\n",
    "- Test removing the best performing genes (individually and in groups) from the starting data set to see whether equally good performance is achieved with other sets of genes - are they many sets of good predictors?\n",
    "- Iteratively test small subsets of genes - 1s, 2s, 3s, 4s - look for statistically significant improvements. Use Leave One Out cross validation given small size of the data set.\n",
    "- Map probes to genes, to eliminate impact of multiple probes mapping to sames genes. Look at impact on selected genes\n",
    "- Test on alternative data sets - Wong paes, new Cardiff dataset, Gambia"
   ]
  },
  {
   "cell_type": "markdown",
   "id": "consolidated-alcohol",
   "metadata": {},
   "source": [
    "### Sources:\n",
    "\n",
    "- Feature selection: https://www.analyticsvidhya.com/blog/2016/12/introduction-to-feature-selection-methods-with-an-example-or-how-to-select-the-right-variables/\n",
    "- Nested cross validation: https://machinelearningmastery.com/nested-cross-validation-for-machine-learning-with-python/\n",
    "- LOOCV: https://machinelearningmastery.com/loocv-for-evaluating-machine-learning-algorithms/\n",
    "- scikit-opt: https://machinelearningmastery.com/scikit-optimize-for-hyperparameter-tuning-in-machine-learning/\n",
    "- Baysian opt: https://towardsdatascience.com/optimizing-hyperparameters-the-right-way-3c9cafc279cc\n",
    "- scikit-opt gp_minimize: https://scikit-optimize.github.io/stable/modules/generated/skopt.optimizer.gp_minimize.html#skopt.optimizer.gp_minimize\n"
   ]
  },
  {
   "cell_type": "code",
   "execution_count": 261,
   "id": "sitting-uniform",
   "metadata": {},
   "outputs": [],
   "source": [
    "import pandas as pd\n",
    "import numpy as np\n",
    "import os\n",
    "from scipy import stats\n",
    "from collections import OrderedDict\n",
    "from sklearn.preprocessing import StandardScaler\n",
    "from sklearn.impute import SimpleImputer\n",
    "from sklearn.model_selection import train_test_split\n",
    "from sklearn.metrics import accuracy_score, precision_score, recall_score, f1_score, roc_curve, auc, roc_auc_score\n",
    "from sklearn.metrics import confusion_matrix, ConfusionMatrixDisplay, plot_confusion_matrix\n",
    "from sklearn.model_selection import KFold, RepeatedKFold\n",
    "import warnings\n",
    "import pickle\n",
    "warnings.filterwarnings(action=\"ignore\", message=\"^internal gelsd\")\n",
    "warnings.filterwarnings(action=\"ignore\", message=\"Starting in XGBoost 1.3.0, the default evaluation metric used with the objective 'binary:logistic' was changed from 'error' to 'logloss'. Explicitly set eval_metric if you'd like to restore the old behavior.\")\n",
    "#np.random.seed(1)\n"
   ]
  },
  {
   "cell_type": "code",
   "execution_count": 262,
   "id": "continuing-prevention",
   "metadata": {},
   "outputs": [
    {
     "data": {
      "text/plain": [
       "'/Users/Ed/Documents/GitHub/sepsis_ml_omics_msc'"
      ]
     },
     "execution_count": 262,
     "metadata": {},
     "output_type": "execute_result"
    }
   ],
   "source": [
    "os.getcwd()"
   ]
  },
  {
   "cell_type": "markdown",
   "id": "executed-washington",
   "metadata": {},
   "source": [
    "### Preprocessed Data Import"
   ]
  },
  {
   "cell_type": "code",
   "execution_count": 106,
   "id": "metric-aerospace",
   "metadata": {},
   "outputs": [],
   "source": [
    "# retriving saved results:\n",
    "\n",
    "with open('neonatal_preprocessed.pkl', 'rb') as f:\n",
    "    gene_df, X_df, X_df_no75, X_df_red, labels, labels_no75 = pickle.load(f)"
   ]
  },
  {
   "cell_type": "markdown",
   "id": "rural-intranet",
   "metadata": {},
   "source": [
    "### Functions for model analysis"
   ]
  },
  {
   "cell_type": "code",
   "execution_count": 263,
   "id": "engaging-doctrine",
   "metadata": {},
   "outputs": [],
   "source": [
    "import matplotlib.pyplot as plt\n",
    "from itertools import cycle\n",
    "from sklearn.metrics import roc_curve, auc, roc_auc_score\n",
    "from scipy import interp\n",
    "\n",
    "# Code credit for thresholds with Youdens: https://machinelearningmastery.com/threshold-moving-for-imbalanced-classification/\n",
    "# Code credit for ROC curve: https://www.analyticsvidhya.com/blog/2020/06/auc-roc-curve-machine-learning/\n",
    "\n",
    "def j_stat(y_true_classes, y_pred_probabilities):\n",
    "    fpr, tpr, thresholds = roc_curve(y_true_classes, y_pred_probabilities)\n",
    "    J = tpr - fpr\n",
    "    ix = np.argmax(J)\n",
    "    best_thresh = thresholds[ix]\n",
    "    return best_thresh\n",
    "\n",
    "def score_model(y_true_classes, y_pred_probabilities, threshold):\n",
    "    y_pred_classes = []\n",
    "    for probab in y_pred_probabilities:\n",
    "        if probab >= threshold:\n",
    "            y_pred_classes.append(1)\n",
    "        else:\n",
    "            y_pred_classes.append(0)\n",
    "    tn, fp, fn, tp = confusion_matrix(y_true_classes, y_pred_classes).ravel()\n",
    "    accuracy = round((tp + tn / (tn+fp+fn+tp)),2)\n",
    "    recall = round((tp / (tp+fn)),2)\n",
    "    specificity = round((tn / (tn+fp)),2)\n",
    "    precision = round((tp / (tp+fp)),2)\n",
    "    auc = round(roc_auc_score(y_true_classes, y_pred_probabilities),2)\n",
    "    return y_pred_classes, accuracy, recall, specificity, precision, auc\n",
    "\n",
    "def mis_class_points(X_test, y_true_classes, y_pred_classes):\n",
    "    mis_classified = {}\n",
    "    for row_index, (examples, prediction, label) in enumerate(zip (X_test, y_pred_classes, y_true_classes)):\n",
    "        if prediction == label:\n",
    "            continue\n",
    "        if prediction == 0 and label == 1:\n",
    "            mis_classified[X_test.iloc[[row_index]].index[0]] = 'fn'\n",
    "        elif prediction == 1 and label == 0:\n",
    "            mis_classified[X_test.iloc[[row_index]].index[0]] = 'fp'\n",
    "    return mis_classified  \n",
    "\n",
    "def plot_cm(y_true_classes, y_pred_classes):\n",
    "    cm = confusion_matrix(y_true_classes, y_pred_classes)\n",
    "    cm_disp = ConfusionMatrixDisplay(confusion_matrix=cm)\n",
    "    cm_disp.plot(colorbar=False)\n",
    "\n",
    "def build_roc_auc(y_true_classes, y_pred_probabilities):\n",
    "    \n",
    "    # Compute ROC curve and ROC area for each class\n",
    "    fpr = dict()\n",
    "    tpr = dict()\n",
    "    roc_auc = dict()\n",
    "    for i in range(len(y_true_classes)):\n",
    "        fpr[i], tpr[i], _ = roc_curve(y_true_classes, y_pred_probabilities)\n",
    "        roc_auc[i] = auc(fpr[i], tpr[i])\n",
    "\n",
    "    # Compute micro-average ROC curve and ROC area\n",
    "    fpr[\"micro\"], tpr[\"micro\"], _ = roc_curve(y_true_classes, y_pred_probabilities)\n",
    "    roc_auc[\"micro\"] = auc(fpr[\"micro\"], tpr[\"micro\"])\n",
    "    \n",
    "    plt.plot(fpr[2], tpr[2], color='darkorange',\n",
    "             lw=2, label='ROC curve (area = %0.2f)' % roc_auc[2])\n",
    "    plt.plot([0, 1], [0, 1], color='navy', lw=2, linestyle='--')\n",
    "    plt.xlim([0.0, 1.0])\n",
    "    plt.ylim([0.0, 1.05])\n",
    "    plt.xlabel('False Positive Rate')\n",
    "    plt.ylabel('True Positive Rate')\n",
    "    plt.title('Receiver operating characteristic plot')\n",
    "    plt.show()\n",
    "    \n",
    "    return roc_auc_score(y_true_classes, y_pred_probabilities)  \n"
   ]
  },
  {
   "cell_type": "code",
   "execution_count": 264,
   "id": "governmental-immunology",
   "metadata": {},
   "outputs": [],
   "source": [
    "from sklearn.model_selection import RepeatedKFold, LeaveOneOut\n",
    "from sklearn.linear_model import LogisticRegression\n",
    "import skopt\n",
    "from skopt.space import Real\n",
    "from skopt.utils import use_named_args\n",
    "from skopt import gp_minimize\n",
    "from skopt.plots import plot_convergence, plot_evaluations\n",
    "from math import log\n",
    "from matplotlib import pyplot as plt\n",
    "import seaborn as sns\n",
    "import pickle\n",
    "import warnings\n",
    "warnings.filterwarnings(\"ignore\", message=\"The objective has been evaluated at this point before\")"
   ]
  },
  {
   "cell_type": "markdown",
   "id": "bearing-census",
   "metadata": {},
   "source": [
    "### ii. LR - Optimise for a fixed number of features"
   ]
  },
  {
   "cell_type": "code",
   "execution_count": 265,
   "id": "demanding-recording",
   "metadata": {},
   "outputs": [],
   "source": [
    "# redesigned functions to achieve the following:\n",
    "\n",
    "# hyper parameter tuning and feature selection within the inner loop\n",
    "# retraining of a new model without L1 penalisation using selected features only - score this model\n",
    "# train final model on full dataset to get features\n",
    "\n",
    "def train_lr_loocv(X_train, y_train, n_features):\n",
    "\n",
    "    # define cross validation approach\n",
    "    cv_inner = LeaveOneOut()\n",
    "    \n",
    "    # collectors for predictions\n",
    "    val_examples = []\n",
    "    y_val_classes = []\n",
    "    y_val_predictions = []\n",
    "    features_index_list = []\n",
    "    \n",
    "    # training and validation set split\n",
    "    for train_index, val_index in cv_inner.split(X_train):\n",
    "\n",
    "        X_train_inner, X_val = X_train.iloc[train_index, :], X_train.iloc[val_index, :]\n",
    "        y_train_inner, y_val = y_train[train_index], y_train[val_index] \n",
    "\n",
    "        # define hyper paramaeter search space\n",
    "        hyper_p_c = Real(low=1e-6, high=1000.0, prior='log-uniform', name='C')\n",
    "        search_space_lr = [hyper_p_c]\n",
    "\n",
    "        # baysian search for hyper parameter that gives n_features\n",
    "        @use_named_args(search_space_lr)\n",
    "        def evaluate_model(**params):\n",
    "        \n",
    "            model = LogisticRegression(penalty='l1', solver=\"liblinear\")\n",
    "            model.set_params(**params)\n",
    "            model.fit(X_train_inner, y_train_inner)\n",
    "            n_nonzero = np.sum(model.coef_ != 0)\n",
    "            \n",
    "            return (n_features-n_nonzero)**2\n",
    "\n",
    "        result = gp_minimize(evaluate_model, search_space_lr, acq_func=\"EI\", x0=[1.0], n_initial_points=20, n_calls=30)\n",
    "        best_parameter = result.x\n",
    "        print('Best Parameter: %s' % (result.x))\n",
    "        \n",
    "        # train new model with this value of C, using L1 penalty, and capture selected features\n",
    "        model = LogisticRegression(C=best_parameter[0], penalty='l1', solver=\"liblinear\")\n",
    "        model.fit(X_train_inner, y_train_inner)\n",
    "        selected_index = np.nonzero(model.coef_[0])[0]\n",
    "        features_index_list.append(selected_index)\n",
    "\n",
    "        print(\"The number of features selected is:   \"+str(np.sum(model.coef_ != 0)))\n",
    "        print(\"The index of selected features is:    :\"+str(selected_index))\n",
    "        \n",
    "        # reduce the dataset to the selected features only\n",
    "        X_train_selected = np.take(X_train_inner, selected_index, axis=1)\n",
    "        X_val_selected = np.take(X_val, selected_index, axis=1)\n",
    "        \n",
    "        # train a model on the selected features only\n",
    "        model = LogisticRegression(C=best_parameter[0], penalty='none', solver=\"lbfgs\")\n",
    "        model.fit(X_train_selected, y_train_inner)\n",
    "        \n",
    "        # make predictions on the validation set and save to collectors\n",
    "        val_examples.append(X_val_selected)\n",
    "        y_val_classes.append(y_val)\n",
    "        y_val_pred_probab = model.predict_proba(X_val_selected)\n",
    "        y_val_predictions.append(y_val_pred_probab[0,1])\n",
    "            \n",
    "    # return classes and predictions\n",
    "    return y_val_classes, y_val_predictions, features_index_list\n",
    "\n",
    "\n",
    "def train_lr_final(X_train, y_train, n_features):\n",
    "\n",
    "    # define hyper paramaeter search space\n",
    "    hyper_p_c = Real(low=1e-6, high=1000.0, prior='log-uniform', name='C')\n",
    "    search_space_lr = [hyper_p_c]\n",
    "\n",
    "    # baysian search for hyper parameter that gives n_features\n",
    "    @use_named_args(search_space_lr)\n",
    "    def evaluate_model(**params):\n",
    "\n",
    "        model = LogisticRegression(penalty='l1', solver=\"liblinear\")\n",
    "        model.set_params(**params)\n",
    "        model.fit(X_train, y_train)\n",
    "        n_nonzero = np.sum(model.coef_ != 0)\n",
    "\n",
    "        return (n_features-n_nonzero)**2\n",
    "\n",
    "    result = gp_minimize(evaluate_model, search_space_lr, acq_func=\"EI\", x0=[1.0], n_initial_points=20, n_calls=40)\n",
    "    best_parameter = result.x\n",
    "    print('Best Parameter: %s' % (result.x))\n",
    "\n",
    "    # train new model with this value of C, using L1 penalty, and capture selected features\n",
    "    final_model = LogisticRegression(C=best_parameter[0], penalty='l1', solver=\"liblinear\")\n",
    "    final_model.fit(X_train, y_train)\n",
    "    selected_index = np.nonzero(final_model.coef_[0])[0]\n",
    "    print(\"The number of features selected is:   \"+str(np.sum(final_model.coef_ != 0)))\n",
    "    print(\"The index of selected features is:    \"+str(selected_index))\n",
    "        \n",
    "    return final_model, selected_index, best_parameter\n"
   ]
  },
  {
   "cell_type": "code",
   "execution_count": 266,
   "id": "proved-paraguay",
   "metadata": {},
   "outputs": [],
   "source": [
    "#test_y_val_classes, test_y_val_predictions, test_features_index_list = train_lr_loocv(X_df_red, labels, 20)\n"
   ]
  },
  {
   "cell_type": "code",
   "execution_count": 267,
   "id": "atomic-chocolate",
   "metadata": {},
   "outputs": [
    {
     "name": "stdout",
     "output_type": "stream",
     "text": [
      "Best Parameter: [0.060286820324701784]\n",
      "The number of features selected is:   9\n",
      "The index of selected features is:    :[ 1198 10360 11732 20606 23050 32422 33118 47653 47761]\n"
     ]
    },
    {
     "name": "stderr",
     "output_type": "stream",
     "text": [
      "/Users/Ed/Anaconda/anaconda3/envs/keras_env/lib/python3.7/site-packages/sklearn/linear_model/_logistic.py:1323: UserWarning: Setting penalty='none' will ignore the C and l1_ratio parameters\n",
      "  \"Setting penalty='none' will ignore the C and l1_ratio \"\n"
     ]
    },
    {
     "name": "stdout",
     "output_type": "stream",
     "text": [
      "Best Parameter: [0.10561127935728869]\n",
      "The number of features selected is:   19\n",
      "The index of selected features is:    :[ 1198  3448  9424 10360 11732 12281 13543 13609 13839 20606 23050 30200\n",
      " 32422 33118 39675 45685 46509 47653 47761]\n"
     ]
    },
    {
     "name": "stderr",
     "output_type": "stream",
     "text": [
      "/Users/Ed/Anaconda/anaconda3/envs/keras_env/lib/python3.7/site-packages/sklearn/linear_model/_logistic.py:1323: UserWarning: Setting penalty='none' will ignore the C and l1_ratio parameters\n",
      "  \"Setting penalty='none' will ignore the C and l1_ratio \"\n"
     ]
    },
    {
     "name": "stdout",
     "output_type": "stream",
     "text": [
      "Best Parameter: [0.13738010862552888]\n",
      "The number of features selected is:   26\n",
      "The index of selected features is:    :[ 1198  3448  4293  6416  9424 10360 11732 13609 13839 14608 15742 17243\n",
      " 20606 23050 30200 31054 32422 33118 35139 39675 44725 44775 45685 46509\n",
      " 47653 47761]\n"
     ]
    },
    {
     "name": "stderr",
     "output_type": "stream",
     "text": [
      "/Users/Ed/Anaconda/anaconda3/envs/keras_env/lib/python3.7/site-packages/sklearn/linear_model/_logistic.py:1323: UserWarning: Setting penalty='none' will ignore the C and l1_ratio parameters\n",
      "  \"Setting penalty='none' will ignore the C and l1_ratio \"\n"
     ]
    },
    {
     "name": "stdout",
     "output_type": "stream",
     "text": [
      "Best Parameter: [0.12454634087967076]\n",
      "The number of features selected is:   26\n",
      "The index of selected features is:    :[ 1198  3448  5734 10360 11732 12281 13609 14587 14902 17243 18178 20606\n",
      " 22168 23050 30200 32422 33118 34213 36715 39675 40296 44725 45685 46509\n",
      " 47653 47761]\n"
     ]
    },
    {
     "name": "stderr",
     "output_type": "stream",
     "text": [
      "/Users/Ed/Anaconda/anaconda3/envs/keras_env/lib/python3.7/site-packages/sklearn/linear_model/_logistic.py:1323: UserWarning: Setting penalty='none' will ignore the C and l1_ratio parameters\n",
      "  \"Setting penalty='none' will ignore the C and l1_ratio \"\n"
     ]
    },
    {
     "name": "stdout",
     "output_type": "stream",
     "text": [
      "Best Parameter: [0.09415653586977557]\n",
      "The number of features selected is:   19\n",
      "The index of selected features is:    :[ 1198  3448 10360 11732 12281 13609 13839 14608 20606 22168 23050 30200\n",
      " 32422 33118 40296 45685 46509 47653 47761]\n"
     ]
    },
    {
     "name": "stderr",
     "output_type": "stream",
     "text": [
      "/Users/Ed/Anaconda/anaconda3/envs/keras_env/lib/python3.7/site-packages/sklearn/linear_model/_logistic.py:1323: UserWarning: Setting penalty='none' will ignore the C and l1_ratio parameters\n",
      "  \"Setting penalty='none' will ignore the C and l1_ratio \"\n"
     ]
    },
    {
     "name": "stdout",
     "output_type": "stream",
     "text": [
      "Best Parameter: [0.0986741958399632]\n",
      "The number of features selected is:   17\n",
      "The index of selected features is:    :[ 1198 10360 11732 12281 13839 20606 23050 27907 30200 32422 33118 39675\n",
      " 44725 45685 46509 47653 47761]\n"
     ]
    },
    {
     "name": "stderr",
     "output_type": "stream",
     "text": [
      "/Users/Ed/Anaconda/anaconda3/envs/keras_env/lib/python3.7/site-packages/sklearn/linear_model/_logistic.py:1323: UserWarning: Setting penalty='none' will ignore the C and l1_ratio parameters\n",
      "  \"Setting penalty='none' will ignore the C and l1_ratio \"\n"
     ]
    },
    {
     "name": "stdout",
     "output_type": "stream",
     "text": [
      "Best Parameter: [0.07890375600736582]\n",
      "The number of features selected is:   13\n",
      "The index of selected features is:    :[ 1198  5734 10360 11732 12152 13839 20606 23050 32422 33118 40296 47653\n",
      " 47761]\n"
     ]
    },
    {
     "name": "stderr",
     "output_type": "stream",
     "text": [
      "/Users/Ed/Anaconda/anaconda3/envs/keras_env/lib/python3.7/site-packages/sklearn/linear_model/_logistic.py:1323: UserWarning: Setting penalty='none' will ignore the C and l1_ratio parameters\n",
      "  \"Setting penalty='none' will ignore the C and l1_ratio \"\n"
     ]
    },
    {
     "name": "stdout",
     "output_type": "stream",
     "text": [
      "Best Parameter: [0.13481898225806047]\n",
      "The number of features selected is:   27\n",
      "The index of selected features is:    :[ 1198  3448  4293 10360 11732 12152 12281 13609 13839 14608 14902 20606\n",
      " 22168 23050 28488 30200 32422 33118 36715 37377 39675 40296 43481 45685\n",
      " 46509 47653 47761]\n"
     ]
    },
    {
     "name": "stderr",
     "output_type": "stream",
     "text": [
      "/Users/Ed/Anaconda/anaconda3/envs/keras_env/lib/python3.7/site-packages/sklearn/linear_model/_logistic.py:1323: UserWarning: Setting penalty='none' will ignore the C and l1_ratio parameters\n",
      "  \"Setting penalty='none' will ignore the C and l1_ratio \"\n"
     ]
    },
    {
     "name": "stdout",
     "output_type": "stream",
     "text": [
      "Best Parameter: [0.09210762842633535]\n",
      "The number of features selected is:   15\n",
      "The index of selected features is:    :[ 1198 10360 11732 12281 13839 17243 20606 23050 30200 32422 33118 40296\n",
      " 44725 45685 47653]\n"
     ]
    },
    {
     "name": "stderr",
     "output_type": "stream",
     "text": [
      "/Users/Ed/Anaconda/anaconda3/envs/keras_env/lib/python3.7/site-packages/sklearn/linear_model/_logistic.py:1323: UserWarning: Setting penalty='none' will ignore the C and l1_ratio parameters\n",
      "  \"Setting penalty='none' will ignore the C and l1_ratio \"\n"
     ]
    },
    {
     "name": "stdout",
     "output_type": "stream",
     "text": [
      "Best Parameter: [0.13914583448509776]\n",
      "The number of features selected is:   20\n",
      "The index of selected features is:    :[ 1198  3448 10360 11732 12281 13839 14608 14902 20606 23050 30200 32422\n",
      " 33118 36715 39675 40296 45685 46509 47653 47761]\n"
     ]
    },
    {
     "name": "stderr",
     "output_type": "stream",
     "text": [
      "/Users/Ed/Anaconda/anaconda3/envs/keras_env/lib/python3.7/site-packages/sklearn/linear_model/_logistic.py:1323: UserWarning: Setting penalty='none' will ignore the C and l1_ratio parameters\n",
      "  \"Setting penalty='none' will ignore the C and l1_ratio \"\n"
     ]
    },
    {
     "name": "stdout",
     "output_type": "stream",
     "text": [
      "Best Parameter: [0.10833097804152769]\n",
      "The number of features selected is:   14\n",
      "The index of selected features is:    :[ 1198 10360 11732 13609 13839 20606 23050 30200 32422 33118 45685 46509\n",
      " 47653 47761]\n"
     ]
    },
    {
     "name": "stderr",
     "output_type": "stream",
     "text": [
      "/Users/Ed/Anaconda/anaconda3/envs/keras_env/lib/python3.7/site-packages/sklearn/linear_model/_logistic.py:1323: UserWarning: Setting penalty='none' will ignore the C and l1_ratio parameters\n",
      "  \"Setting penalty='none' will ignore the C and l1_ratio \"\n"
     ]
    },
    {
     "name": "stdout",
     "output_type": "stream",
     "text": [
      "Best Parameter: [0.10673326457654281]\n",
      "The number of features selected is:   17\n",
      "The index of selected features is:    :[ 1198  3448 10360 11732 12152 12281 13839 20606 23050 30200 32422 33118\n",
      " 44725 45685 46509 47653 47761]\n"
     ]
    },
    {
     "name": "stderr",
     "output_type": "stream",
     "text": [
      "/Users/Ed/Anaconda/anaconda3/envs/keras_env/lib/python3.7/site-packages/sklearn/linear_model/_logistic.py:1323: UserWarning: Setting penalty='none' will ignore the C and l1_ratio parameters\n",
      "  \"Setting penalty='none' will ignore the C and l1_ratio \"\n"
     ]
    },
    {
     "name": "stdout",
     "output_type": "stream",
     "text": [
      "Best Parameter: [0.0973009454408378]\n",
      "The number of features selected is:   17\n",
      "The index of selected features is:    :[ 1198 10360 11732 12281 13609 13839 14608 20606 23050 24824 30200 32422\n",
      " 33118 40296 46509 47653 47761]\n"
     ]
    },
    {
     "name": "stderr",
     "output_type": "stream",
     "text": [
      "/Users/Ed/Anaconda/anaconda3/envs/keras_env/lib/python3.7/site-packages/sklearn/linear_model/_logistic.py:1323: UserWarning: Setting penalty='none' will ignore the C and l1_ratio parameters\n",
      "  \"Setting penalty='none' will ignore the C and l1_ratio \"\n"
     ]
    },
    {
     "name": "stdout",
     "output_type": "stream",
     "text": [
      "Best Parameter: [0.10680877279445856]\n",
      "The number of features selected is:   16\n",
      "The index of selected features is:    :[ 1198  3448 10360 11732 12281 13543 13839 20606 23050 30200 32422 33118\n",
      " 39675 45685 47653 47761]\n"
     ]
    },
    {
     "name": "stderr",
     "output_type": "stream",
     "text": [
      "/Users/Ed/Anaconda/anaconda3/envs/keras_env/lib/python3.7/site-packages/sklearn/linear_model/_logistic.py:1323: UserWarning: Setting penalty='none' will ignore the C and l1_ratio parameters\n",
      "  \"Setting penalty='none' will ignore the C and l1_ratio \"\n"
     ]
    },
    {
     "name": "stdout",
     "output_type": "stream",
     "text": [
      "Best Parameter: [0.18610239913139626]\n",
      "The number of features selected is:   34\n",
      "The index of selected features is:    :[ 1198  3448  4293  5539  5996  8331 10360 11732 12281 13543 13646 13839\n",
      " 14608 14902 17472 20606 22168 23050 28488 30200 31996 33118 34813 35139\n",
      " 36715 37377 37986 44670 44725 45597 45685 46509 47653 47761]\n"
     ]
    },
    {
     "name": "stderr",
     "output_type": "stream",
     "text": [
      "/Users/Ed/Anaconda/anaconda3/envs/keras_env/lib/python3.7/site-packages/sklearn/linear_model/_logistic.py:1323: UserWarning: Setting penalty='none' will ignore the C and l1_ratio parameters\n",
      "  \"Setting penalty='none' will ignore the C and l1_ratio \"\n"
     ]
    },
    {
     "name": "stdout",
     "output_type": "stream",
     "text": [
      "Best Parameter: [0.0845255780855981]\n",
      "The number of features selected is:   14\n",
      "The index of selected features is:    :[ 1198 10360 11732 12281 20606 23050 24824 32422 33118 40296 45685 46509\n",
      " 47653 47761]\n"
     ]
    },
    {
     "name": "stderr",
     "output_type": "stream",
     "text": [
      "/Users/Ed/Anaconda/anaconda3/envs/keras_env/lib/python3.7/site-packages/sklearn/linear_model/_logistic.py:1323: UserWarning: Setting penalty='none' will ignore the C and l1_ratio parameters\n",
      "  \"Setting penalty='none' will ignore the C and l1_ratio \"\n"
     ]
    },
    {
     "name": "stdout",
     "output_type": "stream",
     "text": [
      "Best Parameter: [0.1347428996860722]\n",
      "The number of features selected is:   26\n",
      "The index of selected features is:    :[ 1198  3170  3448  5734  7366 10360 11732 12152 12281 13609 13839 14587\n",
      " 14902 17472 20606 23050 30200 32422 33118 34813 36715 39675 45685 46509\n",
      " 47653 47761]\n"
     ]
    },
    {
     "name": "stderr",
     "output_type": "stream",
     "text": [
      "/Users/Ed/Anaconda/anaconda3/envs/keras_env/lib/python3.7/site-packages/sklearn/linear_model/_logistic.py:1323: UserWarning: Setting penalty='none' will ignore the C and l1_ratio parameters\n",
      "  \"Setting penalty='none' will ignore the C and l1_ratio \"\n"
     ]
    },
    {
     "name": "stdout",
     "output_type": "stream",
     "text": [
      "Best Parameter: [0.083550379349126]\n",
      "The number of features selected is:   13\n",
      "The index of selected features is:    :[ 1198  3448 10360 11732 12281 13839 20606 23050 33118 44725 45685 47653\n",
      " 47761]\n"
     ]
    },
    {
     "name": "stderr",
     "output_type": "stream",
     "text": [
      "/Users/Ed/Anaconda/anaconda3/envs/keras_env/lib/python3.7/site-packages/sklearn/linear_model/_logistic.py:1323: UserWarning: Setting penalty='none' will ignore the C and l1_ratio parameters\n",
      "  \"Setting penalty='none' will ignore the C and l1_ratio \"\n"
     ]
    },
    {
     "name": "stdout",
     "output_type": "stream",
     "text": [
      "Best Parameter: [0.2091935431988085]\n",
      "The number of features selected is:   36\n",
      "The index of selected features is:    :[ 1198  3448  4293  7305  8048  9424 10360 11732 12281 13543 13646 13839\n",
      " 14587 14608 14902 15742 17472 18178 20606 22168 23050 30200 30816 32422\n",
      " 33118 34213 34813 36715 37398 39817 44670 44725 45685 46509 47653 47761]\n"
     ]
    },
    {
     "name": "stderr",
     "output_type": "stream",
     "text": [
      "/Users/Ed/Anaconda/anaconda3/envs/keras_env/lib/python3.7/site-packages/sklearn/linear_model/_logistic.py:1323: UserWarning: Setting penalty='none' will ignore the C and l1_ratio parameters\n",
      "  \"Setting penalty='none' will ignore the C and l1_ratio \"\n"
     ]
    },
    {
     "name": "stdout",
     "output_type": "stream",
     "text": [
      "Best Parameter: [0.07984996607452731]\n",
      "The number of features selected is:   11\n",
      "The index of selected features is:    :[ 1198 10360 11732 12281 20606 23050 32422 33118 40296 47653 47761]\n"
     ]
    },
    {
     "name": "stderr",
     "output_type": "stream",
     "text": [
      "/Users/Ed/Anaconda/anaconda3/envs/keras_env/lib/python3.7/site-packages/sklearn/linear_model/_logistic.py:1323: UserWarning: Setting penalty='none' will ignore the C and l1_ratio parameters\n",
      "  \"Setting penalty='none' will ignore the C and l1_ratio \"\n"
     ]
    },
    {
     "name": "stdout",
     "output_type": "stream",
     "text": [
      "Best Parameter: [0.1664780514255729]\n",
      "The number of features selected is:   31\n",
      "The index of selected features is:    :[ 1198  3448 10360 11732 12152 12281 12886 13543 13839 14587 14608 14902\n",
      " 17697 20606 23050 28488 30200 32422 33118 34813 35139 36715 37398 39675\n",
      " 40296 45597 45685 46509 46542 47416 47653]\n"
     ]
    },
    {
     "name": "stderr",
     "output_type": "stream",
     "text": [
      "/Users/Ed/Anaconda/anaconda3/envs/keras_env/lib/python3.7/site-packages/sklearn/linear_model/_logistic.py:1323: UserWarning: Setting penalty='none' will ignore the C and l1_ratio parameters\n",
      "  \"Setting penalty='none' will ignore the C and l1_ratio \"\n"
     ]
    },
    {
     "name": "stdout",
     "output_type": "stream",
     "text": [
      "Best Parameter: [0.07372928653256368]\n",
      "The number of features selected is:   9\n",
      "The index of selected features is:    :[ 1198 10360 11732 12281 20606 23050 32422 47653 47761]\n"
     ]
    },
    {
     "name": "stderr",
     "output_type": "stream",
     "text": [
      "/Users/Ed/Anaconda/anaconda3/envs/keras_env/lib/python3.7/site-packages/sklearn/linear_model/_logistic.py:1323: UserWarning: Setting penalty='none' will ignore the C and l1_ratio parameters\n",
      "  \"Setting penalty='none' will ignore the C and l1_ratio \"\n"
     ]
    },
    {
     "name": "stdout",
     "output_type": "stream",
     "text": [
      "Best Parameter: [0.11453921235280952]\n",
      "The number of features selected is:   20\n",
      "The index of selected features is:    :[ 1198  3448 10360 11732 12281 13609 13839 20606 23050 30200 31054 32422\n",
      " 33118 34213 36715 44725 45685 46509 47653 47761]\n"
     ]
    },
    {
     "name": "stderr",
     "output_type": "stream",
     "text": [
      "/Users/Ed/Anaconda/anaconda3/envs/keras_env/lib/python3.7/site-packages/sklearn/linear_model/_logistic.py:1323: UserWarning: Setting penalty='none' will ignore the C and l1_ratio parameters\n",
      "  \"Setting penalty='none' will ignore the C and l1_ratio \"\n"
     ]
    },
    {
     "name": "stdout",
     "output_type": "stream",
     "text": [
      "Best Parameter: [0.04425196931861972]\n",
      "The number of features selected is:   2\n",
      "The index of selected features is:    :[11732 20606]\n"
     ]
    },
    {
     "name": "stderr",
     "output_type": "stream",
     "text": [
      "/Users/Ed/Anaconda/anaconda3/envs/keras_env/lib/python3.7/site-packages/sklearn/linear_model/_logistic.py:1323: UserWarning: Setting penalty='none' will ignore the C and l1_ratio parameters\n",
      "  \"Setting penalty='none' will ignore the C and l1_ratio \"\n"
     ]
    },
    {
     "name": "stdout",
     "output_type": "stream",
     "text": [
      "Best Parameter: [0.08551804481840544]\n",
      "The number of features selected is:   18\n",
      "The index of selected features is:    :[ 1198  3448 10360 11732 12281 13543 13839 14608 20606 23050 32422 33118\n",
      " 39817 40296 45685 46509 47653 47761]\n"
     ]
    },
    {
     "name": "stderr",
     "output_type": "stream",
     "text": [
      "/Users/Ed/Anaconda/anaconda3/envs/keras_env/lib/python3.7/site-packages/sklearn/linear_model/_logistic.py:1323: UserWarning: Setting penalty='none' will ignore the C and l1_ratio parameters\n",
      "  \"Setting penalty='none' will ignore the C and l1_ratio \"\n"
     ]
    },
    {
     "name": "stdout",
     "output_type": "stream",
     "text": [
      "Best Parameter: [0.12058425552033603]\n",
      "The number of features selected is:   21\n",
      "The index of selected features is:    :[ 1198  3448 10360 11732 12152 12281 13609 13839 14608 14902 20606 23050\n",
      " 30200 32422 33118 34813 39675 45685 46509 47653 47761]\n"
     ]
    },
    {
     "name": "stderr",
     "output_type": "stream",
     "text": [
      "/Users/Ed/Anaconda/anaconda3/envs/keras_env/lib/python3.7/site-packages/sklearn/linear_model/_logistic.py:1323: UserWarning: Setting penalty='none' will ignore the C and l1_ratio parameters\n",
      "  \"Setting penalty='none' will ignore the C and l1_ratio \"\n"
     ]
    },
    {
     "name": "stdout",
     "output_type": "stream",
     "text": [
      "Best Parameter: [0.13595346159762767]\n",
      "The number of features selected is:   28\n",
      "The index of selected features is:    :[ 1198  3448  7305 10360 11732 12281 13337 13543 13609 13839 14835 20606\n",
      " 23050 24824 27411 29966 30200 30816 31054 32422 33118 35139 36715 44725\n",
      " 45685 46509 47653 47761]\n"
     ]
    },
    {
     "name": "stderr",
     "output_type": "stream",
     "text": [
      "/Users/Ed/Anaconda/anaconda3/envs/keras_env/lib/python3.7/site-packages/sklearn/linear_model/_logistic.py:1323: UserWarning: Setting penalty='none' will ignore the C and l1_ratio parameters\n",
      "  \"Setting penalty='none' will ignore the C and l1_ratio \"\n"
     ]
    },
    {
     "name": "stdout",
     "output_type": "stream",
     "text": [
      "Best Parameter: [0.18277910763277846]\n",
      "The number of features selected is:   29\n",
      "The index of selected features is:    :[ 3448  4293 10360 11732 13543 13609 13839 14835 14902 17243 18178 20606\n",
      " 23050 28488 29164 30200 31054 32422 33118 34213 36715 39675 40296 43310\n",
      " 45254 45685 46509 47653 47761]\n"
     ]
    },
    {
     "name": "stderr",
     "output_type": "stream",
     "text": [
      "/Users/Ed/Anaconda/anaconda3/envs/keras_env/lib/python3.7/site-packages/sklearn/linear_model/_logistic.py:1323: UserWarning: Setting penalty='none' will ignore the C and l1_ratio parameters\n",
      "  \"Setting penalty='none' will ignore the C and l1_ratio \"\n"
     ]
    },
    {
     "name": "stdout",
     "output_type": "stream",
     "text": [
      "Best Parameter: [0.11054959963974759]\n",
      "The number of features selected is:   18\n",
      "The index of selected features is:    :[ 1198  3448  8597 10360 11732 12281 13543 13839 20606 23050 30200 32422\n",
      " 33118 35139 39675 45685 47653 47761]\n"
     ]
    },
    {
     "name": "stderr",
     "output_type": "stream",
     "text": [
      "/Users/Ed/Anaconda/anaconda3/envs/keras_env/lib/python3.7/site-packages/sklearn/linear_model/_logistic.py:1323: UserWarning: Setting penalty='none' will ignore the C and l1_ratio parameters\n",
      "  \"Setting penalty='none' will ignore the C and l1_ratio \"\n"
     ]
    },
    {
     "name": "stdout",
     "output_type": "stream",
     "text": [
      "Best Parameter: [0.11288247007298616]\n",
      "The number of features selected is:   19\n",
      "The index of selected features is:    :[ 1198  3448  5734 10360 11732 12152 12281 13543 13609 13839 14587 20606\n",
      " 22847 23050 27907 35139 40296 47653 47761]\n"
     ]
    },
    {
     "name": "stderr",
     "output_type": "stream",
     "text": [
      "/Users/Ed/Anaconda/anaconda3/envs/keras_env/lib/python3.7/site-packages/sklearn/linear_model/_logistic.py:1323: UserWarning: Setting penalty='none' will ignore the C and l1_ratio parameters\n",
      "  \"Setting penalty='none' will ignore the C and l1_ratio \"\n"
     ]
    },
    {
     "name": "stdout",
     "output_type": "stream",
     "text": [
      "Best Parameter: [0.0654707037754155]\n",
      "The number of features selected is:   10\n",
      "The index of selected features is:    :[ 1198  3448 10360 11732 12281 13609 20606 23050 24824 47653]\n"
     ]
    },
    {
     "name": "stderr",
     "output_type": "stream",
     "text": [
      "/Users/Ed/Anaconda/anaconda3/envs/keras_env/lib/python3.7/site-packages/sklearn/linear_model/_logistic.py:1323: UserWarning: Setting penalty='none' will ignore the C and l1_ratio parameters\n",
      "  \"Setting penalty='none' will ignore the C and l1_ratio \"\n"
     ]
    },
    {
     "name": "stdout",
     "output_type": "stream",
     "text": [
      "Best Parameter: [0.193026181070286]\n",
      "The number of features selected is:   34\n",
      "The index of selected features is:    :[ 1198  3448  3496  4293  5539 10360 11732 12281 13543 13609 13839 14587\n",
      " 14608 14902 15742 17472 20606 21773 23050 30200 31054 31996 32422 33118\n",
      " 34813 36715 39675 39817 40296 41892 45685 46509 47653 47761]\n"
     ]
    },
    {
     "name": "stderr",
     "output_type": "stream",
     "text": [
      "/Users/Ed/Anaconda/anaconda3/envs/keras_env/lib/python3.7/site-packages/sklearn/linear_model/_logistic.py:1323: UserWarning: Setting penalty='none' will ignore the C and l1_ratio parameters\n",
      "  \"Setting penalty='none' will ignore the C and l1_ratio \"\n"
     ]
    },
    {
     "name": "stdout",
     "output_type": "stream",
     "text": [
      "Best Parameter: [0.10909224400086844]\n",
      "The number of features selected is:   24\n",
      "The index of selected features is:    :[ 1198  3448  5734 10360 11732 12152 13543 13609 13839 14835 17243 20606\n",
      " 23050 24824 30200 32422 33118 35139 39675 40296 45685 46509 47653 47761]\n"
     ]
    },
    {
     "name": "stderr",
     "output_type": "stream",
     "text": [
      "/Users/Ed/Anaconda/anaconda3/envs/keras_env/lib/python3.7/site-packages/sklearn/linear_model/_logistic.py:1323: UserWarning: Setting penalty='none' will ignore the C and l1_ratio parameters\n",
      "  \"Setting penalty='none' will ignore the C and l1_ratio \"\n"
     ]
    },
    {
     "name": "stdout",
     "output_type": "stream",
     "text": [
      "Best Parameter: [0.08604134257616011]\n",
      "The number of features selected is:   16\n",
      "The index of selected features is:    :[ 1198  3448 10360 11732 12281 13839 20606 23050 24824 32422 33118 35139\n",
      " 39675 40296 47653 47761]\n"
     ]
    },
    {
     "name": "stderr",
     "output_type": "stream",
     "text": [
      "/Users/Ed/Anaconda/anaconda3/envs/keras_env/lib/python3.7/site-packages/sklearn/linear_model/_logistic.py:1323: UserWarning: Setting penalty='none' will ignore the C and l1_ratio parameters\n",
      "  \"Setting penalty='none' will ignore the C and l1_ratio \"\n"
     ]
    },
    {
     "name": "stdout",
     "output_type": "stream",
     "text": [
      "Best Parameter: [0.1454062727616139]\n",
      "The number of features selected is:   26\n",
      "The index of selected features is:    :[ 1198  3448  6416 10360 11732 12152 12281 13839 14835 14902 17243 20606\n",
      " 23050 30200 32422 33118 34813 35139 36715 41892 44670 45685 46504 46509\n",
      " 47653 47761]\n"
     ]
    },
    {
     "name": "stderr",
     "output_type": "stream",
     "text": [
      "/Users/Ed/Anaconda/anaconda3/envs/keras_env/lib/python3.7/site-packages/sklearn/linear_model/_logistic.py:1323: UserWarning: Setting penalty='none' will ignore the C and l1_ratio parameters\n",
      "  \"Setting penalty='none' will ignore the C and l1_ratio \"\n"
     ]
    },
    {
     "name": "stdout",
     "output_type": "stream",
     "text": [
      "Best Parameter: [0.1304058403284487]\n",
      "The number of features selected is:   24\n",
      "The index of selected features is:    :[ 1198  3448 10360 11732 12281 13543 13609 13839 14608 14902 20606 22168\n",
      " 23050 30200 32422 33118 34213 34813 39675 40296 44725 45685 47653 47761]\n"
     ]
    },
    {
     "name": "stderr",
     "output_type": "stream",
     "text": [
      "/Users/Ed/Anaconda/anaconda3/envs/keras_env/lib/python3.7/site-packages/sklearn/linear_model/_logistic.py:1323: UserWarning: Setting penalty='none' will ignore the C and l1_ratio parameters\n",
      "  \"Setting penalty='none' will ignore the C and l1_ratio \"\n"
     ]
    },
    {
     "name": "stdout",
     "output_type": "stream",
     "text": [
      "Best Parameter: [0.12062405599656295]\n",
      "The number of features selected is:   18\n",
      "The index of selected features is:    :[ 1198  3448 10360 11732 12152 12281 13839 20606 23050 30200 31054 32422\n",
      " 33118 36715 39675 45685 46509 47653]\n"
     ]
    },
    {
     "name": "stderr",
     "output_type": "stream",
     "text": [
      "/Users/Ed/Anaconda/anaconda3/envs/keras_env/lib/python3.7/site-packages/sklearn/linear_model/_logistic.py:1323: UserWarning: Setting penalty='none' will ignore the C and l1_ratio parameters\n",
      "  \"Setting penalty='none' will ignore the C and l1_ratio \"\n"
     ]
    },
    {
     "name": "stdout",
     "output_type": "stream",
     "text": [
      "Best Parameter: [0.10373628078428884]\n",
      "The number of features selected is:   19\n",
      "The index of selected features is:    :[ 1198  3448  5734 10360 11732 12152 13543 13839 20606 23050 24824 30200\n",
      " 32422 33118 39675 45254 45685 47653 47761]\n"
     ]
    },
    {
     "name": "stderr",
     "output_type": "stream",
     "text": [
      "/Users/Ed/Anaconda/anaconda3/envs/keras_env/lib/python3.7/site-packages/sklearn/linear_model/_logistic.py:1323: UserWarning: Setting penalty='none' will ignore the C and l1_ratio parameters\n",
      "  \"Setting penalty='none' will ignore the C and l1_ratio \"\n"
     ]
    },
    {
     "name": "stdout",
     "output_type": "stream",
     "text": [
      "Best Parameter: [0.22780072340293853]\n",
      "The number of features selected is:   38\n",
      "The index of selected features is:    :[   23  1198  3448  5539  6244  6416  7305  9103 10360 11732 12281 13337\n",
      " 13609 13839 14608 14902 15203 15742 17472 20606 23050 28488 30200 31054\n",
      " 32422 33118 34813 36715 37398 37986 38359 42076 44670 44775 45254 45685\n",
      " 47653 47761]\n"
     ]
    },
    {
     "name": "stderr",
     "output_type": "stream",
     "text": [
      "/Users/Ed/Anaconda/anaconda3/envs/keras_env/lib/python3.7/site-packages/sklearn/linear_model/_logistic.py:1323: UserWarning: Setting penalty='none' will ignore the C and l1_ratio parameters\n",
      "  \"Setting penalty='none' will ignore the C and l1_ratio \"\n"
     ]
    },
    {
     "name": "stdout",
     "output_type": "stream",
     "text": [
      "Best Parameter: [0.12528902461918182]\n",
      "The number of features selected is:   21\n",
      "The index of selected features is:    :[ 1198  3448 10360 11732 12152 12281 13609 13839 14608 14902 20606 23050\n",
      " 30200 32422 33118 35139 39675 39817 45685 47653 47761]\n"
     ]
    },
    {
     "name": "stderr",
     "output_type": "stream",
     "text": [
      "/Users/Ed/Anaconda/anaconda3/envs/keras_env/lib/python3.7/site-packages/sklearn/linear_model/_logistic.py:1323: UserWarning: Setting penalty='none' will ignore the C and l1_ratio parameters\n",
      "  \"Setting penalty='none' will ignore the C and l1_ratio \"\n"
     ]
    },
    {
     "name": "stdout",
     "output_type": "stream",
     "text": [
      "Best Parameter: [0.10950420943835062]\n",
      "The number of features selected is:   16\n",
      "The index of selected features is:    :[ 1198 10360 11732 12281 13609 13839 20606 23050 24824 30200 32422 33118\n",
      " 45685 46509 47653 47761]\n"
     ]
    },
    {
     "name": "stderr",
     "output_type": "stream",
     "text": [
      "/Users/Ed/Anaconda/anaconda3/envs/keras_env/lib/python3.7/site-packages/sklearn/linear_model/_logistic.py:1323: UserWarning: Setting penalty='none' will ignore the C and l1_ratio parameters\n",
      "  \"Setting penalty='none' will ignore the C and l1_ratio \"\n"
     ]
    },
    {
     "name": "stdout",
     "output_type": "stream",
     "text": [
      "Best Parameter: [0.14328613253282896]\n",
      "The number of features selected is:   22\n",
      "The index of selected features is:    :[ 1198  3448 10360 11732 13543 13609 13839 14608 14902 20606 23050 30200\n",
      " 32422 33118 34813 36715 39675 44725 45685 46509 47653 47761]\n"
     ]
    },
    {
     "name": "stderr",
     "output_type": "stream",
     "text": [
      "/Users/Ed/Anaconda/anaconda3/envs/keras_env/lib/python3.7/site-packages/sklearn/linear_model/_logistic.py:1323: UserWarning: Setting penalty='none' will ignore the C and l1_ratio parameters\n",
      "  \"Setting penalty='none' will ignore the C and l1_ratio \"\n"
     ]
    },
    {
     "name": "stdout",
     "output_type": "stream",
     "text": [
      "Best Parameter: [0.09928258851422335]\n",
      "The number of features selected is:   19\n",
      "The index of selected features is:    :[ 1198  3170  3448  5734 10360 11732 12152 12281 13839 20606 23050 30200\n",
      " 32422 33118 34213 45685 46509 47653 47761]\n"
     ]
    },
    {
     "name": "stderr",
     "output_type": "stream",
     "text": [
      "/Users/Ed/Anaconda/anaconda3/envs/keras_env/lib/python3.7/site-packages/sklearn/linear_model/_logistic.py:1323: UserWarning: Setting penalty='none' will ignore the C and l1_ratio parameters\n",
      "  \"Setting penalty='none' will ignore the C and l1_ratio \"\n"
     ]
    },
    {
     "name": "stdout",
     "output_type": "stream",
     "text": [
      "Best Parameter: [0.08897360491178168]\n",
      "The number of features selected is:   15\n",
      "The index of selected features is:    :[ 1198 10360 11732 12281 13609 13839 14902 20606 23050 29966 32422 33118\n",
      " 45685 47653 47761]\n"
     ]
    },
    {
     "name": "stderr",
     "output_type": "stream",
     "text": [
      "/Users/Ed/Anaconda/anaconda3/envs/keras_env/lib/python3.7/site-packages/sklearn/linear_model/_logistic.py:1323: UserWarning: Setting penalty='none' will ignore the C and l1_ratio parameters\n",
      "  \"Setting penalty='none' will ignore the C and l1_ratio \"\n"
     ]
    },
    {
     "name": "stdout",
     "output_type": "stream",
     "text": [
      "Best Parameter: [0.10172980020821716]\n",
      "The number of features selected is:   16\n",
      "The index of selected features is:    :[ 1198  3448 10360 11732 12281 20606 22168 23050 24824 30200 31054 33118\n",
      " 40296 45685 47653 47761]\n"
     ]
    },
    {
     "name": "stderr",
     "output_type": "stream",
     "text": [
      "/Users/Ed/Anaconda/anaconda3/envs/keras_env/lib/python3.7/site-packages/sklearn/linear_model/_logistic.py:1323: UserWarning: Setting penalty='none' will ignore the C and l1_ratio parameters\n",
      "  \"Setting penalty='none' will ignore the C and l1_ratio \"\n"
     ]
    },
    {
     "name": "stdout",
     "output_type": "stream",
     "text": [
      "Best Parameter: [0.12424261010714]\n",
      "The number of features selected is:   23\n",
      "The index of selected features is:    :[ 1198  3448 10360 11732 12281 13543 13839 14608 17243 20606 23050 30200\n",
      " 30816 31114 32422 33118 36715 39817 40296 45685 46542 47653 47761]\n"
     ]
    },
    {
     "name": "stderr",
     "output_type": "stream",
     "text": [
      "/Users/Ed/Anaconda/anaconda3/envs/keras_env/lib/python3.7/site-packages/sklearn/linear_model/_logistic.py:1323: UserWarning: Setting penalty='none' will ignore the C and l1_ratio parameters\n",
      "  \"Setting penalty='none' will ignore the C and l1_ratio \"\n"
     ]
    },
    {
     "name": "stdout",
     "output_type": "stream",
     "text": [
      "Best Parameter: [0.09500889668270732]\n",
      "The number of features selected is:   20\n",
      "The index of selected features is:    :[ 1198 10360 11732 12152 12281 13543 13839 14608 14902 20606 23050 27907\n",
      " 30200 32422 33118 40296 45685 46509 47653 47761]\n"
     ]
    },
    {
     "name": "stderr",
     "output_type": "stream",
     "text": [
      "/Users/Ed/Anaconda/anaconda3/envs/keras_env/lib/python3.7/site-packages/sklearn/linear_model/_logistic.py:1323: UserWarning: Setting penalty='none' will ignore the C and l1_ratio parameters\n",
      "  \"Setting penalty='none' will ignore the C and l1_ratio \"\n"
     ]
    },
    {
     "name": "stdout",
     "output_type": "stream",
     "text": [
      "Best Parameter: [0.0971935367122505]\n",
      "The number of features selected is:   17\n",
      "The index of selected features is:    :[ 1198 10360 11732 12152 12281 13543 13839 20606 23050 30200 32422 33118\n",
      " 44725 45685 46509 47653 47761]\n"
     ]
    },
    {
     "name": "stderr",
     "output_type": "stream",
     "text": [
      "/Users/Ed/Anaconda/anaconda3/envs/keras_env/lib/python3.7/site-packages/sklearn/linear_model/_logistic.py:1323: UserWarning: Setting penalty='none' will ignore the C and l1_ratio parameters\n",
      "  \"Setting penalty='none' will ignore the C and l1_ratio \"\n"
     ]
    },
    {
     "name": "stdout",
     "output_type": "stream",
     "text": [
      "Best Parameter: [0.11623385437141914]\n",
      "The number of features selected is:   18\n",
      "The index of selected features is:    :[ 1198  3448 10360 11732 12281 13543 13839 14902 20606 23050 30200 32422\n",
      " 33118 36715 45685 46509 47653 47761]\n"
     ]
    },
    {
     "name": "stderr",
     "output_type": "stream",
     "text": [
      "/Users/Ed/Anaconda/anaconda3/envs/keras_env/lib/python3.7/site-packages/sklearn/linear_model/_logistic.py:1323: UserWarning: Setting penalty='none' will ignore the C and l1_ratio parameters\n",
      "  \"Setting penalty='none' will ignore the C and l1_ratio \"\n"
     ]
    },
    {
     "name": "stdout",
     "output_type": "stream",
     "text": [
      "Best Parameter: [0.08690060408523177]\n",
      "The number of features selected is:   18\n",
      "The index of selected features is:    :[ 1198  3448  9424 10360 11732 12152 12281 13839 14902 20606 23050 24824\n",
      " 30200 32422 33118 46509 47653 47761]\n"
     ]
    },
    {
     "name": "stderr",
     "output_type": "stream",
     "text": [
      "/Users/Ed/Anaconda/anaconda3/envs/keras_env/lib/python3.7/site-packages/sklearn/linear_model/_logistic.py:1323: UserWarning: Setting penalty='none' will ignore the C and l1_ratio parameters\n",
      "  \"Setting penalty='none' will ignore the C and l1_ratio \"\n"
     ]
    },
    {
     "name": "stdout",
     "output_type": "stream",
     "text": [
      "Best Parameter: [0.14875646941940524]\n",
      "The number of features selected is:   28\n",
      "The index of selected features is:    :[ 1198  3448  6416  9424 10360 10568 11732 12281 13839 14587 14608 14902\n",
      " 20606 22168 23050 29164 29966 30200 32422 33118 34791 34813 36715 39675\n",
      " 40296 45685 47653 47761]\n"
     ]
    },
    {
     "name": "stderr",
     "output_type": "stream",
     "text": [
      "/Users/Ed/Anaconda/anaconda3/envs/keras_env/lib/python3.7/site-packages/sklearn/linear_model/_logistic.py:1323: UserWarning: Setting penalty='none' will ignore the C and l1_ratio parameters\n",
      "  \"Setting penalty='none' will ignore the C and l1_ratio \"\n"
     ]
    },
    {
     "name": "stdout",
     "output_type": "stream",
     "text": [
      "Best Parameter: [0.10107973910845879]\n",
      "The number of features selected is:   17\n",
      "The index of selected features is:    :[ 1198  3448 10360 11732 12281 13839 20606 23050 30200 32422 33118 39675\n",
      " 40296 45685 46509 47653 47761]\n"
     ]
    },
    {
     "name": "stderr",
     "output_type": "stream",
     "text": [
      "/Users/Ed/Anaconda/anaconda3/envs/keras_env/lib/python3.7/site-packages/sklearn/linear_model/_logistic.py:1323: UserWarning: Setting penalty='none' will ignore the C and l1_ratio parameters\n",
      "  \"Setting penalty='none' will ignore the C and l1_ratio \"\n"
     ]
    },
    {
     "name": "stdout",
     "output_type": "stream",
     "text": [
      "Best Parameter: [0.10523852265112028]\n",
      "The number of features selected is:   19\n",
      "The index of selected features is:    :[ 1198  3170 10360 11732 12281 13609 13839 14608 20606 23050 30200 32422\n",
      " 33118 35139 39675 39817 45685 47653 47761]\n"
     ]
    },
    {
     "name": "stderr",
     "output_type": "stream",
     "text": [
      "/Users/Ed/Anaconda/anaconda3/envs/keras_env/lib/python3.7/site-packages/sklearn/linear_model/_logistic.py:1323: UserWarning: Setting penalty='none' will ignore the C and l1_ratio parameters\n",
      "  \"Setting penalty='none' will ignore the C and l1_ratio \"\n"
     ]
    },
    {
     "name": "stdout",
     "output_type": "stream",
     "text": [
      "Best Parameter: [0.0807981091739308]\n",
      "The number of features selected is:   15\n",
      "The index of selected features is:    :[ 1198 10360 11732 12281 20606 23050 24824 30200 31054 32422 33118 34213\n",
      " 40296 44725 47653]\n"
     ]
    },
    {
     "name": "stderr",
     "output_type": "stream",
     "text": [
      "/Users/Ed/Anaconda/anaconda3/envs/keras_env/lib/python3.7/site-packages/sklearn/linear_model/_logistic.py:1323: UserWarning: Setting penalty='none' will ignore the C and l1_ratio parameters\n",
      "  \"Setting penalty='none' will ignore the C and l1_ratio \"\n"
     ]
    },
    {
     "name": "stdout",
     "output_type": "stream",
     "text": [
      "Best Parameter: [0.20136030835919003]\n",
      "The number of features selected is:   32\n",
      "The index of selected features is:    :[ 1198  3448  4293 10360 10568 11732 12281 13543 13839 14587 14608 14902\n",
      " 18178 20606 22168 23050 28488 30200 30816 32422 33118 34213 34813 36715\n",
      " 39675 43310 44670 45254 45685 47416 47653 47761]\n"
     ]
    },
    {
     "name": "stderr",
     "output_type": "stream",
     "text": [
      "/Users/Ed/Anaconda/anaconda3/envs/keras_env/lib/python3.7/site-packages/sklearn/linear_model/_logistic.py:1323: UserWarning: Setting penalty='none' will ignore the C and l1_ratio parameters\n",
      "  \"Setting penalty='none' will ignore the C and l1_ratio \"\n"
     ]
    },
    {
     "name": "stdout",
     "output_type": "stream",
     "text": [
      "Best Parameter: [0.1599665750549506]\n",
      "The number of features selected is:   24\n",
      "The index of selected features is:    :[ 1198  3448  6416 10360 11732 12281 13543 13609 13839 14902 20606 22168\n",
      " 30200 32422 33118 35139 36715 39817 41892 44725 45685 46509 47653 47761]\n"
     ]
    },
    {
     "name": "stderr",
     "output_type": "stream",
     "text": [
      "/Users/Ed/Anaconda/anaconda3/envs/keras_env/lib/python3.7/site-packages/sklearn/linear_model/_logistic.py:1323: UserWarning: Setting penalty='none' will ignore the C and l1_ratio parameters\n",
      "  \"Setting penalty='none' will ignore the C and l1_ratio \"\n"
     ]
    },
    {
     "name": "stdout",
     "output_type": "stream",
     "text": [
      "Best Parameter: [0.14179441188421452]\n",
      "The number of features selected is:   26\n",
      "The index of selected features is:    :[ 1198  3448  4293 10360 11732 12152 12281 13839 14608 14902 20606 22168\n",
      " 23050 27411 29966 30200 32422 33118 34813 35139 36715 39675 45685 46509\n",
      " 47653 47761]\n"
     ]
    },
    {
     "name": "stderr",
     "output_type": "stream",
     "text": [
      "/Users/Ed/Anaconda/anaconda3/envs/keras_env/lib/python3.7/site-packages/sklearn/linear_model/_logistic.py:1323: UserWarning: Setting penalty='none' will ignore the C and l1_ratio parameters\n",
      "  \"Setting penalty='none' will ignore the C and l1_ratio \"\n"
     ]
    },
    {
     "name": "stdout",
     "output_type": "stream",
     "text": [
      "Best Parameter: [0.11917818842289188]\n",
      "The number of features selected is:   20\n",
      "The index of selected features is:    :[ 1198  3448 10360 11732 12281 13543 13839 14608 15742 20606 24824 30200\n",
      " 32422 33118 35139 39675 45685 46509 47653 47761]\n"
     ]
    },
    {
     "name": "stderr",
     "output_type": "stream",
     "text": [
      "/Users/Ed/Anaconda/anaconda3/envs/keras_env/lib/python3.7/site-packages/sklearn/linear_model/_logistic.py:1323: UserWarning: Setting penalty='none' will ignore the C and l1_ratio parameters\n",
      "  \"Setting penalty='none' will ignore the C and l1_ratio \"\n"
     ]
    },
    {
     "name": "stdout",
     "output_type": "stream",
     "text": [
      "Best Parameter: [0.11135887570062687]\n",
      "The number of features selected is:   18\n",
      "The index of selected features is:    :[ 1198  3448  4293 10360 11732 12281 13839 14608 20606 23050 30200 32422\n",
      " 33118 36715 39675 45685 47653 47761]\n"
     ]
    },
    {
     "name": "stderr",
     "output_type": "stream",
     "text": [
      "/Users/Ed/Anaconda/anaconda3/envs/keras_env/lib/python3.7/site-packages/sklearn/linear_model/_logistic.py:1323: UserWarning: Setting penalty='none' will ignore the C and l1_ratio parameters\n",
      "  \"Setting penalty='none' will ignore the C and l1_ratio \"\n"
     ]
    },
    {
     "name": "stdout",
     "output_type": "stream",
     "text": [
      "Best Parameter: [0.11171167740962629]\n",
      "The number of features selected is:   17\n",
      "The index of selected features is:    :[ 1198  3448 10360 11732 12281 13543 13609 20606 23050 27907 30200 33118\n",
      " 39675 45685 46509 47653 47761]\n"
     ]
    },
    {
     "name": "stderr",
     "output_type": "stream",
     "text": [
      "/Users/Ed/Anaconda/anaconda3/envs/keras_env/lib/python3.7/site-packages/sklearn/linear_model/_logistic.py:1323: UserWarning: Setting penalty='none' will ignore the C and l1_ratio parameters\n",
      "  \"Setting penalty='none' will ignore the C and l1_ratio \"\n"
     ]
    },
    {
     "name": "stdout",
     "output_type": "stream",
     "text": [
      "Best Parameter: [0.09489596740297915]\n",
      "The number of features selected is:   16\n",
      "The index of selected features is:    :[ 1198  5734 10360 11732 12281 13839 20606 23050 32422 33118 34213 39675\n",
      " 40296 45685 47653 47761]\n"
     ]
    },
    {
     "name": "stderr",
     "output_type": "stream",
     "text": [
      "/Users/Ed/Anaconda/anaconda3/envs/keras_env/lib/python3.7/site-packages/sklearn/linear_model/_logistic.py:1323: UserWarning: Setting penalty='none' will ignore the C and l1_ratio parameters\n",
      "  \"Setting penalty='none' will ignore the C and l1_ratio \"\n"
     ]
    },
    {
     "name": "stdout",
     "output_type": "stream",
     "text": [
      "Best Parameter: [0.09177678936984147]\n",
      "The number of features selected is:   14\n",
      "The index of selected features is:    :[ 1198 10360 11732 12281 13609 13839 20606 23050 30200 32422 33118 45685\n",
      " 47653 47761]\n"
     ]
    },
    {
     "name": "stderr",
     "output_type": "stream",
     "text": [
      "/Users/Ed/Anaconda/anaconda3/envs/keras_env/lib/python3.7/site-packages/sklearn/linear_model/_logistic.py:1323: UserWarning: Setting penalty='none' will ignore the C and l1_ratio parameters\n",
      "  \"Setting penalty='none' will ignore the C and l1_ratio \"\n"
     ]
    }
   ],
   "source": [
    "y_val_classes, y_val_predictions, features_index_list = train_lr_loocv(X_df_no75, labels_no75, 20)\n"
   ]
  },
  {
   "cell_type": "code",
   "execution_count": 269,
   "id": "sporting-forward",
   "metadata": {},
   "outputs": [],
   "source": [
    "best_thresh = j_stat(y_val_classes, y_val_predictions)\n",
    "y_pred_classes, accuracy, recall, specificity, precision, auc = score_model(y_val_classes, y_val_predictions, 0.5)"
   ]
  },
  {
   "cell_type": "code",
   "execution_count": 271,
   "id": "handed-evidence",
   "metadata": {},
   "outputs": [
    {
     "data": {
      "text/plain": [
       "0.9968"
      ]
     },
     "execution_count": 271,
     "metadata": {},
     "output_type": "execute_result"
    }
   ],
   "source": [
    "round(roc_auc_score(y_val_classes, y_val_predictions),4)"
   ]
  },
  {
   "cell_type": "code",
   "execution_count": 186,
   "id": "norwegian-merchandise",
   "metadata": {},
   "outputs": [],
   "source": [
    "#build_roc_auc(y_val_classes, y_val_predictions)"
   ]
  },
  {
   "cell_type": "markdown",
   "id": "loved-visitor",
   "metadata": {},
   "source": [
    "### LR: Final Model Retraining"
   ]
  },
  {
   "cell_type": "code",
   "execution_count": 272,
   "id": "centered-domain",
   "metadata": {},
   "outputs": [
    {
     "name": "stdout",
     "output_type": "stream",
     "text": [
      "Best Parameter: [0.12856643083296349]\n",
      "The number of features selected is:   21\n",
      "The index of selected features is:    [ 1198  3448 10360 11732 12281 13543 13609 13839 17472 20606 23050 30200\n",
      " 32422 33118 34813 36715 44725 45685 46509 47653 47761]\n"
     ]
    },
    {
     "data": {
      "text/html": [
       "<div>\n",
       "<style scoped>\n",
       "    .dataframe tbody tr th:only-of-type {\n",
       "        vertical-align: middle;\n",
       "    }\n",
       "\n",
       "    .dataframe tbody tr th {\n",
       "        vertical-align: top;\n",
       "    }\n",
       "\n",
       "    .dataframe thead th {\n",
       "        text-align: right;\n",
       "    }\n",
       "</style>\n",
       "<table border=\"1\" class=\"dataframe\">\n",
       "  <thead>\n",
       "    <tr style=\"text-align: right;\">\n",
       "      <th></th>\n",
       "      <th>Probe_Id</th>\n",
       "      <th>ILMN_Gene</th>\n",
       "    </tr>\n",
       "  </thead>\n",
       "  <tbody>\n",
       "    <tr>\n",
       "      <th>1198</th>\n",
       "      <td>ILMN_1656378</td>\n",
       "      <td>NMT2</td>\n",
       "    </tr>\n",
       "    <tr>\n",
       "      <th>3448</th>\n",
       "      <td>ILMN_1795922</td>\n",
       "      <td>CCDC16</td>\n",
       "    </tr>\n",
       "    <tr>\n",
       "      <th>10360</th>\n",
       "      <td>ILMN_1821176</td>\n",
       "      <td>HS.276860</td>\n",
       "    </tr>\n",
       "    <tr>\n",
       "      <th>11732</th>\n",
       "      <td>ILMN_1683817</td>\n",
       "      <td>UBE2Q2</td>\n",
       "    </tr>\n",
       "    <tr>\n",
       "      <th>12281</th>\n",
       "      <td>ILMN_1775708</td>\n",
       "      <td>SLC2A3</td>\n",
       "    </tr>\n",
       "    <tr>\n",
       "      <th>13543</th>\n",
       "      <td>ILMN_2321578</td>\n",
       "      <td>P2RY10</td>\n",
       "    </tr>\n",
       "    <tr>\n",
       "      <th>13609</th>\n",
       "      <td>ILMN_1717197</td>\n",
       "      <td>CD3G</td>\n",
       "    </tr>\n",
       "    <tr>\n",
       "      <th>13839</th>\n",
       "      <td>ILMN_2082209</td>\n",
       "      <td>C20ORF100</td>\n",
       "    </tr>\n",
       "    <tr>\n",
       "      <th>17472</th>\n",
       "      <td>ILMN_1796316</td>\n",
       "      <td>MMP9</td>\n",
       "    </tr>\n",
       "    <tr>\n",
       "      <th>20606</th>\n",
       "      <td>ILMN_1732296</td>\n",
       "      <td>ID3</td>\n",
       "    </tr>\n",
       "    <tr>\n",
       "      <th>23051</th>\n",
       "      <td>ILMN_1685824</td>\n",
       "      <td>B4GALT5</td>\n",
       "    </tr>\n",
       "    <tr>\n",
       "      <th>30201</th>\n",
       "      <td>ILMN_1703412</td>\n",
       "      <td>LATS2</td>\n",
       "    </tr>\n",
       "    <tr>\n",
       "      <th>32423</th>\n",
       "      <td>ILMN_1660629</td>\n",
       "      <td>NBEAL2</td>\n",
       "    </tr>\n",
       "    <tr>\n",
       "      <th>33119</th>\n",
       "      <td>ILMN_1801043</td>\n",
       "      <td>GSN</td>\n",
       "    </tr>\n",
       "    <tr>\n",
       "      <th>34814</th>\n",
       "      <td>ILMN_2306540</td>\n",
       "      <td>PDE9A</td>\n",
       "    </tr>\n",
       "    <tr>\n",
       "      <th>36716</th>\n",
       "      <td>ILMN_1808707</td>\n",
       "      <td>FSCN1</td>\n",
       "    </tr>\n",
       "    <tr>\n",
       "      <th>44726</th>\n",
       "      <td>ILMN_1780368</td>\n",
       "      <td>GPR18</td>\n",
       "    </tr>\n",
       "    <tr>\n",
       "      <th>45686</th>\n",
       "      <td>ILMN_1804148</td>\n",
       "      <td>TMED4</td>\n",
       "    </tr>\n",
       "    <tr>\n",
       "      <th>46510</th>\n",
       "      <td>ILMN_1713058</td>\n",
       "      <td>PSTPIP2</td>\n",
       "    </tr>\n",
       "    <tr>\n",
       "      <th>47654</th>\n",
       "      <td>ILMN_1758529</td>\n",
       "      <td>P2RX1</td>\n",
       "    </tr>\n",
       "    <tr>\n",
       "      <th>47762</th>\n",
       "      <td>ILMN_1773650</td>\n",
       "      <td>LRRN3</td>\n",
       "    </tr>\n",
       "  </tbody>\n",
       "</table>\n",
       "</div>"
      ],
      "text/plain": [
       "           Probe_Id  ILMN_Gene\n",
       "1198   ILMN_1656378       NMT2\n",
       "3448   ILMN_1795922     CCDC16\n",
       "10360  ILMN_1821176  HS.276860\n",
       "11732  ILMN_1683817     UBE2Q2\n",
       "12281  ILMN_1775708     SLC2A3\n",
       "13543  ILMN_2321578     P2RY10\n",
       "13609  ILMN_1717197       CD3G\n",
       "13839  ILMN_2082209  C20ORF100\n",
       "17472  ILMN_1796316       MMP9\n",
       "20606  ILMN_1732296        ID3\n",
       "23051  ILMN_1685824    B4GALT5\n",
       "30201  ILMN_1703412      LATS2\n",
       "32423  ILMN_1660629     NBEAL2\n",
       "33119  ILMN_1801043        GSN\n",
       "34814  ILMN_2306540      PDE9A\n",
       "36716  ILMN_1808707      FSCN1\n",
       "44726  ILMN_1780368      GPR18\n",
       "45686  ILMN_1804148      TMED4\n",
       "46510  ILMN_1713058    PSTPIP2\n",
       "47654  ILMN_1758529      P2RX1\n",
       "47762  ILMN_1773650      LRRN3"
      ]
     },
     "execution_count": 272,
     "metadata": {},
     "output_type": "execute_result"
    }
   ],
   "source": [
    "# train final model and identify the selected genes\n",
    "final_model, selected_index, best_parameter = train_lr_final(X_df_no75, labels_no75, 20)\n",
    "selected_gene_df = gene_df.iloc[selected_index, np.r_[10, 1]]#.drop_duplicates(subset=['ILMN_Gene'], keep='first')\n",
    "selected_gene_df"
   ]
  },
  {
   "cell_type": "code",
   "execution_count": 273,
   "id": "becoming-notion",
   "metadata": {},
   "outputs": [],
   "source": [
    "def selected_gene_zscores(selected_gene_dataframe, dataset, labels):\n",
    "    \n",
    "    ''' pandas datafram --> pandas datafram\n",
    "    Function takes a datafrom of the selected genes, with Probe_Id and ILMN_Gene\n",
    "    and the input dataset of all z-scores across all 48,000 genes, and returns a melded\n",
    "    dataframe of the selected genes and their Probe_ID names, with z-scores and true class'''\n",
    "    \n",
    "    gene_index_probe = selected_gene_dataframe['Probe_Id'].tolist()\n",
    "    gene_index_common = selected_gene_dataframe['ILMN_Gene'].tolist()\n",
    "    gene_labels_dict = dict(zip(gene_index_probe, gene_index_common))\n",
    "    gene_labels_dict['Class'] = 'Class'\n",
    "    selected_gene_zscores_df = dataset.loc[:, gene_index_probe]\n",
    "    selected_gene_zscores_df['Class'] = labels\n",
    "    selected_gene_zscores_df = selected_gene_zscores_df.rename(columns = gene_labels_dict)\n",
    "    selected_gene_zscores_df = pd.melt(selected_gene_zscores_df, id_vars=['Class'],\n",
    "                                                    value_vars=gene_index_common)\n",
    "    return selected_gene_zscores_df"
   ]
  },
  {
   "cell_type": "code",
   "execution_count": 274,
   "id": "refined-particle",
   "metadata": {},
   "outputs": [
    {
     "data": {
      "image/png": "[encoded data removed]",
      "text/plain": [
       "<Figure size 1080x360 with 1 Axes>"
      ]
     },
     "metadata": {},
     "output_type": "display_data"
    }
   ],
   "source": [
    "selected_gene_zscores_lr = selected_gene_zscores(selected_gene_df, X_df_no75, labels_no75)\n",
    "\n",
    "sns.set_style(\"whitegrid\")\n",
    "lr_gene_plot = sns.catplot(data=selected_gene_zscores_lr,\n",
    "                           x='variable',\n",
    "                           y='value',\n",
    "                           hue='Class',\n",
    "                           kind='strip', \n",
    "                           height = 5,\n",
    "                           aspect = 3,\n",
    "                           legend=True,\n",
    "                           legend_out=False,\n",
    "                           )\n",
    "lr_gene_plot.set(xlabel='ILMN Gene Name', ylabel='z-scored gene expression level')\n",
    "lr_gene_plot._legend.set_title('True Diagnosis')\n",
    "for t, l in zip(lr_gene_plot._legend.texts,(\"Healthy\", \"Infected\")):\n",
    "    t.set_text(l)\n",
    "\n",
    "lr_gene_plot.savefig('lr_gene_plot.png', dpi=400)"
   ]
  },
  {
   "cell_type": "code",
   "execution_count": 322,
   "id": "terminal-sheet",
   "metadata": {},
   "outputs": [
    {
     "data": {
      "text/plain": [
       "<AxesSubplot:>"
      ]
     },
     "execution_count": 322,
     "metadata": {},
     "output_type": "execute_result"
    },
    {
     "data": {
      "image/png": "[encoded data removed]",
      "text/plain": [
       "<Figure size 432x288 with 2 Axes>"
      ]
     },
     "metadata": {},
     "output_type": "display_data"
    }
   ],
   "source": [
    "# Looking at the correlation of the selected genes based on expression levels in the dataset\n",
    "\n",
    "data_selected = np.take(X_df_no75, selected_index, axis=1)\n",
    "\n",
    "corr = data_selected.corr()\n",
    "correlation_heatmap = sns.heatmap(\n",
    "    corr, \n",
    "    vmin=-1, vmax=1, center=0,\n",
    "    linewidths=.5,\n",
    "    cmap=\"YlGnBu\",\n",
    "    square=True\n",
    ")\n",
    "correlation_heatmap.set_xticklabels(\n",
    "    ax.get_xticklabels(),\n",
    "    rotation=45,\n",
    "    horizontalalignment='right'\n",
    ");\n",
    "correlation_heatmap"
   ]
  },
  {
   "cell_type": "code",
   "execution_count": 277,
   "id": "blond-actor",
   "metadata": {},
   "outputs": [
    {
     "data": {
      "text/html": [
       "<div>\n",
       "<style scoped>\n",
       "    .dataframe tbody tr th:only-of-type {\n",
       "        vertical-align: middle;\n",
       "    }\n",
       "\n",
       "    .dataframe tbody tr th {\n",
       "        vertical-align: top;\n",
       "    }\n",
       "\n",
       "    .dataframe thead th {\n",
       "        text-align: right;\n",
       "    }\n",
       "</style>\n",
       "<table border=\"1\" class=\"dataframe\">\n",
       "  <thead>\n",
       "    <tr style=\"text-align: right;\">\n",
       "      <th></th>\n",
       "      <th>Gene</th>\n",
       "      <th>Frequency</th>\n",
       "    </tr>\n",
       "  </thead>\n",
       "  <tbody>\n",
       "    <tr>\n",
       "      <th>0</th>\n",
       "      <td>UBE2Q2</td>\n",
       "      <td>62</td>\n",
       "    </tr>\n",
       "    <tr>\n",
       "      <th>1</th>\n",
       "      <td>ID3</td>\n",
       "      <td>62</td>\n",
       "    </tr>\n",
       "    <tr>\n",
       "      <th>2</th>\n",
       "      <td>HS.276860</td>\n",
       "      <td>61</td>\n",
       "    </tr>\n",
       "    <tr>\n",
       "      <th>3</th>\n",
       "      <td>P2RX1</td>\n",
       "      <td>61</td>\n",
       "    </tr>\n",
       "    <tr>\n",
       "      <th>4</th>\n",
       "      <td>NMT2</td>\n",
       "      <td>60</td>\n",
       "    </tr>\n",
       "    <tr>\n",
       "      <th>5</th>\n",
       "      <td>B4GALT5</td>\n",
       "      <td>59</td>\n",
       "    </tr>\n",
       "    <tr>\n",
       "      <th>6</th>\n",
       "      <td>GSN</td>\n",
       "      <td>58</td>\n",
       "    </tr>\n",
       "    <tr>\n",
       "      <th>7</th>\n",
       "      <td>LRRN3</td>\n",
       "      <td>56</td>\n",
       "    </tr>\n",
       "    <tr>\n",
       "      <th>8</th>\n",
       "      <td>NBEAL2</td>\n",
       "      <td>55</td>\n",
       "    </tr>\n",
       "    <tr>\n",
       "      <th>9</th>\n",
       "      <td>SLC2A3</td>\n",
       "      <td>53</td>\n",
       "    </tr>\n",
       "    <tr>\n",
       "      <th>10</th>\n",
       "      <td>C20ORF100</td>\n",
       "      <td>52</td>\n",
       "    </tr>\n",
       "    <tr>\n",
       "      <th>11</th>\n",
       "      <td>TMED4</td>\n",
       "      <td>51</td>\n",
       "    </tr>\n",
       "    <tr>\n",
       "      <th>12</th>\n",
       "      <td>LATS2</td>\n",
       "      <td>49</td>\n",
       "    </tr>\n",
       "    <tr>\n",
       "      <th>13</th>\n",
       "      <td>CCDC16</td>\n",
       "      <td>44</td>\n",
       "    </tr>\n",
       "    <tr>\n",
       "      <th>14</th>\n",
       "      <td>PSTPIP2</td>\n",
       "      <td>36</td>\n",
       "    </tr>\n",
       "    <tr>\n",
       "      <th>15</th>\n",
       "      <td>FCGBP</td>\n",
       "      <td>29</td>\n",
       "    </tr>\n",
       "    <tr>\n",
       "      <th>16</th>\n",
       "      <td>CD3G</td>\n",
       "      <td>26</td>\n",
       "    </tr>\n",
       "    <tr>\n",
       "      <th>17</th>\n",
       "      <td>PKIA</td>\n",
       "      <td>24</td>\n",
       "    </tr>\n",
       "    <tr>\n",
       "      <th>18</th>\n",
       "      <td>P2RY10</td>\n",
       "      <td>23</td>\n",
       "    </tr>\n",
       "    <tr>\n",
       "      <th>19</th>\n",
       "      <td>LRRN3</td>\n",
       "      <td>23</td>\n",
       "    </tr>\n",
       "  </tbody>\n",
       "</table>\n",
       "</div>"
      ],
      "text/plain": [
       "         Gene  Frequency\n",
       "0      UBE2Q2         62\n",
       "1         ID3         62\n",
       "2   HS.276860         61\n",
       "3       P2RX1         61\n",
       "4        NMT2         60\n",
       "5     B4GALT5         59\n",
       "6         GSN         58\n",
       "7       LRRN3         56\n",
       "8      NBEAL2         55\n",
       "9      SLC2A3         53\n",
       "10  C20ORF100         52\n",
       "11      TMED4         51\n",
       "12      LATS2         49\n",
       "13     CCDC16         44\n",
       "14    PSTPIP2         36\n",
       "15      FCGBP         29\n",
       "16       CD3G         26\n",
       "17       PKIA         24\n",
       "18     P2RY10         23\n",
       "19      LRRN3         23"
      ]
     },
     "execution_count": 277,
     "metadata": {},
     "output_type": "execute_result"
    }
   ],
   "source": [
    "# tally of gene selection frequencies in logistic regression training rounds\n",
    "import operator\n",
    "\n",
    "def gene_freq(features_index_list, n_listed):\n",
    "    \n",
    "    gene_frequency={}\n",
    "    for ix_list in features_index_list:\n",
    "        for ix in ix_list:\n",
    "            if ix not in gene_frequency: gene_frequency[ix]=1\n",
    "            else: gene_frequency[ix]+=1\n",
    "\n",
    "    sorted_list = sorted(gene_frequency.items(), key=operator.itemgetter(1), reverse=True)\n",
    "    bar_gene_names = []\n",
    "    bar_gene_frequency = []\n",
    "    for ix, frequency in sorted_list[:n_listed]:\n",
    "        bar_gene_names.append(ix)\n",
    "        bar_gene_frequency.append(frequency)\n",
    "    bar_gene_names = gene_df.iloc[bar_gene_names, 1].tolist()\n",
    "    bar_gene_freq_data = {'Gene': pd.Series(data=bar_gene_names),\n",
    "                          'Frequency': pd.Series(data=bar_gene_frequency)}\n",
    "    bar_gene_freq_df = pd.DataFrame(data=bar_gene_freq_data)\n",
    "    return bar_gene_freq_df\n",
    "\n",
    "bar_gene_freq_df = gene_freq(features_index_list, 20)\n",
    "bar_gene_freq_df"
   ]
  },
  {
   "cell_type": "markdown",
   "id": "organized-rider",
   "metadata": {},
   "source": [
    "### Saving Model Results"
   ]
  },
  {
   "cell_type": "code",
   "execution_count": 278,
   "id": "closed-green",
   "metadata": {},
   "outputs": [],
   "source": [
    "# saving down results of the model:\n",
    "\n",
    "with open('lr_results_new.pkl', 'wb') as f:\n",
    "    pickle.dump([y_val_classes, y_val_predictions, features_index_list, selected_index, best_parameter], f)\n",
    "\n",
    "with open('lr_results_new_final_model.pkl', 'wb') as f:\n",
    "    pickle.dump([final_model], f)"
   ]
  },
  {
   "cell_type": "code",
   "execution_count": 373,
   "id": "hearing-behalf",
   "metadata": {},
   "outputs": [],
   "source": [
    "# retriving saved results:\n",
    "\n",
    "#with open('lr_results_new.pkl', 'rb') as f:\n",
    "#    y_val_classes, y_val_predictions, features_index_list, selected_index, best_parameter = pickle.load(f)\n"
   ]
  },
  {
   "cell_type": "markdown",
   "id": "negative-wheel",
   "metadata": {},
   "source": [
    "### Reducing the number of features to smaller set\n",
    "- Goal - use the features from LASSO to discover the minimal set\n",
    "- Use RFE, or other sequential search over the remaining features to find small set"
   ]
  },
  {
   "cell_type": "code",
   "execution_count": 279,
   "id": "employed-premises",
   "metadata": {},
   "outputs": [
    {
     "data": {
      "text/html": [
       "<div>\n",
       "<style scoped>\n",
       "    .dataframe tbody tr th:only-of-type {\n",
       "        vertical-align: middle;\n",
       "    }\n",
       "\n",
       "    .dataframe tbody tr th {\n",
       "        vertical-align: top;\n",
       "    }\n",
       "\n",
       "    .dataframe thead th {\n",
       "        text-align: right;\n",
       "    }\n",
       "</style>\n",
       "<table border=\"1\" class=\"dataframe\">\n",
       "  <thead>\n",
       "    <tr style=\"text-align: right;\">\n",
       "      <th></th>\n",
       "      <th>ILMN_1656378</th>\n",
       "      <th>ILMN_1795922</th>\n",
       "      <th>ILMN_1821176</th>\n",
       "      <th>ILMN_1683817</th>\n",
       "      <th>ILMN_1775708</th>\n",
       "      <th>ILMN_2321578</th>\n",
       "      <th>ILMN_1717197</th>\n",
       "      <th>ILMN_2082209</th>\n",
       "      <th>ILMN_1796316</th>\n",
       "      <th>ILMN_1732296</th>\n",
       "      <th>...</th>\n",
       "      <th>ILMN_1703412</th>\n",
       "      <th>ILMN_1660629</th>\n",
       "      <th>ILMN_1801043</th>\n",
       "      <th>ILMN_2306540</th>\n",
       "      <th>ILMN_1808707</th>\n",
       "      <th>ILMN_1780368</th>\n",
       "      <th>ILMN_1804148</th>\n",
       "      <th>ILMN_1713058</th>\n",
       "      <th>ILMN_1758529</th>\n",
       "      <th>ILMN_1773650</th>\n",
       "    </tr>\n",
       "  </thead>\n",
       "  <tbody>\n",
       "    <tr>\n",
       "      <th>Con_001</th>\n",
       "      <td>1.370874</td>\n",
       "      <td>1.056878</td>\n",
       "      <td>1.614093</td>\n",
       "      <td>0.535055</td>\n",
       "      <td>-1.178336</td>\n",
       "      <td>1.172367</td>\n",
       "      <td>0.674261</td>\n",
       "      <td>1.049911</td>\n",
       "      <td>-1.308310</td>\n",
       "      <td>0.813338</td>\n",
       "      <td>...</td>\n",
       "      <td>-1.488621</td>\n",
       "      <td>-1.150826</td>\n",
       "      <td>-0.496556</td>\n",
       "      <td>0.346178</td>\n",
       "      <td>-0.015453</td>\n",
       "      <td>1.157559</td>\n",
       "      <td>1.004553</td>\n",
       "      <td>-0.887268</td>\n",
       "      <td>-1.301886</td>\n",
       "      <td>0.771386</td>\n",
       "    </tr>\n",
       "    <tr>\n",
       "      <th>Con_017</th>\n",
       "      <td>1.099632</td>\n",
       "      <td>1.026903</td>\n",
       "      <td>1.169858</td>\n",
       "      <td>0.959803</td>\n",
       "      <td>-1.088550</td>\n",
       "      <td>1.120675</td>\n",
       "      <td>0.918044</td>\n",
       "      <td>0.870512</td>\n",
       "      <td>-1.015675</td>\n",
       "      <td>0.853618</td>\n",
       "      <td>...</td>\n",
       "      <td>-0.712724</td>\n",
       "      <td>-1.032785</td>\n",
       "      <td>-0.915612</td>\n",
       "      <td>0.819292</td>\n",
       "      <td>-0.630995</td>\n",
       "      <td>0.639991</td>\n",
       "      <td>0.640210</td>\n",
       "      <td>-0.760280</td>\n",
       "      <td>-1.003785</td>\n",
       "      <td>0.448114</td>\n",
       "    </tr>\n",
       "    <tr>\n",
       "      <th>Con_021</th>\n",
       "      <td>0.456435</td>\n",
       "      <td>1.137899</td>\n",
       "      <td>0.652904</td>\n",
       "      <td>0.983147</td>\n",
       "      <td>-0.972075</td>\n",
       "      <td>0.584249</td>\n",
       "      <td>0.972777</td>\n",
       "      <td>0.202336</td>\n",
       "      <td>-0.754332</td>\n",
       "      <td>0.962225</td>\n",
       "      <td>...</td>\n",
       "      <td>-0.213277</td>\n",
       "      <td>-0.785229</td>\n",
       "      <td>-0.834481</td>\n",
       "      <td>1.867031</td>\n",
       "      <td>-0.686394</td>\n",
       "      <td>0.530927</td>\n",
       "      <td>0.236452</td>\n",
       "      <td>-0.820074</td>\n",
       "      <td>0.019714</td>\n",
       "      <td>0.752976</td>\n",
       "    </tr>\n",
       "    <tr>\n",
       "      <th>Con_022b</th>\n",
       "      <td>0.836831</td>\n",
       "      <td>0.775232</td>\n",
       "      <td>0.627705</td>\n",
       "      <td>0.685178</td>\n",
       "      <td>-1.158384</td>\n",
       "      <td>0.347639</td>\n",
       "      <td>0.164157</td>\n",
       "      <td>1.417201</td>\n",
       "      <td>-1.187304</td>\n",
       "      <td>1.334379</td>\n",
       "      <td>...</td>\n",
       "      <td>-0.569639</td>\n",
       "      <td>-0.732739</td>\n",
       "      <td>-1.048188</td>\n",
       "      <td>1.736880</td>\n",
       "      <td>-0.746765</td>\n",
       "      <td>0.637264</td>\n",
       "      <td>0.632451</td>\n",
       "      <td>-0.774476</td>\n",
       "      <td>-0.381294</td>\n",
       "      <td>0.974598</td>\n",
       "    </tr>\n",
       "    <tr>\n",
       "      <th>Con_028</th>\n",
       "      <td>1.127529</td>\n",
       "      <td>0.827466</td>\n",
       "      <td>1.028380</td>\n",
       "      <td>0.818979</td>\n",
       "      <td>-0.926798</td>\n",
       "      <td>1.161558</td>\n",
       "      <td>0.954063</td>\n",
       "      <td>1.367781</td>\n",
       "      <td>-0.424781</td>\n",
       "      <td>0.860908</td>\n",
       "      <td>...</td>\n",
       "      <td>-0.668449</td>\n",
       "      <td>-0.957957</td>\n",
       "      <td>-0.655215</td>\n",
       "      <td>0.564427</td>\n",
       "      <td>-0.113940</td>\n",
       "      <td>1.451228</td>\n",
       "      <td>1.269587</td>\n",
       "      <td>-0.571689</td>\n",
       "      <td>-1.120104</td>\n",
       "      <td>0.220009</td>\n",
       "    </tr>\n",
       "    <tr>\n",
       "      <th>...</th>\n",
       "      <td>...</td>\n",
       "      <td>...</td>\n",
       "      <td>...</td>\n",
       "      <td>...</td>\n",
       "      <td>...</td>\n",
       "      <td>...</td>\n",
       "      <td>...</td>\n",
       "      <td>...</td>\n",
       "      <td>...</td>\n",
       "      <td>...</td>\n",
       "      <td>...</td>\n",
       "      <td>...</td>\n",
       "      <td>...</td>\n",
       "      <td>...</td>\n",
       "      <td>...</td>\n",
       "      <td>...</td>\n",
       "      <td>...</td>\n",
       "      <td>...</td>\n",
       "      <td>...</td>\n",
       "      <td>...</td>\n",
       "      <td>...</td>\n",
       "    </tr>\n",
       "    <tr>\n",
       "      <th>Inf_162a</th>\n",
       "      <td>-0.825954</td>\n",
       "      <td>-0.638636</td>\n",
       "      <td>-1.510790</td>\n",
       "      <td>-0.339113</td>\n",
       "      <td>2.083386</td>\n",
       "      <td>-1.076721</td>\n",
       "      <td>-1.363941</td>\n",
       "      <td>-1.100283</td>\n",
       "      <td>1.771563</td>\n",
       "      <td>-1.398828</td>\n",
       "      <td>...</td>\n",
       "      <td>0.207338</td>\n",
       "      <td>0.969884</td>\n",
       "      <td>0.778481</td>\n",
       "      <td>-1.350144</td>\n",
       "      <td>1.338976</td>\n",
       "      <td>-1.500534</td>\n",
       "      <td>-0.989717</td>\n",
       "      <td>1.648290</td>\n",
       "      <td>0.811240</td>\n",
       "      <td>-1.451326</td>\n",
       "    </tr>\n",
       "    <tr>\n",
       "      <th>Inf_164</th>\n",
       "      <td>-0.901490</td>\n",
       "      <td>-1.549756</td>\n",
       "      <td>-0.873117</td>\n",
       "      <td>-1.481453</td>\n",
       "      <td>1.663446</td>\n",
       "      <td>-0.853974</td>\n",
       "      <td>-0.797092</td>\n",
       "      <td>-1.127764</td>\n",
       "      <td>1.398762</td>\n",
       "      <td>-0.856165</td>\n",
       "      <td>...</td>\n",
       "      <td>0.668989</td>\n",
       "      <td>1.823149</td>\n",
       "      <td>2.047609</td>\n",
       "      <td>-0.356423</td>\n",
       "      <td>0.130856</td>\n",
       "      <td>-0.462509</td>\n",
       "      <td>-1.806232</td>\n",
       "      <td>1.975226</td>\n",
       "      <td>0.597856</td>\n",
       "      <td>-0.700280</td>\n",
       "    </tr>\n",
       "    <tr>\n",
       "      <th>Inf_191</th>\n",
       "      <td>-1.507920</td>\n",
       "      <td>-0.986761</td>\n",
       "      <td>-1.521589</td>\n",
       "      <td>-1.411800</td>\n",
       "      <td>0.795000</td>\n",
       "      <td>-1.340352</td>\n",
       "      <td>-1.477331</td>\n",
       "      <td>-1.192518</td>\n",
       "      <td>1.703072</td>\n",
       "      <td>-1.449733</td>\n",
       "      <td>...</td>\n",
       "      <td>0.916282</td>\n",
       "      <td>2.240748</td>\n",
       "      <td>1.433003</td>\n",
       "      <td>-1.409600</td>\n",
       "      <td>1.305121</td>\n",
       "      <td>-1.640552</td>\n",
       "      <td>-1.057682</td>\n",
       "      <td>0.890660</td>\n",
       "      <td>0.609939</td>\n",
       "      <td>-1.819199</td>\n",
       "    </tr>\n",
       "    <tr>\n",
       "      <th>Inf_198</th>\n",
       "      <td>-0.980602</td>\n",
       "      <td>-1.143461</td>\n",
       "      <td>-0.842518</td>\n",
       "      <td>-1.541616</td>\n",
       "      <td>1.179725</td>\n",
       "      <td>-0.763512</td>\n",
       "      <td>-0.648085</td>\n",
       "      <td>-0.755992</td>\n",
       "      <td>1.596246</td>\n",
       "      <td>-1.089193</td>\n",
       "      <td>...</td>\n",
       "      <td>1.529657</td>\n",
       "      <td>0.588295</td>\n",
       "      <td>1.419890</td>\n",
       "      <td>-0.415154</td>\n",
       "      <td>-0.443255</td>\n",
       "      <td>-0.633001</td>\n",
       "      <td>-0.083202</td>\n",
       "      <td>1.301222</td>\n",
       "      <td>0.554568</td>\n",
       "      <td>-0.285644</td>\n",
       "    </tr>\n",
       "    <tr>\n",
       "      <th>Inf_203</th>\n",
       "      <td>-1.181601</td>\n",
       "      <td>-1.454192</td>\n",
       "      <td>-0.940316</td>\n",
       "      <td>-1.504228</td>\n",
       "      <td>1.552002</td>\n",
       "      <td>-1.267278</td>\n",
       "      <td>-1.066028</td>\n",
       "      <td>-1.109600</td>\n",
       "      <td>1.642947</td>\n",
       "      <td>-1.091170</td>\n",
       "      <td>...</td>\n",
       "      <td>0.586378</td>\n",
       "      <td>1.347689</td>\n",
       "      <td>0.618092</td>\n",
       "      <td>-1.736973</td>\n",
       "      <td>1.664739</td>\n",
       "      <td>-1.208148</td>\n",
       "      <td>-0.834855</td>\n",
       "      <td>1.064194</td>\n",
       "      <td>1.326841</td>\n",
       "      <td>-1.129610</td>\n",
       "    </tr>\n",
       "  </tbody>\n",
       "</table>\n",
       "<p>62 rows × 21 columns</p>\n",
       "</div>"
      ],
      "text/plain": [
       "          ILMN_1656378  ILMN_1795922  ILMN_1821176  ILMN_1683817  \\\n",
       "Con_001       1.370874      1.056878      1.614093      0.535055   \n",
       "Con_017       1.099632      1.026903      1.169858      0.959803   \n",
       "Con_021       0.456435      1.137899      0.652904      0.983147   \n",
       "Con_022b      0.836831      0.775232      0.627705      0.685178   \n",
       "Con_028       1.127529      0.827466      1.028380      0.818979   \n",
       "...                ...           ...           ...           ...   \n",
       "Inf_162a     -0.825954     -0.638636     -1.510790     -0.339113   \n",
       "Inf_164      -0.901490     -1.549756     -0.873117     -1.481453   \n",
       "Inf_191      -1.507920     -0.986761     -1.521589     -1.411800   \n",
       "Inf_198      -0.980602     -1.143461     -0.842518     -1.541616   \n",
       "Inf_203      -1.181601     -1.454192     -0.940316     -1.504228   \n",
       "\n",
       "          ILMN_1775708  ILMN_2321578  ILMN_1717197  ILMN_2082209  \\\n",
       "Con_001      -1.178336      1.172367      0.674261      1.049911   \n",
       "Con_017      -1.088550      1.120675      0.918044      0.870512   \n",
       "Con_021      -0.972075      0.584249      0.972777      0.202336   \n",
       "Con_022b     -1.158384      0.347639      0.164157      1.417201   \n",
       "Con_028      -0.926798      1.161558      0.954063      1.367781   \n",
       "...                ...           ...           ...           ...   \n",
       "Inf_162a      2.083386     -1.076721     -1.363941     -1.100283   \n",
       "Inf_164       1.663446     -0.853974     -0.797092     -1.127764   \n",
       "Inf_191       0.795000     -1.340352     -1.477331     -1.192518   \n",
       "Inf_198       1.179725     -0.763512     -0.648085     -0.755992   \n",
       "Inf_203       1.552002     -1.267278     -1.066028     -1.109600   \n",
       "\n",
       "          ILMN_1796316  ILMN_1732296  ...  ILMN_1703412  ILMN_1660629  \\\n",
       "Con_001      -1.308310      0.813338  ...     -1.488621     -1.150826   \n",
       "Con_017      -1.015675      0.853618  ...     -0.712724     -1.032785   \n",
       "Con_021      -0.754332      0.962225  ...     -0.213277     -0.785229   \n",
       "Con_022b     -1.187304      1.334379  ...     -0.569639     -0.732739   \n",
       "Con_028      -0.424781      0.860908  ...     -0.668449     -0.957957   \n",
       "...                ...           ...  ...           ...           ...   \n",
       "Inf_162a      1.771563     -1.398828  ...      0.207338      0.969884   \n",
       "Inf_164       1.398762     -0.856165  ...      0.668989      1.823149   \n",
       "Inf_191       1.703072     -1.449733  ...      0.916282      2.240748   \n",
       "Inf_198       1.596246     -1.089193  ...      1.529657      0.588295   \n",
       "Inf_203       1.642947     -1.091170  ...      0.586378      1.347689   \n",
       "\n",
       "          ILMN_1801043  ILMN_2306540  ILMN_1808707  ILMN_1780368  \\\n",
       "Con_001      -0.496556      0.346178     -0.015453      1.157559   \n",
       "Con_017      -0.915612      0.819292     -0.630995      0.639991   \n",
       "Con_021      -0.834481      1.867031     -0.686394      0.530927   \n",
       "Con_022b     -1.048188      1.736880     -0.746765      0.637264   \n",
       "Con_028      -0.655215      0.564427     -0.113940      1.451228   \n",
       "...                ...           ...           ...           ...   \n",
       "Inf_162a      0.778481     -1.350144      1.338976     -1.500534   \n",
       "Inf_164       2.047609     -0.356423      0.130856     -0.462509   \n",
       "Inf_191       1.433003     -1.409600      1.305121     -1.640552   \n",
       "Inf_198       1.419890     -0.415154     -0.443255     -0.633001   \n",
       "Inf_203       0.618092     -1.736973      1.664739     -1.208148   \n",
       "\n",
       "          ILMN_1804148  ILMN_1713058  ILMN_1758529  ILMN_1773650  \n",
       "Con_001       1.004553     -0.887268     -1.301886      0.771386  \n",
       "Con_017       0.640210     -0.760280     -1.003785      0.448114  \n",
       "Con_021       0.236452     -0.820074      0.019714      0.752976  \n",
       "Con_022b      0.632451     -0.774476     -0.381294      0.974598  \n",
       "Con_028       1.269587     -0.571689     -1.120104      0.220009  \n",
       "...                ...           ...           ...           ...  \n",
       "Inf_162a     -0.989717      1.648290      0.811240     -1.451326  \n",
       "Inf_164      -1.806232      1.975226      0.597856     -0.700280  \n",
       "Inf_191      -1.057682      0.890660      0.609939     -1.819199  \n",
       "Inf_198      -0.083202      1.301222      0.554568     -0.285644  \n",
       "Inf_203      -0.834855      1.064194      1.326841     -1.129610  \n",
       "\n",
       "[62 rows x 21 columns]"
      ]
     },
     "execution_count": 279,
     "metadata": {},
     "output_type": "execute_result"
    }
   ],
   "source": [
    "X_train = np.take(X_df_no75, selected_index, axis=1)\n",
    "y_train = labels\n",
    "X_train"
   ]
  },
  {
   "cell_type": "code",
   "execution_count": 289,
   "id": "cooperative-algorithm",
   "metadata": {},
   "outputs": [
    {
     "name": "stdout",
     "output_type": "stream",
     "text": [
      "Parameters:{'n_features_to_select': 10}  Score:1.0  Index:[False  True False  True False False False  True False False  True  True\n",
      "  True False  True  True False  True False  True False]\n",
      "Parameters:{'n_features_to_select': 9}  Score:1.0  Index:[False  True False  True False False False  True False False  True  True\n",
      "  True False False  True False  True False  True False]\n",
      "Parameters:{'n_features_to_select': 8}  Score:1.0  Index:[False  True False  True False False False  True False False  True  True\n",
      " False False False  True False  True False  True False]\n",
      "Parameters:{'n_features_to_select': 7}  Score:1.0  Index:[False False False  True False False False  True False False  True  True\n",
      " False False False  True False  True False  True False]\n",
      "Parameters:{'n_features_to_select': 6}  Score:1.0  Index:[False False False  True False False False  True False False  True  True\n",
      " False False False  True False False False  True False]\n",
      "Parameters:{'n_features_to_select': 5}  Score:1.0  Index:[False False False  True False False False  True False False  True  True\n",
      " False False False  True False False False False False]\n",
      "Parameters:{'n_features_to_select': 4}  Score:1.0  Index:[False False False  True False False False False False False  True  True\n",
      " False False False  True False False False False False]\n",
      "Parameters:{'n_features_to_select': 3}  Score:0.9814814814814814  Index:[False False False  True False False False False False False  True  True\n",
      " False False False False False False False False False]\n",
      "Parameters:{'n_features_to_select': 2}  Score:0.9529100529100528  Index:[False False False False False False False False False False  True  True\n",
      " False False False False False False False False False]\n",
      "Parameters:{'n_features_to_select': 1}  Score:0.9015873015873015  Index:[False False False False False False False False False False  True False\n",
      " False False False False False False False False False]\n"
     ]
    }
   ],
   "source": [
    "from sklearn.model_selection import ParameterGrid\n",
    "from sklearn.feature_selection import RFE\n",
    "from sklearn.pipeline import Pipeline\n",
    "from sklearn.model_selection import LeaveOneOut\n",
    "\n",
    "rfe_n_features= []\n",
    "rfe_n_score= []\n",
    "rfe_n_index= []\n",
    "\n",
    "# define pipeline and perform search\n",
    "n_features_to_select = [10,9,8,7,6,5,4,3,2,1]\n",
    "param_grid = {'n_features_to_select': n_features_to_select}\n",
    "\n",
    "for param in ParameterGrid(param_grid):\n",
    "\n",
    "    # fit model      \n",
    "    cv_inner = LeaveOneOut()\n",
    "    y_val_classes = []\n",
    "    y_val_predictions = []\n",
    "    for train_index, val_index in cv_inner.split(X_train):\n",
    "\n",
    "        X_train_inner, X_val = X_train.iloc[train_index, :], X_train.iloc[val_index, :]\n",
    "        y_train_inner, y_val = y_train[train_index], y_train[val_index]                \n",
    "\n",
    "        # define the pipeline\n",
    "        model = LogisticRegression(penalty='none', solver=\"lbfgs\")\n",
    "        rfe = RFE(estimator=model, n_features_to_select=20, step=1)\n",
    "        rfe.set_params(**param)\n",
    "        lr_pipeline = Pipeline(steps=[('rfe', rfe),\n",
    "                                       ('model', model)])\n",
    "\n",
    "        lr_pipeline.fit(X_train_inner, y_train_inner)\n",
    "\n",
    "        y_val_pred = lr_pipeline.predict(X_val)\n",
    "        y_val_classes.append(y_val)\n",
    "        y_val_predictions.append(y_val_pred)\n",
    "        index = lr_pipeline.named_steps['rfe'].support_\n",
    "    score = roc_auc_score(y_val_classes, y_val_predictions)\n",
    "\n",
    "    print('Parameters:'+str(param)+'  Score:'+str(score)+'  Index:'+str(index))\n",
    "    rfe_n_features.append(param['n_features_to_select'])\n",
    "    rfe_n_score.append(score)\n",
    "    rfe_n_index.append(index)\n",
    "\n",
    "rfe_n_features = np.asarray(rfe_n_features)  \n",
    "rfe_n_score = np.asarray(rfe_n_score)  \n",
    "rfe_n_index = np.asarray(rfe_n_index)\n",
    "    \n",
    "#cv_res = np.asarray(cv_res)    \n",
    "#best_n_features = int(cv_res[np.argmax(cv_res[:,1])][0])\n"
   ]
  },
  {
   "cell_type": "code",
   "execution_count": 319,
   "id": "paperback-orientation",
   "metadata": {},
   "outputs": [
    {
     "data": {
      "text/plain": [
       "<AxesSubplot:xlabel='Features', ylabel='AUC'>"
      ]
     },
     "execution_count": 319,
     "metadata": {},
     "output_type": "execute_result"
    },
    {
     "data": {
      "image/png": "[encoded data removed]",
      "text/plain": [
       "<Figure size 432x288 with 1 Axes>"
      ]
     },
     "metadata": {},
     "output_type": "display_data"
    }
   ],
   "source": [
    "\n",
    "line_rfe_data = {'Features': pd.Series(data=rfe_n_features),\n",
    "                          'AUC': pd.Series(data=rfe_n_score)}\n",
    "line_rfe_data_df = pd.DataFrame(data=line_rfe_data)\n",
    "\n",
    "\n",
    "auc_plot = sns.lineplot(x=\"Features\", y=\"AUC\",\n",
    "             data=line_rfe_data_df)\n",
    "auc_plot.set(xlim=(1, 10), ylim=(0.5, 1.1))\n",
    "auc_plot"
   ]
  },
  {
   "cell_type": "code",
   "execution_count": 317,
   "id": "informed-consolidation",
   "metadata": {},
   "outputs": [
    {
     "data": {
      "text/html": [
       "<div>\n",
       "<style scoped>\n",
       "    .dataframe tbody tr th:only-of-type {\n",
       "        vertical-align: middle;\n",
       "    }\n",
       "\n",
       "    .dataframe tbody tr th {\n",
       "        vertical-align: top;\n",
       "    }\n",
       "\n",
       "    .dataframe thead th {\n",
       "        text-align: right;\n",
       "    }\n",
       "</style>\n",
       "<table border=\"1\" class=\"dataframe\">\n",
       "  <thead>\n",
       "    <tr style=\"text-align: right;\">\n",
       "      <th></th>\n",
       "      <th>Probe_Id</th>\n",
       "      <th>ILMN_Gene</th>\n",
       "    </tr>\n",
       "  </thead>\n",
       "  <tbody>\n",
       "    <tr>\n",
       "      <th>11732</th>\n",
       "      <td>ILMN_1683817</td>\n",
       "      <td>UBE2Q2</td>\n",
       "    </tr>\n",
       "    <tr>\n",
       "      <th>23051</th>\n",
       "      <td>ILMN_1685824</td>\n",
       "      <td>B4GALT5</td>\n",
       "    </tr>\n",
       "    <tr>\n",
       "      <th>30201</th>\n",
       "      <td>ILMN_1703412</td>\n",
       "      <td>LATS2</td>\n",
       "    </tr>\n",
       "    <tr>\n",
       "      <th>36716</th>\n",
       "      <td>ILMN_1808707</td>\n",
       "      <td>FSCN1</td>\n",
       "    </tr>\n",
       "  </tbody>\n",
       "</table>\n",
       "</div>"
      ],
      "text/plain": [
       "           Probe_Id ILMN_Gene\n",
       "11732  ILMN_1683817    UBE2Q2\n",
       "23051  ILMN_1685824   B4GALT5\n",
       "30201  ILMN_1703412     LATS2\n",
       "36716  ILMN_1808707     FSCN1"
      ]
     },
     "execution_count": 317,
     "metadata": {},
     "output_type": "execute_result"
    }
   ],
   "source": [
    "final_genes_index = np.where(rfe_n_index[6])[0]\n",
    "final_genes = np.take(X_train, final_genes_index, axis=1)\n",
    "final_genes_df = selected_gene_df[selected_gene_df['Probe_Id'].isin(final_genes.columns)]"
   ]
  },
  {
   "cell_type": "markdown",
   "id": "embedded-insulin",
   "metadata": {},
   "source": [
    "# Not used"
   ]
  },
  {
   "cell_type": "markdown",
   "id": "modified-chair",
   "metadata": {},
   "source": [
    "### Functions to extract genes from final models and plot them"
   ]
  },
  {
   "cell_type": "code",
   "execution_count": 118,
   "id": "social-sussex",
   "metadata": {},
   "outputs": [],
   "source": [
    "# select features and match to common gene names for models that output coefficients\n",
    "\n",
    "from matplotlib import pyplot\n",
    "\n",
    "# identify genes where model outputs coefficients\n",
    "\n",
    "def identify_genes_from_coefs(selected_features, dataset, gene_df):\n",
    "    selected_gene_list = list(zip(dataset.columns, selected_features))\n",
    "\n",
    "    selected_gene_codes = []\n",
    "    selected_gene_coefficients = []\n",
    "    for gene in selected_gene_list:\n",
    "        if gene[1] != 0:\n",
    "            selected_gene_codes.append(gene[0])\n",
    "            selected_gene_coefficients.append(gene[1])\n",
    "\n",
    "    # identify common gene codes\n",
    "    selected_gene_df = gene_df[gene_df['Probe_Id'].isin(selected_gene_codes)].iloc[:, np.r_[10, 1]]\n",
    "    selected_gene_codes_common = list(selected_gene_df.iloc[:,1])\n",
    "\n",
    "    # zip features importances with common names\n",
    "\n",
    "    selected_gene_final = list(zip(selected_gene_codes_common, selected_gene_coefficients))\n",
    "    selected_gene_final = sorted(selected_gene_final, key = lambda x: x[1])\n",
    "    \n",
    "    return selected_gene_final, selected_gene_df\n",
    "\n",
    "# function to extract genes using feature importances data\n",
    "\n",
    "def select_genes_fi(selected_features, dataset, gene_df):\n",
    "\n",
    "    selected_gene_list = list(zip(dataset.columns, selected_features))\n",
    "\n",
    "    selected_gene_codes = []\n",
    "    selected_gene_coefficients = []\n",
    "    for gene in selected_gene_list:\n",
    "        if gene[1] > 0:\n",
    "            selected_gene_codes.append(gene[0])\n",
    "            selected_gene_coefficients.append(gene[1])\n",
    "\n",
    "    # identify common gene codes\n",
    "    selected_gene_df = gene_df[gene_df['Probe_Id'].isin(selected_gene_codes)].iloc[:, np.r_[14, 5]]\n",
    "    selected_gene_codes_common = list(selected_gene_df.iloc[:,1])\n",
    "\n",
    "    # zip features importances with common names\n",
    "\n",
    "    selected_gene_final = list(zip(selected_gene_codes_common, selected_gene_coefficients))\n",
    "    selected_gene_final = sorted(selected_gene_final, key = lambda x: x[1])\n",
    "    \n",
    "    return selected_gene_final\n",
    "\n",
    "# plot_of genes vs. coefficients\n",
    "\n",
    "def plot_genes(features_sorted, model):\n",
    "    pyplot.bar(range(len(features_sorted)), [val[1] for val in features_sorted])\n",
    "    pyplot.xticks(range(len(features_sorted)), [val[0] for val in features_sorted])\n",
    "    plt.title(model)\n",
    "    pyplot.xticks(rotation=70)"
   ]
  },
  {
   "cell_type": "markdown",
   "id": "charged-booth",
   "metadata": {},
   "source": [
    "### i. LR - Optimise for performance, regardless of number of features"
   ]
  },
  {
   "cell_type": "code",
   "execution_count": 766,
   "id": "separate-panama",
   "metadata": {},
   "outputs": [],
   "source": [
    "# cross validation functions for logistic regression - no constraint on number of features.\n",
    "\n",
    "def nested_cv_lr(df, labels, n_repeats):\n",
    "\n",
    "    # configure the cross-validation procedure\n",
    "    cv_outer = RepeatedKFold(n_splits=3, n_repeats=n_repeats)\n",
    "\n",
    "    # lists to collect scores from each outer fold\n",
    "    scores_list = []\n",
    "    best_parameters_list = []\n",
    "    mis_classified_list = []\n",
    "    selected_features_list = []\n",
    "\n",
    "    # create inner loop for hyper parameter optimisation\n",
    "    for train_ix, test_ix in cv_outer.split(df):\n",
    "\n",
    "        # split data\n",
    "        X_train, X_test = df.iloc[train_ix, :], df.iloc[test_ix, :]\n",
    "        y_train, y_test = labels[train_ix], labels[test_ix]\n",
    "\n",
    "        model, best_parameter = train_lr_baysian(X_train, y_train)\n",
    "\n",
    "        # predict on the test set and store the selected features\n",
    "        y_pred = model.predict(X_test)\n",
    "        y_pred_probab = model.predict_proba(X_test)\n",
    "        \n",
    "        # evaluate the model\n",
    "        scores = score_model(y_pred, y_pred_probab, y_test)\n",
    "        mis_classified = mis_class_points(X_test, y_pred, y_test)\n",
    "        selected_features = model.coef_[0]\n",
    "\n",
    "        # add scores for this train test split to lists collecting scores for all splits\n",
    "        scores_list.append(scores)\n",
    "        best_parameters_list.append(best_parameter)\n",
    "        mis_classified_list.append(mis_classified)\n",
    "        selected_features_list.append(selected_features)\n",
    "\n",
    "    return scores_list, best_parameters_list, mis_classified_list, selected_features_list\n",
    "\n",
    "def train_lr_baysian(X_train, y_train):\n",
    "    # define cross validation approach\n",
    "    cv_inner = LeaveOneOut()\n",
    "\n",
    "    # define hyper paramaeter search space\n",
    "    hyper_p_c = Real(low=1e-6, high=1000.0, prior='log-uniform', name='C')\n",
    "    search_space_lr = [hyper_p_c]\n",
    "\n",
    "    # define the objective function to optimise over the hyper-parameter search space. Here we want to minimise 1- the \n",
    "    # accuracy score - balancing recall and precision in the model.\n",
    "    @use_named_args(search_space_lr)\n",
    "    def evaluate_model(**params):\n",
    "        cv_inner = LeaveOneOut()\n",
    "        y_val_classes = []\n",
    "        y_val_predictions = []\n",
    "        for train_index, val_index in cv_inner.split(X_train):\n",
    "\n",
    "            X_train_inner, X_val = X_train.iloc[train_index, :], X_train.iloc[val_index, :]\n",
    "            y_train_inner, y_val = y_train[train_index], y_train[val_index]         \n",
    "       \n",
    "            # define the model\n",
    "            model = LogisticRegression(penalty='l1', solver=\"liblinear\")\n",
    "            model.set_params(**params)\n",
    "            model.fit(X_train_inner, y_train_inner)\n",
    "\n",
    "            y_val_pred = model.predict(X_val)\n",
    "            y_val_classes.append(y_val)\n",
    "            y_val_predictions.append(y_val_pred)\n",
    "            \n",
    "        score = accuracy_score(y_val_classes, y_val_predictions)\n",
    "        return 1.0 - score\n",
    "\n",
    "    # perform optimization\n",
    "    result = gp_minimize(evaluate_model, search_space_lr, acq_func=\"EI\", x0=[1.0], n_initial_points=20, n_calls=30)\n",
    "\n",
    "    # save the best performing value of hyper parameter C\n",
    "    best_parameter = result.x\n",
    "    print('Best Parameters: %s' % (result.x))\n",
    "    print('Best Score: %.3f' % (1.0 - result.fun))\n",
    "\n",
    "    # retrain the model with fixed value of C\n",
    "    model = LogisticRegression(C=best_parameter[0],\n",
    "                                  penalty='l1',\n",
    "                                  solver=\"liblinear\")\n",
    "    model.fit(X_train, y_train)\n",
    "\n",
    "    return model, best_parameter"
   ]
  },
  {
   "cell_type": "code",
   "execution_count": 764,
   "id": "geological-heart",
   "metadata": {},
   "outputs": [
    {
     "name": "stdout",
     "output_type": "stream",
     "text": [
      "Best Parameters: [1.0]\n",
      "Best Score: 0.976\n",
      "Best Parameters: [678.4237085411913]\n",
      "Best Score: 0.905\n",
      "Best Parameters: [1.0]\n",
      "Best Score: 0.929\n",
      "The results for logistic regression test examples:\n",
      "[(0.95, 0.91, 1.0, 1.0, 0.98), (0.95, 1.0, 0.92, 0.89, 0.99), (0.86, 0.89, 0.83, 0.8, 0.98)]\n",
      "[[1.0], [678.4237085411913], [1.0]]\n",
      "[0.92       0.93333333 0.91666667 0.89666667 0.98333333]\n",
      "[{'Inf075': 'fn'}, {'Con_165a': 'fp'}, {'Con_087a': 'fp', 'Con_096a': 'fp', 'Inf_119': 'fn'}]\n"
     ]
    }
   ],
   "source": [
    "# run nested cross validation on test data set\n",
    "scores_lr_red, best_parameters_lr_red, mis_classified_lr_red, selected_features_list_lr_red = nested_cv_lr(X_df_red, labels, 1)\n",
    "\n",
    "# print results\n",
    "print('The results for logistic regression test examples:')\n",
    "print(scores_lr_red)\n",
    "print(best_parameters_lr_red)\n",
    "print(np.mean(np.asarray(scores_lr_red), axis=0))\n",
    "print(mis_classified_lr_red)"
   ]
  },
  {
   "cell_type": "code",
   "execution_count": 381,
   "id": "pregnant-carry",
   "metadata": {},
   "outputs": [
    {
     "name": "stdout",
     "output_type": "stream",
     "text": [
      "Best Parameters: [1.0]\n",
      "Best Score: 0.976\n",
      "Best Parameters: [0.08228844256425769]\n",
      "Best Score: 1.000\n",
      "Best Parameters: [34.879632734662266]\n",
      "Best Score: 0.952\n",
      "Best Parameters: [1.0]\n",
      "Best Score: 1.000\n",
      "Best Parameters: [1.2789088991773574]\n",
      "Best Score: 1.000\n",
      "Best Parameters: [5.478667394027816]\n",
      "Best Score: 0.976\n",
      "Best Parameters: [0.09070443334341415]\n",
      "Best Score: 0.952\n",
      "Best Parameters: [12.164923684430583]\n",
      "Best Score: 0.976\n",
      "Best Parameters: [1.0]\n",
      "Best Score: 1.000\n"
     ]
    },
    {
     "data": {
      "image/png": "[encoded data removed]",
      "text/plain": [
       "<Figure size 842.4x595.44 with 1 Axes>"
      ]
     },
     "metadata": {},
     "output_type": "display_data"
    }
   ],
   "source": [
    "# run optimisations on full dataset (including patient 75)\n",
    "\n",
    "scores_lr, best_parameters_lr, mis_classified_lr, selected_features_list_lr = nested_cv_lr(X_df,  labels, 3)"
   ]
  },
  {
   "cell_type": "code",
   "execution_count": 399,
   "id": "recorded-provision",
   "metadata": {},
   "outputs": [],
   "source": [
    "# create datafrom from the results - including the number of selected features each iteration\n",
    "\n",
    "def lr_results_df_inc_features(scores, parameters, misclassified, features):\n",
    "    p_list = []\n",
    "    for i in parameters:\n",
    "        p_list.extend(i)\n",
    "    p_list = np.array(p_list)\n",
    "    p_list = np.around(p_list, decimals=2)\n",
    "    p_list = np.append(p_list, ['n/a'], axis=0)\n",
    "    mean_scores = np.mean(np.asarray(scores), axis=0)\n",
    "    array = np.array(scores)\n",
    "    array = np.vstack((array, mean_scores))\n",
    "    array = pd.DataFrame(array, index = [1, 2, 3, 4, 5, 6, 7, 8, 9, 'Mean'], columns = ['Accuracy', 'Recall', 'Specificity', 'Precision', 'AUC'])\n",
    "    # FOR TESTING array = pd.DataFrame(array, index = [1, 2, 3, 'Mean'], columns = ['Accuracy', 'Recall', 'Specificity', 'Precision', 'AUC'])\n",
    "\n",
    "    array = array.round(2)\n",
    "    array.insert(0, 'Best C', p_list)\n",
    "\n",
    "    # create column for the number of features\n",
    "    feat_count_list = []\n",
    "    for i in features:\n",
    "        feat_count = np.count_nonzero(i)\n",
    "        feat_count_list.append(feat_count)\n",
    "    feat_count_list = np.append(feat_count_list, [str(round(np.mean(feat_count_list),0))], axis=0)\n",
    "    feat_count_list = np.array(feat_count_list)\n",
    "    array.insert(1, 'Num Features', feat_count_list)\n",
    "    \n",
    "    # create columns for false positives and false negatives\n",
    "    fp_column = []\n",
    "    fn_column = []\n",
    "    for i in misclassified:\n",
    "        fps = []\n",
    "        fns = []\n",
    "        for key, val in i.items():\n",
    "            if val == 'fp':\n",
    "                fps.append(key)\n",
    "            if val == 'fn':\n",
    "                fns.append(key)\n",
    "        fp_column.append(fps)\n",
    "        fn_column.append(fns)\n",
    "    fp_column.append('n/a')\n",
    "    fn_column.append('n/a')\n",
    "    array.insert(7, 'False Positives', fp_column)\n",
    "    array.insert(8, 'False Negatives', fn_column) \n",
    "    \n",
    "    return array"
   ]
  },
  {
   "cell_type": "code",
   "execution_count": 291,
   "id": "trained-rendering",
   "metadata": {},
   "outputs": [
    {
     "data": {
      "text/html": [
       "<div>\n",
       "<style scoped>\n",
       "    .dataframe tbody tr th:only-of-type {\n",
       "        vertical-align: middle;\n",
       "    }\n",
       "\n",
       "    .dataframe tbody tr th {\n",
       "        vertical-align: top;\n",
       "    }\n",
       "\n",
       "    .dataframe thead th {\n",
       "        text-align: right;\n",
       "    }\n",
       "</style>\n",
       "<table border=\"1\" class=\"dataframe\">\n",
       "  <thead>\n",
       "    <tr style=\"text-align: right;\">\n",
       "      <th></th>\n",
       "      <th>Best C</th>\n",
       "      <th>Num Features</th>\n",
       "      <th>Accuracy</th>\n",
       "      <th>Recall</th>\n",
       "      <th>Specificity</th>\n",
       "      <th>Precision</th>\n",
       "      <th>AUC</th>\n",
       "      <th>False Positives</th>\n",
       "      <th>False Negatives</th>\n",
       "    </tr>\n",
       "  </thead>\n",
       "  <tbody>\n",
       "    <tr>\n",
       "      <th>1</th>\n",
       "      <td>289.38</td>\n",
       "      <td>30</td>\n",
       "      <td>0.90</td>\n",
       "      <td>1.00</td>\n",
       "      <td>0.82</td>\n",
       "      <td>0.83</td>\n",
       "      <td>0.96</td>\n",
       "      <td>[Con_165a, Con_181a]</td>\n",
       "      <td>[]</td>\n",
       "    </tr>\n",
       "    <tr>\n",
       "      <th>2</th>\n",
       "      <td>0.24</td>\n",
       "      <td>4</td>\n",
       "      <td>0.95</td>\n",
       "      <td>0.90</td>\n",
       "      <td>1.00</td>\n",
       "      <td>1.00</td>\n",
       "      <td>1.00</td>\n",
       "      <td>[]</td>\n",
       "      <td>[Inf_149]</td>\n",
       "    </tr>\n",
       "    <tr>\n",
       "      <th>3</th>\n",
       "      <td>122.0</td>\n",
       "      <td>30</td>\n",
       "      <td>0.95</td>\n",
       "      <td>0.88</td>\n",
       "      <td>1.00</td>\n",
       "      <td>1.00</td>\n",
       "      <td>0.96</td>\n",
       "      <td>[]</td>\n",
       "      <td>[Inf075]</td>\n",
       "    </tr>\n",
       "    <tr>\n",
       "      <th>Total</th>\n",
       "      <td>n/a</td>\n",
       "      <td>n/a</td>\n",
       "      <td>0.93</td>\n",
       "      <td>0.93</td>\n",
       "      <td>0.94</td>\n",
       "      <td>0.94</td>\n",
       "      <td>0.97</td>\n",
       "      <td>n/a</td>\n",
       "      <td>n/a</td>\n",
       "    </tr>\n",
       "  </tbody>\n",
       "</table>\n",
       "</div>"
      ],
      "text/plain": [
       "       Best C Num Features  Accuracy  Recall  Specificity  Precision   AUC  \\\n",
       "1      289.38           30      0.90    1.00         0.82       0.83  0.96   \n",
       "2        0.24            4      0.95    0.90         1.00       1.00  1.00   \n",
       "3       122.0           30      0.95    0.88         1.00       1.00  0.96   \n",
       "Total     n/a          n/a      0.93    0.93         0.94       0.94  0.97   \n",
       "\n",
       "            False Positives False Negatives  \n",
       "1      [Con_165a, Con_181a]              []  \n",
       "2                        []       [Inf_149]  \n",
       "3                        []        [Inf075]  \n",
       "Total                   n/a             n/a  "
      ]
     },
     "execution_count": 291,
     "metadata": {},
     "output_type": "execute_result"
    }
   ],
   "source": [
    "lr_results_testing = lr_results_df_inc_features(scores_lr_red, best_parameters_lr_red, mis_classified_lr_red, selected_features_list_lr_red)\n",
    "lr_results_testing"
   ]
  },
  {
   "cell_type": "code",
   "execution_count": 400,
   "id": "listed-investigator",
   "metadata": {},
   "outputs": [
    {
     "data": {
      "text/html": [
       "<div>\n",
       "<style scoped>\n",
       "    .dataframe tbody tr th:only-of-type {\n",
       "        vertical-align: middle;\n",
       "    }\n",
       "\n",
       "    .dataframe tbody tr th {\n",
       "        vertical-align: top;\n",
       "    }\n",
       "\n",
       "    .dataframe thead th {\n",
       "        text-align: right;\n",
       "    }\n",
       "</style>\n",
       "<table border=\"1\" class=\"dataframe\">\n",
       "  <thead>\n",
       "    <tr style=\"text-align: right;\">\n",
       "      <th></th>\n",
       "      <th>Best C</th>\n",
       "      <th>Num Features</th>\n",
       "      <th>Accuracy</th>\n",
       "      <th>Recall</th>\n",
       "      <th>Specificity</th>\n",
       "      <th>Precision</th>\n",
       "      <th>AUC</th>\n",
       "    </tr>\n",
       "  </thead>\n",
       "  <tbody>\n",
       "    <tr>\n",
       "      <th>1</th>\n",
       "      <td>1.0</td>\n",
       "      <td>101</td>\n",
       "      <td>0.95</td>\n",
       "      <td>0.88</td>\n",
       "      <td>1.00</td>\n",
       "      <td>1.00</td>\n",
       "      <td>0.98</td>\n",
       "    </tr>\n",
       "    <tr>\n",
       "      <th>2</th>\n",
       "      <td>0.08</td>\n",
       "      <td>2</td>\n",
       "      <td>0.90</td>\n",
       "      <td>1.00</td>\n",
       "      <td>0.82</td>\n",
       "      <td>0.83</td>\n",
       "      <td>0.98</td>\n",
       "    </tr>\n",
       "    <tr>\n",
       "      <th>3</th>\n",
       "      <td>34.88</td>\n",
       "      <td>210</td>\n",
       "      <td>0.95</td>\n",
       "      <td>1.00</td>\n",
       "      <td>0.91</td>\n",
       "      <td>0.91</td>\n",
       "      <td>1.00</td>\n",
       "    </tr>\n",
       "    <tr>\n",
       "      <th>4</th>\n",
       "      <td>1.0</td>\n",
       "      <td>68</td>\n",
       "      <td>0.81</td>\n",
       "      <td>1.00</td>\n",
       "      <td>0.67</td>\n",
       "      <td>0.69</td>\n",
       "      <td>0.91</td>\n",
       "    </tr>\n",
       "    <tr>\n",
       "      <th>5</th>\n",
       "      <td>1.28</td>\n",
       "      <td>91</td>\n",
       "      <td>0.95</td>\n",
       "      <td>0.89</td>\n",
       "      <td>1.00</td>\n",
       "      <td>1.00</td>\n",
       "      <td>0.95</td>\n",
       "    </tr>\n",
       "    <tr>\n",
       "      <th>6</th>\n",
       "      <td>5.48</td>\n",
       "      <td>139</td>\n",
       "      <td>1.00</td>\n",
       "      <td>1.00</td>\n",
       "      <td>1.00</td>\n",
       "      <td>1.00</td>\n",
       "      <td>1.00</td>\n",
       "    </tr>\n",
       "    <tr>\n",
       "      <th>7</th>\n",
       "      <td>0.09</td>\n",
       "      <td>4</td>\n",
       "      <td>0.90</td>\n",
       "      <td>1.00</td>\n",
       "      <td>0.78</td>\n",
       "      <td>0.86</td>\n",
       "      <td>1.00</td>\n",
       "    </tr>\n",
       "    <tr>\n",
       "      <th>8</th>\n",
       "      <td>12.16</td>\n",
       "      <td>177</td>\n",
       "      <td>1.00</td>\n",
       "      <td>1.00</td>\n",
       "      <td>1.00</td>\n",
       "      <td>1.00</td>\n",
       "      <td>1.00</td>\n",
       "    </tr>\n",
       "    <tr>\n",
       "      <th>9</th>\n",
       "      <td>1.0</td>\n",
       "      <td>64</td>\n",
       "      <td>0.90</td>\n",
       "      <td>0.90</td>\n",
       "      <td>0.91</td>\n",
       "      <td>0.90</td>\n",
       "      <td>0.98</td>\n",
       "    </tr>\n",
       "    <tr>\n",
       "      <th>Mean</th>\n",
       "      <td>n/a</td>\n",
       "      <td>95.0</td>\n",
       "      <td>0.93</td>\n",
       "      <td>0.96</td>\n",
       "      <td>0.90</td>\n",
       "      <td>0.91</td>\n",
       "      <td>0.98</td>\n",
       "    </tr>\n",
       "  </tbody>\n",
       "</table>\n",
       "</div>"
      ],
      "text/plain": [
       "     Best C Num Features  Accuracy  Recall  Specificity  Precision   AUC\n",
       "1       1.0          101      0.95    0.88         1.00       1.00  0.98\n",
       "2      0.08            2      0.90    1.00         0.82       0.83  0.98\n",
       "3     34.88          210      0.95    1.00         0.91       0.91  1.00\n",
       "4       1.0           68      0.81    1.00         0.67       0.69  0.91\n",
       "5      1.28           91      0.95    0.89         1.00       1.00  0.95\n",
       "6      5.48          139      1.00    1.00         1.00       1.00  1.00\n",
       "7      0.09            4      0.90    1.00         0.78       0.86  1.00\n",
       "8     12.16          177      1.00    1.00         1.00       1.00  1.00\n",
       "9       1.0           64      0.90    0.90         0.91       0.90  0.98\n",
       "Mean    n/a         95.0      0.93    0.96         0.90       0.91  0.98"
      ]
     },
     "execution_count": 400,
     "metadata": {},
     "output_type": "execute_result"
    }
   ],
   "source": [
    "# create dataframe of results including patient 75\n",
    "lr_results_df_all_inc75 = lr_results_df_inc_features(scores_lr, best_parameters_lr, mis_classified_lr, selected_features_list_lr)\n",
    "lr_results_df_all_inc75 = lr_results_df_all_inc75.drop(['False Positives', 'False Negatives'], axis=1) \n",
    "lr_results_df_all_inc75"
   ]
  },
  {
   "cell_type": "code",
   "execution_count": 393,
   "id": "brown-baghdad",
   "metadata": {},
   "outputs": [],
   "source": [
    "# produce the LaTex code:\n",
    "\n",
    "with open('lr_results_table_all_inc75.tex','w') as tf:\n",
    "    tf.write(lr_results_df_all_inc75.to_latex())\n"
   ]
  },
  {
   "cell_type": "code",
   "execution_count": 354,
   "id": "moving-legend",
   "metadata": {},
   "outputs": [
    {
     "name": "stdout",
     "output_type": "stream",
     "text": [
      "Best Parameters: [1.0]\n",
      "Best Score: 0.968\n"
     ]
    },
    {
     "data": {
      "image/png": "[encoded data removed]",
      "text/plain": [
       "<Figure size 432x288 with 1 Axes>"
      ]
     },
     "metadata": {
      "needs_background": "light"
     },
     "output_type": "display_data"
    }
   ],
   "source": [
    "# train final model and determine features\n",
    "\n",
    "final_lr, best_param = train_lr_baysian(X_df, labels)"
   ]
  },
  {
   "cell_type": "code",
   "execution_count": 391,
   "id": "dedicated-problem",
   "metadata": {},
   "outputs": [],
   "source": [
    "# select features and match to common gene names\n",
    "\n",
    "selected_features_lr = final_lr.coef_[0]\n",
    "selected_gene_lr_final, selected_gene_lr_df = identify_genes_from_coefs(selected_features_lr, X_df, gene_df)\n"
   ]
  },
  {
   "cell_type": "code",
   "execution_count": 392,
   "id": "prepared-dealer",
   "metadata": {},
   "outputs": [
    {
     "name": "stdout",
     "output_type": "stream",
     "text": [
      "The number of selected genes is:  336\n"
     ]
    }
   ],
   "source": [
    "print('The number of selected genes is:  '+str(len(selected_gene_lr_final)))\n",
    "#plot_genes(selected_gene_lr_final, model='logistic regression')"
   ]
  },
  {
   "cell_type": "code",
   "execution_count": 705,
   "id": "logical-sample",
   "metadata": {},
   "outputs": [],
   "source": [
    "# saving down results of the model\n",
    "\n",
    "with open('lr_results.pkl', 'wb') as f:\n",
    "    pickle.dump([scores_lr, best_parameters_lr, mis_classified_lr, selected_features_list_lr], f)"
   ]
  },
  {
   "cell_type": "code",
   "execution_count": 92,
   "id": "collaborative-temple",
   "metadata": {},
   "outputs": [],
   "source": [
    "#with open('lr_results.pkl', 'rb') as f:\n",
    "#    scores_lr, best_parameters_lr, mis_classified_lr, selected_features_lr = pickle.load(f)"
   ]
  },
  {
   "cell_type": "code",
   "execution_count": 971,
   "id": "involved-jewelry",
   "metadata": {},
   "outputs": [],
   "source": [
    "with open('lr_final_model.pkl', 'wb') as f:\n",
    "    pickle.dump([final_lr, best_param], f)"
   ]
  },
  {
   "cell_type": "code",
   "execution_count": 390,
   "id": "excessive-tooth",
   "metadata": {},
   "outputs": [],
   "source": [
    "with open('lr_final_model.pkl', 'rb') as f:\n",
    "    final_lr, best_param = pickle.load(f)"
   ]
  },
  {
   "cell_type": "code",
   "execution_count": 490,
   "id": "independent-aquarium",
   "metadata": {},
   "outputs": [
    {
     "data": {
      "text/html": [
       "<div>\n",
       "<style scoped>\n",
       "    .dataframe tbody tr th:only-of-type {\n",
       "        vertical-align: middle;\n",
       "    }\n",
       "\n",
       "    .dataframe tbody tr th {\n",
       "        vertical-align: top;\n",
       "    }\n",
       "\n",
       "    .dataframe thead th {\n",
       "        text-align: right;\n",
       "    }\n",
       "</style>\n",
       "<table border=\"1\" class=\"dataframe\">\n",
       "  <thead>\n",
       "    <tr style=\"text-align: right;\">\n",
       "      <th></th>\n",
       "      <th>AUC</th>\n",
       "      <th>Mean Features</th>\n",
       "    </tr>\n",
       "  </thead>\n",
       "  <tbody>\n",
       "    <tr>\n",
       "      <th>30</th>\n",
       "      <td>1.0</td>\n",
       "      <td>27.0</td>\n",
       "    </tr>\n",
       "    <tr>\n",
       "      <th>25</th>\n",
       "      <td>0.99</td>\n",
       "      <td>22.0</td>\n",
       "    </tr>\n",
       "    <tr>\n",
       "      <th>20</th>\n",
       "      <td>1.0</td>\n",
       "      <td>18.0</td>\n",
       "    </tr>\n",
       "    <tr>\n",
       "      <th>15</th>\n",
       "      <td>1.0</td>\n",
       "      <td>15.0</td>\n",
       "    </tr>\n",
       "    <tr>\n",
       "      <th>10</th>\n",
       "      <td>1.0</td>\n",
       "      <td>9.0</td>\n",
       "    </tr>\n",
       "    <tr>\n",
       "      <th>9</th>\n",
       "      <td>1.0</td>\n",
       "      <td>10.0</td>\n",
       "    </tr>\n",
       "    <tr>\n",
       "      <th>8</th>\n",
       "      <td>0.99</td>\n",
       "      <td>9.0</td>\n",
       "    </tr>\n",
       "    <tr>\n",
       "      <th>7</th>\n",
       "      <td>0.88</td>\n",
       "      <td>5.0</td>\n",
       "    </tr>\n",
       "    <tr>\n",
       "      <th>6</th>\n",
       "      <td>0.99</td>\n",
       "      <td>6.0</td>\n",
       "    </tr>\n",
       "    <tr>\n",
       "      <th>5</th>\n",
       "      <td>0.93</td>\n",
       "      <td>4.0</td>\n",
       "    </tr>\n",
       "    <tr>\n",
       "      <th>4</th>\n",
       "      <td>0.93</td>\n",
       "      <td>2.0</td>\n",
       "    </tr>\n",
       "    <tr>\n",
       "      <th>3</th>\n",
       "      <td>0.61</td>\n",
       "      <td>1.0</td>\n",
       "    </tr>\n",
       "  </tbody>\n",
       "</table>\n",
       "</div>"
      ],
      "text/plain": [
       "     AUC Mean Features\n",
       "30   1.0          27.0\n",
       "25  0.99          22.0\n",
       "20   1.0          18.0\n",
       "15   1.0          15.0\n",
       "10   1.0           9.0\n",
       "9    1.0          10.0\n",
       "8   0.99           9.0\n",
       "7   0.88           5.0\n",
       "6   0.99           6.0\n",
       "5   0.93           4.0\n",
       "4   0.93           2.0\n",
       "3   0.61           1.0"
      ]
     },
     "execution_count": 490,
     "metadata": {},
     "output_type": "execute_result"
    }
   ],
   "source": [
    "# putting results into a dataframe\n",
    "lr_results_frames = [lr_df_30f,lr_df_25f,lr_df_20f,lr_df_15f,lr_df_10f,lr_df_9f,lr_df_8f,lr_df_7f,lr_df_6f,lr_df_5f,lr_df_4f,lr_df_3f]\n",
    "\n",
    "lr_aucs =[]\n",
    "lr_avg_feat=[]\n",
    "lr_mm_range = []\n",
    "for df in lr_results_frames:\n",
    "    lr_aucs.append(df['AUC'].values[-1])\n",
    "    lr_avg_feat.append(df['Num Features'].values[-1])\n",
    "data = np.vstack((lr_aucs, lr_avg_feat))\n",
    "data = np.transpose(data)\n",
    "lr_perf_features = pd.DataFrame(data=data, index=[30,25,20,15,10,9,8,7,6,5,4,3], columns=['AUC', 'Mean Features'])\n",
    "lr_perf_features"
   ]
  }
 ],
 "metadata": {
  "kernelspec": {
   "display_name": "Python 3",
   "language": "python",
   "name": "python3"
  },
  "language_info": {
   "codemirror_mode": {
    "name": "ipython",
    "version": 3
   },
   "file_extension": ".py",
   "mimetype": "text/x-python",
   "name": "python",
   "nbconvert_exporter": "python",
   "pygments_lexer": "ipython3",
   "version": "3.7.10"
  }
 },
 "nbformat": 4,
 "nbformat_minor": 5
}
