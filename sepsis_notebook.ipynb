{
 "cells": [
  {
   "cell_type": "markdown",
   "id": "streaming-virgin",
   "metadata": {},
   "source": [
    "# Machine Learning for disease diagnosis using omics data"
   ]
  },
  {
   "cell_type": "markdown",
   "id": "greatest-premiere",
   "metadata": {},
   "source": [
    "### Discussion Agenda 21/06/21:\n",
    "\n",
    "1. Review of initial results\n",
    "2. Specific questions on methodlogy\n",
    "    - I have z-scored the whole column together, rather than the classes separately as John did in poster work. Thoughts?\n",
    "    - Initial results (if correct) suggest it is farily simple to discriminate sepsis from non-sepsis with this genomic dataset. Can this be right? If so, has implications for where we take the work next.\n",
    "    - Feedback on feature selection approaches\n",
    "    - Any guidence on potential deep neural network based approaches from the lit search\n",
    "3. Discuss and agree next steps in the light of the initial results\n",
    "4. Agree the right format for future bi-weekly updates\n",
    "\n"
   ]
  },
  {
   "cell_type": "markdown",
   "id": "dynamic-highlight",
   "metadata": {},
   "source": [
    "### Aims and Objectives\n",
    "\n",
    "The aim of this project is to develop a machine learning system capable of diagnosing neo-natal sepsis based on genomic and clinical patient data. The system will successfully perform a binary classification of examples as either infected (i.e. have sepsis) and not infected. Initial objectives:\n",
    "- Review existing literature and techniques for disease diagnosis using machine learning with omics data\n",
    "- Test and compare the effectiveness of alternative strategies for dimensionality reduction - the dataset contains 63 samples and over 48,000 features. Candidate techniques include:\n",
    "    - Univariate statistical tests on each feature - e.g. Pairwise t-tests/ mann-whitney tests / mutual information on each individual features, and selecting k best features based on scores.\n",
    "    - L1 regularisation to downweight irrelevant features in linear model (e.g. in logistic regression/ linear svm)\n",
    "    - Recursive feature elimination (e.g. in SVM, Tree based models)\n",
    "- Test alternative classifiers and compare results, including ensemble models. The choice of classifiers will be directed by the high dimensionality, low sample size (HDLSS) nature of this problem. Candidate techniques include:\n",
    "    - Logistic regression - L1 regularised\n",
    "    - Support Vector Machines, with recursive feature elimination\n",
    "    - Ensemble decision tree based methods (e.g. random forest), again with recursive feature elimination\n",
    "    - Deep Neural Network based methods to capture non-linear relationships that are designed to work with with high dimenional, low sample size data - combined dimentionality reduction and classification techniques such as FsNet and Deep Neural Pursuit (see lit review 5 and 6)\n",
    "- Identify the specific biomarkers (genes) and clinical data points that show the greatest importance in successfully discrimnating sepsis."
   ]
  },
  {
   "cell_type": "markdown",
   "id": "great-baking",
   "metadata": {},
   "source": [
    "### Background / Literature Review (at 16/6/21)\n",
    "\n",
    "The following papers provide relevant starting points for investigation:\n",
    "\n",
    "1. [Gene selection for cancer classification using SVMs, Guyon et al. 2001](https://link.springer.com/article/10.1023/A:1012487302797)\n",
    "2. [Applications of Support Vector Machine (SVM) Learning in Cancer Genomics, Huang et al. 2018](https://pubmed.ncbi.nlm.nih.gov/29275361)\n",
    "3. [Machine learning and complex biological data, Jackson et al. 2019](https://link.springer.com/article/10.1186/s13059-019-1689-0)\n",
    "4. [Machine learning algorithm validation with a limited sample size, Vabalas et al. 2019](https://journals.plos.org/plosone/article?id=10.1371/journal.pone.0224365)\n",
    "5. [FsNet: Feature Selection Network on High-dimensional Biological Data, Singh et al. 2020](https://arxiv.org/abs/2001.08322)\n",
    "6. [Deep Neural Networks for High Dimension, Low Sample Size Data, Liu et al. 2017](https://www.semanticscholar.org/paper/Deep-Neural-Networks-for-High-Dimension%2C-Low-Sample-Liu-Wei/76f755fed7bf1cea8dad35c16bf518eab158c13e?p2df)"
   ]
  },
  {
   "cell_type": "markdown",
   "id": "dependent-packing",
   "metadata": {},
   "source": [
    "### Summary of Methodology and Initial Results\n",
    "\n",
    "This file and raw data in github repo here: \n",
    "\n",
    "**1. Data pre-processing (genomic data only to date)**\n",
    "\n",
    "- Neonatal_dataset saved in CSV format.\n",
    "- Data de-duplicated based on the feature 'Probe_Id' based on advice from project sepsis team. 1 duplicate row identified and eliminated\n",
    "- Standardisation- NaN values replaced with mean for the feature. Data then standardised (z-scored) to enable use of regression coefficients to determine feature importance, application of L1 regularlisation and use of distance based techniques such as SVM. (Implication is that NaN values standardised to zero).\n",
    "- Train/test split of 60% train / 40% test giving 37 training examples and 26 test examples. Chose 60/40 to ensure sufficient examples in test to validate the results. Decided against a separate validation set initially given low sample size. k-fold cross validation of train used used for tuning where appropriate.\n",
    "\n",
    "**2. Logistic regression**\n",
    "\n",
    "- Logistic regression chosen as a baseline. Method used by John in sepsis vs. TB poster.\n",
    "- Logistic regression classifier with L1 regularisation. C search using 5-fold cross validation over search space of 20 values\n",
    "- Optimum value of C = 0.23\n",
    "- 23 features gave non-zero coefficients in the resulting model\n",
    "- Performance scores below. 2 false positives on test.\n",
    "\n",
    "**3. SVM with recursive feature elimination**\n",
    "\n",
    "- SVM with recursive feature elimination has been demonstrated as an effective approach to classification with omics data (see ref 1., Guyon et al. 2001 above)\n",
    "- Performing RFE on all 48,000 features computationally expensive, therefore initially performed feature selection to reduce to 500 features based on univariate tests using mutual information gain (entropy) and retaining the highest scoring features.\n",
    "- Recursive feature elimination (RFE) used to select 10 best features (10 is arbitrary and requires investigation).\n",
    "\n",
    "**4. Random Forest**\n",
    "\n",
    "- Random forest classifier tested using the reduced 500 feature train set. Used default parameters initially.\n",
    "- RFE used to select 10 best features.\n",
    "\n",
    "**5. Initial Results**\n",
    "\n",
    "Model Evaluation:\n",
    "\n",
    "| ML Method           | Precision | Recall | AUC  |\n",
    "| :-                  | :-:       | :-:    |:-:   |\n",
    "| Logistic Regression | 0.89      | 1.0    | 1.0  |\n",
    "| SVM - RFE           | 1.0       | 0.94   | 1.0  |\n",
    "| Random Forest - RFE | 0.94      | 0.94   | 0.96 |\n",
    "\n",
    "Genes (features) identified by at least two methods. These were either in the 23 features with non-zero regression coeficients and the top 10 of SVM or RF, or in top 10 of both SVM and RF:\n",
    "\n",
    "| Probe_Id     | ILMN_Gene |\n",
    "| :-           | :- |\n",
    "| ILMN_1733276 | CYSLTR1 |\n",
    "| ILMN_2087989 | ZFAND1 |\n",
    "| ILMN_1715669 | TP53I11 |\n",
    "| ILMN_2400183 | DPH5 |\n",
    "| ILMN_1804148 | TMED4 \n",
    "\n",
    "This basket of 5 genes only was used to train a logistic regression classifier with the following results. This indicates that this group of genes alone may be a reasonable discriminator of sepsis vs. no-sepsis.\n",
    "\n",
    "Recall:  1.0\n",
    "Precision:  0.94\n",
    "AUC:   0.94\n",
    "\n",
    "**6. Potential Next Steps**\n",
    "\n",
    "- Experiment with / improve the feature selection methods to ensure they are robust.\n",
    "- Build feature selection into pipelines along with models\n",
    "- Hyper parameter tune and optimise models\n",
    "- Run svm and random forest models with recursive feature selection / sequential feature selection without univariate feature selection first - requires time to run or running on a server (tbd)\n",
    "- Identify single genes, pairs and triples that discriminate the classes.\n",
    "- Build emsemble of the various classifiers to improve performance\n",
    "- Integrate clinical data - requires some pre-processing\n",
    "- Gather additional data - sepsis or otherwise to expand the scope of the work\n",
    "- Experiment with deep learning based methods from lit search\n"
   ]
  },
  {
   "cell_type": "markdown",
   "id": "british-prospect",
   "metadata": {},
   "source": [
    "# Code:"
   ]
  },
  {
   "cell_type": "code",
   "execution_count": 839,
   "id": "cutting-conspiracy",
   "metadata": {},
   "outputs": [],
   "source": [
    "import pandas as pd\n",
    "import numpy as np\n",
    "import os\n",
    "from scipy import stats\n",
    "from collections import OrderedDict\n",
    "from sklearn.preprocessing import StandardScaler\n",
    "from sklearn.impute import SimpleImputer\n",
    "from sklearn.model_selection import train_test_split\n",
    "from sklearn.metrics import accuracy_score, precision_score, recall_score, f1_score, roc_curve, auc, roc_auc_score\n",
    "from sklearn.metrics import confusion_matrix\n",
    "from sklearn.metrics import plot_confusion_matrix\n",
    "import warnings\n",
    "warnings.filterwarnings(action=\"ignore\", message=\"^internal gelsd\")\n",
    "np.random.seed(1)\n",
    "#os.getcwd()"
   ]
  },
  {
   "cell_type": "markdown",
   "id": "naked-victoria",
   "metadata": {},
   "source": [
    "### Data Import and Reformatting"
   ]
  },
  {
   "cell_type": "code",
   "execution_count": 840,
   "id": "spiritual-center",
   "metadata": {},
   "outputs": [
    {
     "name": "stdout",
     "output_type": "stream",
     "text": [
      "The number of columns is:  93\n",
      "The number of row is:  48804\n"
     ]
    }
   ],
   "source": [
    "# import and check data\n",
    "\n",
    "raw_data = pd.read_csv('genomic_data.csv')\n",
    "print('The number of columns is:  '+str(len(raw_data.columns)))\n",
    "print('The number of row is:  '+str(len(raw_data)))"
   ]
  },
  {
   "cell_type": "code",
   "execution_count": 760,
   "id": "unique-nickname",
   "metadata": {},
   "outputs": [
    {
     "name": "stdout",
     "output_type": "stream",
     "text": [
      "# duplicate rows based on NuID:   0\n",
      "# duplicate rows based on Search_Key:   4671\n",
      "# duplicate rows based on ILMN_Gene:   11000\n",
      "# duplicate rows based on RefSeq_ID:   5742\n",
      "# duplicate rows based on Entrez_Gene_ID:   10897\n",
      "# duplicate rows based on Probe_Id:   1\n"
     ]
    }
   ],
   "source": [
    "# Eliminate duplicate genes. Testing on various columns, NaN values excluded before looking for duplicates.\n",
    "\n",
    "dup_column = ['NuID', 'Search_Key', 'ILMN_Gene', 'RefSeq_ID', 'Entrez_Gene_ID', 'Probe_Id']\n",
    "for column in dup_column:\n",
    "    data = raw_data.dropna(subset=[column])\n",
    "    dup_list = []\n",
    "    for index, value in data.duplicated(subset=[column]).items():\n",
    "        if value == True:\n",
    "            dup_list.append(index)\n",
    "    print(f\"# duplicate rows based on {column}:   \"+str(len(dup_list)))"
   ]
  },
  {
   "cell_type": "code",
   "execution_count": 761,
   "id": "dress-reynolds",
   "metadata": {},
   "outputs": [
    {
     "name": "stdout",
     "output_type": "stream",
     "text": [
      "Features:  48802\n",
      "Examples:  63\n"
     ]
    },
    {
     "data": {
      "text/html": [
       "<div>\n",
       "<style scoped>\n",
       "    .dataframe tbody tr th:only-of-type {\n",
       "        vertical-align: middle;\n",
       "    }\n",
       "\n",
       "    .dataframe tbody tr th {\n",
       "        vertical-align: top;\n",
       "    }\n",
       "\n",
       "    .dataframe thead th {\n",
       "        text-align: right;\n",
       "    }\n",
       "</style>\n",
       "<table border=\"1\" class=\"dataframe\">\n",
       "  <thead>\n",
       "    <tr style=\"text-align: right;\">\n",
       "      <th></th>\n",
       "      <th>ILMN_2227757</th>\n",
       "      <th>ILMN_1683690</th>\n",
       "      <th>ILMN_1710146</th>\n",
       "      <th>ILMN_1822171</th>\n",
       "      <th>ILMN_1748473</th>\n",
       "      <th>ILMN_1822843</th>\n",
       "      <th>ILMN_1710170</th>\n",
       "      <th>ILMN_1704497</th>\n",
       "      <th>ILMN_1847638</th>\n",
       "      <th>ILMN_1772260</th>\n",
       "      <th>...</th>\n",
       "      <th>ILMN_1712859</th>\n",
       "      <th>ILMN_1747129</th>\n",
       "      <th>ILMN_1813344</th>\n",
       "      <th>ILMN_2292576</th>\n",
       "      <th>ILMN_1793445</th>\n",
       "      <th>ILMN_2065273</th>\n",
       "      <th>ILMN_1800873</th>\n",
       "      <th>ILMN_1666642</th>\n",
       "      <th>ILMN_1908209</th>\n",
       "      <th>ILMN_1670343</th>\n",
       "    </tr>\n",
       "  </thead>\n",
       "  <tbody>\n",
       "    <tr>\n",
       "      <th>Con_001</th>\n",
       "      <td>7.0713</td>\n",
       "      <td>7.0252</td>\n",
       "      <td>7.0713</td>\n",
       "      <td>7.0713</td>\n",
       "      <td>12.8555</td>\n",
       "      <td>7.0395</td>\n",
       "      <td>7.0252</td>\n",
       "      <td>7.0252</td>\n",
       "      <td>6.9692</td>\n",
       "      <td>7.1443</td>\n",
       "      <td>...</td>\n",
       "      <td>6.9278</td>\n",
       "      <td>7.0713</td>\n",
       "      <td>7.6728</td>\n",
       "      <td>7.0545</td>\n",
       "      <td>7.0103</td>\n",
       "      <td>7.0252</td>\n",
       "      <td>7.2258</td>\n",
       "      <td>7.3808</td>\n",
       "      <td>7.2626</td>\n",
       "      <td>6.9828</td>\n",
       "    </tr>\n",
       "    <tr>\n",
       "      <th>Con_017</th>\n",
       "      <td>7.0033</td>\n",
       "      <td>7.0436</td>\n",
       "      <td>7.0832</td>\n",
       "      <td>7.1232</td>\n",
       "      <td>12.5604</td>\n",
       "      <td>7.1232</td>\n",
       "      <td>7.0301</td>\n",
       "      <td>7.1486</td>\n",
       "      <td>6.9203</td>\n",
       "      <td>7.1865</td>\n",
       "      <td>...</td>\n",
       "      <td>7.0436</td>\n",
       "      <td>7.0164</td>\n",
       "      <td>8.1798</td>\n",
       "      <td>6.9896</td>\n",
       "      <td>6.9896</td>\n",
       "      <td>7.0963</td>\n",
       "      <td>7.0577</td>\n",
       "      <td>6.9492</td>\n",
       "      <td>7.0164</td>\n",
       "      <td>7.0301</td>\n",
       "    </tr>\n",
       "    <tr>\n",
       "      <th>Con_021</th>\n",
       "      <td>7.0907</td>\n",
       "      <td>7.0323</td>\n",
       "      <td>7.097</td>\n",
       "      <td>7.0824</td>\n",
       "      <td>12.5437</td>\n",
       "      <td>7.0583</td>\n",
       "      <td>7.0739</td>\n",
       "      <td>6.9975</td>\n",
       "      <td>6.9975</td>\n",
       "      <td>7.0405</td>\n",
       "      <td>...</td>\n",
       "      <td>7.097</td>\n",
       "      <td>7.0158</td>\n",
       "      <td>7.8981</td>\n",
       "      <td>7.0158</td>\n",
       "      <td>7.1521</td>\n",
       "      <td>7.0655</td>\n",
       "      <td>7.0824</td>\n",
       "      <td>6.9975</td>\n",
       "      <td>7.097</td>\n",
       "      <td>6.9892</td>\n",
       "    </tr>\n",
       "    <tr>\n",
       "      <th>Con_022b</th>\n",
       "      <td>7.0327</td>\n",
       "      <td>7.024</td>\n",
       "      <td>7.0419</td>\n",
       "      <td>7.024</td>\n",
       "      <td>12.0483</td>\n",
       "      <td>7.0766</td>\n",
       "      <td>7.0598</td>\n",
       "      <td>7.1015</td>\n",
       "      <td>6.9954</td>\n",
       "      <td>7.0055</td>\n",
       "      <td>...</td>\n",
       "      <td>7.1564</td>\n",
       "      <td>7.167</td>\n",
       "      <td>7.9036</td>\n",
       "      <td>6.9031</td>\n",
       "      <td>7.0598</td>\n",
       "      <td>6.9863</td>\n",
       "      <td>7.1625</td>\n",
       "      <td>7.1378</td>\n",
       "      <td>7.024</td>\n",
       "      <td>7.0327</td>\n",
       "    </tr>\n",
       "    <tr>\n",
       "      <th>Con_028</th>\n",
       "      <td>7.0057</td>\n",
       "      <td>6.9538</td>\n",
       "      <td>7.0308</td>\n",
       "      <td>7.0831</td>\n",
       "      <td>12.6549</td>\n",
       "      <td>6.9538</td>\n",
       "      <td>6.9538</td>\n",
       "      <td>7.1371</td>\n",
       "      <td>7.1512</td>\n",
       "      <td>7.264</td>\n",
       "      <td>...</td>\n",
       "      <td>7.0577</td>\n",
       "      <td>7.0057</td>\n",
       "      <td>8.2019</td>\n",
       "      <td>7.0308</td>\n",
       "      <td>7.0702</td>\n",
       "      <td>6.9799</td>\n",
       "      <td>7.0963</td>\n",
       "      <td>7.1512</td>\n",
       "      <td>7.2064</td>\n",
       "      <td>7.0186</td>\n",
       "    </tr>\n",
       "  </tbody>\n",
       "</table>\n",
       "<p>5 rows × 48802 columns</p>\n",
       "</div>"
      ],
      "text/plain": [
       "         ILMN_2227757 ILMN_1683690 ILMN_1710146 ILMN_1822171 ILMN_1748473  \\\n",
       "Con_001        7.0713       7.0252       7.0713       7.0713      12.8555   \n",
       "Con_017        7.0033       7.0436       7.0832       7.1232      12.5604   \n",
       "Con_021        7.0907       7.0323        7.097       7.0824      12.5437   \n",
       "Con_022b       7.0327        7.024       7.0419        7.024      12.0483   \n",
       "Con_028        7.0057       6.9538       7.0308       7.0831      12.6549   \n",
       "\n",
       "         ILMN_1822843 ILMN_1710170 ILMN_1704497 ILMN_1847638 ILMN_1772260  \\\n",
       "Con_001        7.0395       7.0252       7.0252       6.9692       7.1443   \n",
       "Con_017        7.1232       7.0301       7.1486       6.9203       7.1865   \n",
       "Con_021        7.0583       7.0739       6.9975       6.9975       7.0405   \n",
       "Con_022b       7.0766       7.0598       7.1015       6.9954       7.0055   \n",
       "Con_028        6.9538       6.9538       7.1371       7.1512        7.264   \n",
       "\n",
       "          ... ILMN_1712859 ILMN_1747129 ILMN_1813344 ILMN_2292576  \\\n",
       "Con_001   ...       6.9278       7.0713       7.6728       7.0545   \n",
       "Con_017   ...       7.0436       7.0164       8.1798       6.9896   \n",
       "Con_021   ...        7.097       7.0158       7.8981       7.0158   \n",
       "Con_022b  ...       7.1564        7.167       7.9036       6.9031   \n",
       "Con_028   ...       7.0577       7.0057       8.2019       7.0308   \n",
       "\n",
       "         ILMN_1793445 ILMN_2065273 ILMN_1800873 ILMN_1666642 ILMN_1908209  \\\n",
       "Con_001        7.0103       7.0252       7.2258       7.3808       7.2626   \n",
       "Con_017        6.9896       7.0963       7.0577       6.9492       7.0164   \n",
       "Con_021        7.1521       7.0655       7.0824       6.9975        7.097   \n",
       "Con_022b       7.0598       6.9863       7.1625       7.1378        7.024   \n",
       "Con_028        7.0702       6.9799       7.0963       7.1512       7.2064   \n",
       "\n",
       "         ILMN_1670343  \n",
       "Con_001        6.9828  \n",
       "Con_017        7.0301  \n",
       "Con_021        6.9892  \n",
       "Con_022b       7.0327  \n",
       "Con_028        7.0186  \n",
       "\n",
       "[5 rows x 48802 columns]"
      ]
     },
     "execution_count": 761,
     "metadata": {},
     "output_type": "execute_result"
    }
   ],
   "source": [
    "# reformat data, drop duplicates, transpose, index on probe_id, drop columns with all NaN, drop Fold change\n",
    "\n",
    "labels = []\n",
    "for item in df.index:\n",
    "    if 'Con' in item:\n",
    "        labels.append(0)\n",
    "    else:\n",
    "        labels.append(1)\n",
    "labels = np.asarray(labels)\n",
    "\n",
    "gene_df = raw_data.iloc[:, 0:29]\n",
    "df = raw_data.iloc[:, np.r_[14, 29:93]].drop_duplicates(subset=['Probe_Id'])\n",
    "df = df.transpose()\n",
    "df = df.rename(columns=df.iloc[0]).drop(df.index[0])\n",
    "df = df.drop(['Fold change'], axis=0)\n",
    "df = df.dropna(axis=1, how='all')\n",
    "print('Features:  '+str(len(df.columns)))\n",
    "print('Examples:  '+str(len(df)))\n",
    "df.head()"
   ]
  },
  {
   "cell_type": "markdown",
   "id": "indirect-voltage",
   "metadata": {},
   "source": [
    "### Pre-Processing\n",
    "\n",
    "1. **Standardisation** - Data standardised (i.e. z-scored) for the following reasons:\n",
    "- L1 regularisation penalties in logistic regressions assumes data centred at zero and on the same scale\n",
    "- Distance based ML models such as SVM require and assume standardised data, otherwise variables on larger scales disproportionally impact the model\n",
    "- Am using the output coeffiecients from logistic regression as a crude measure of feature importance, and so in order to compare coefficients as a measure of relative importance, variables must be standardised\n",
    "\n",
    "2. **Train, test, split:** 60% train / 40% test\n"
   ]
  },
  {
   "cell_type": "code",
   "execution_count": 762,
   "id": "economic-millennium",
   "metadata": {},
   "outputs": [
    {
     "name": "stdout",
     "output_type": "stream",
     "text": [
      "(37, 48802)\n",
      "(37,)\n",
      "(26, 48802)\n",
      "(26,)\n"
     ]
    }
   ],
   "source": [
    "# function for standardising, train, test split\n",
    "\n",
    "def standardise(examples):\n",
    "    imputer = SimpleImputer(strategy='mean')\n",
    "    examples_imputed = imputer.fit_transform(examples)\n",
    "    scaler = StandardScaler()\n",
    "    examples_scaled = scaler.fit_transform(examples_imputed)\n",
    "    return examples_scaled\n",
    "\n",
    "# train and test sets\n",
    "\n",
    "X = standardise(df)\n",
    "X_train, X_test, y_train, y_test = train_test_split(X, labels, test_size=0.4, random_state=1)\n",
    "\n",
    "print(X_train.shape)\n",
    "print(y_train.shape)\n",
    "print(X_test.shape)\n",
    "print(y_test.shape)\n"
   ]
  },
  {
   "cell_type": "markdown",
   "id": "norman-money",
   "metadata": {},
   "source": [
    "### Classifier 1: Logistic Regression\n",
    "\n",
    "- L1 regularised logistic regression. L1 used given we know that a large number of feature are irrelevant, hence L1 / Lasso regularisation acts as form of feature selection. L1 required the liblinear solver.\n",
    "- Performed with stratified k-fold cross validation (5 folds) on the regularisation parameter C"
   ]
  },
  {
   "cell_type": "code",
   "execution_count": 794,
   "id": "intensive-category",
   "metadata": {},
   "outputs": [
    {
     "name": "stdout",
     "output_type": "stream",
     "text": [
      "Optimum L1 regularisation parameter: [0.23357215]\n",
      "Accuracy:  0.92\n",
      "Recall:  1.0\n",
      "Precision:  0.89\n",
      "AUC:   1.0\n"
     ]
    },
    {
     "data": {
      "image/png": "[encoded data removed]",
      "text/plain": [
       "<Figure size 432x288 with 1 Axes>"
      ]
     },
     "metadata": {
      "needs_background": "light"
     },
     "output_type": "display_data"
    },
    {
     "data": {
      "image/png": "[encoded data removed]",
      "text/plain": [
       "<Figure size 432x288 with 1 Axes>"
      ]
     },
     "metadata": {
      "needs_background": "light"
     },
     "output_type": "display_data"
    }
   ],
   "source": [
    "from sklearn.linear_model import LogisticRegression\n",
    "from sklearn.linear_model import LogisticRegressionCV\n",
    "\n",
    "# train\n",
    "log_reg_cv = LogisticRegressionCV(Cs=20, penalty='l1', solver=\"liblinear\", random_state=1)\n",
    "log_reg_cv.fit(X_train, y_train)\n",
    "print('Optimum L1 regularisation parameter: '+str(log_reg_cv.C_))\n",
    "\n",
    "# predict\n",
    "y_pred_lr = log_reg_cv.predict(X_test)\n",
    "y_pred_probab_lr = log_reg_cv.predict_proba(X_test)\n",
    "\n",
    "# evaluate\n",
    "model_analysis(log_reg_cv, X_test, y_pred_lr, y_pred_probab_lr, y_test)"
   ]
  },
  {
   "cell_type": "markdown",
   "id": "adaptive-territory",
   "metadata": {},
   "source": [
    "### Classifier 2: SVM\n",
    "\n",
    "1. Initial feature selection using kbest feature selection and mutual information gain\n",
    "2. Further feature selection using recursive feature selection (RFE) to get down the the best performing set of features on linear svm\n",
    "\n",
    "References:\n",
    "https://machinelearningmastery.com/rfe-feature-selection-in-python/\n",
    "https://scikit-learn.org/stable/modules/generated/sklearn.feature_selection.RFE.html"
   ]
  },
  {
   "cell_type": "code",
   "execution_count": 765,
   "id": "baking-seminar",
   "metadata": {},
   "outputs": [],
   "source": [
    "from sklearn.feature_selection import RFE\n",
    "from sklearn.svm import SVC\n",
    "from sklearn.model_selection import RandomizedSearchCV\n",
    "from numpy.random import uniform\n",
    "from sklearn.pipeline import make_pipeline\n",
    "from sklearn.feature_selection import f_classif, mutual_info_classif\n",
    "from sklearn.feature_selection import SelectKBest\n"
   ]
  },
  {
   "cell_type": "code",
   "execution_count": 766,
   "id": "herbal-pitch",
   "metadata": {},
   "outputs": [],
   "source": [
    "# Initial crude feature selection\n",
    "\n",
    "num_features = 500\n",
    "fs=SelectKBest(mutual_info_classif, k=num_features).fit(X_train, y_train)\n",
    "X_train_red = fs.transform(X_train)\n",
    "X_test_red = fs.transform(X_test)"
   ]
  },
  {
   "cell_type": "code",
   "execution_count": 793,
   "id": "cultural-still",
   "metadata": {},
   "outputs": [
    {
     "name": "stdout",
     "output_type": "stream",
     "text": [
      "Accuracy:  0.96\n",
      "Recall:  0.94\n",
      "Precision:  1.0\n",
      "AUC:   1.0\n"
     ]
    },
    {
     "data": {
      "image/png": "[encoded data removed]",
      "text/plain": [
       "<Figure size 432x288 with 1 Axes>"
      ]
     },
     "metadata": {
      "needs_background": "light"
     },
     "output_type": "display_data"
    },
    {
     "data": {
      "image/png": "[encoded data removed]",
      "text/plain": [
       "<Figure size 432x288 with 1 Axes>"
      ]
     },
     "metadata": {
      "needs_background": "light"
     },
     "output_type": "display_data"
    }
   ],
   "source": [
    "# Linear SVM classifier with all features\n",
    "\n",
    "# train\n",
    "svm_clf=SVC(kernel=\"linear\", probability=True, random_state=1)\n",
    "svm_clf.fit(X_train_red, y_train)\n",
    "\n",
    "# predict\n",
    "y_pred_svm = svm_clf.predict(X_test_red)\n",
    "y_pred_probab_svm = svm_clf.predict_proba(X_test_red)\n",
    "\n",
    "# evaluate\n",
    "model_analysis(svm_clf, X_test_red, y_pred_svm, y_pred_probab_svm, y_test)"
   ]
  },
  {
   "cell_type": "code",
   "execution_count": 796,
   "id": "smooth-football",
   "metadata": {},
   "outputs": [
    {
     "name": "stdout",
     "output_type": "stream",
     "text": [
      "Accuracy:  0.96\n",
      "Recall:  0.94\n",
      "Precision:  1.0\n",
      "AUC:   1.0\n"
     ]
    },
    {
     "data": {
      "image/png": "[encoded data removed]",
      "text/plain": [
       "<Figure size 432x288 with 1 Axes>"
      ]
     },
     "metadata": {
      "needs_background": "light"
     },
     "output_type": "display_data"
    },
    {
     "data": {
      "image/png": "[encoded data removed]",
      "text/plain": [
       "<Figure size 432x288 with 1 Axes>"
      ]
     },
     "metadata": {
      "needs_background": "light"
     },
     "output_type": "display_data"
    }
   ],
   "source": [
    "# Linear SVM with Recursive Feature Elimination\n",
    "\n",
    "# train\n",
    "svm_clf = SVC(kernel=\"linear\", probability=True, random_state=1, C=1.0)\n",
    "svm_selector = RFE(svm_clf, n_features_to_select=10, step=1)\n",
    "svm_selector = svm_selector.fit(X_train_red, y_train)\n",
    "\n",
    "# predict\n",
    "y_pred_svmrfe = svm_selector.predict(X_test_red)\n",
    "y_pred_probab_svmrfe = svm_selector.predict_proba(X_test_red)\n",
    "\n",
    "# evaluate\n",
    "model_analysis(svm_selector, X_test_red, y_pred_svmrfe, y_pred_probab_svmrfe, y_test)"
   ]
  },
  {
   "cell_type": "markdown",
   "id": "perfect-jaguar",
   "metadata": {},
   "source": [
    "### Classifier 3: Random Forest"
   ]
  },
  {
   "cell_type": "code",
   "execution_count": 795,
   "id": "heated-neighbor",
   "metadata": {},
   "outputs": [
    {
     "name": "stdout",
     "output_type": "stream",
     "text": [
      "Accuracy:  0.92\n",
      "Recall:  0.94\n",
      "Precision:  0.94\n",
      "AUC:   0.96\n"
     ]
    },
    {
     "data": {
      "image/png": "[encoded data removed]",
      "text/plain": [
       "<Figure size 432x288 with 1 Axes>"
      ]
     },
     "metadata": {
      "needs_background": "light"
     },
     "output_type": "display_data"
    },
    {
     "data": {
      "image/png": "[encoded data removed]",
      "text/plain": [
       "<Figure size 432x288 with 1 Axes>"
      ]
     },
     "metadata": {
      "needs_background": "light"
     },
     "output_type": "display_data"
    }
   ],
   "source": [
    "# Random Forest with Recursive Feature Elimination\n",
    "\n",
    "from sklearn.ensemble import RandomForestClassifier\n",
    "\n",
    "# train\n",
    "rf_clf = RandomForestClassifier(random_state=1)\n",
    "rf_selector = RFE(rf_clf, n_features_to_select=10, step=1)\n",
    "rf_selector = rf_selector.fit(X_train_red, y_train)\n",
    "\n",
    "# predict\n",
    "y_pred_rf = rf_selector.predict(X_test_red)\n",
    "y_pred_probab_rf = rf_selector.predict_proba(X_test_red)\n",
    "\n",
    "# evaluate\n",
    "model_analysis(rf_selector, X_test_red, y_pred_rf, y_pred_probab_rf, y_test)"
   ]
  },
  {
   "cell_type": "code",
   "execution_count": 791,
   "id": "accepting-remove",
   "metadata": {},
   "outputs": [],
   "source": [
    "def model_analysis(fitted_model, X_test, y_pred_classes, y_pred_probabilities, y_true_classes):\n",
    "    print('Accuracy:  '+str(round(accuracy_score(y_true_classes, y_pred_classes),2)))\n",
    "    print('Recall:  '+str(round(recall_score(y_true_classes, y_pred_classes),2)))\n",
    "    print('Precision:  '+str(round(precision_score(y_true_classes, y_pred_classes),2))) \n",
    "    print('AUC:   '+str(round(roc_auc_score(y_true_classes, y_pred_probabilities[:, 1]),2)))\n",
    "    build_roc_auc(y_pred_probabilities, y_true_classes)\n",
    "    plot_confusion_matrix(fitted_model, X_test, y_true_classes, colorbar=False)"
   ]
  },
  {
   "cell_type": "code",
   "execution_count": 716,
   "id": "visible-duplicate",
   "metadata": {},
   "outputs": [],
   "source": [
    "# function for building the ROC curve\n",
    "\n",
    "\n",
    "import matplotlib.pyplot as plt\n",
    "from itertools import cycle\n",
    "from sklearn.metrics import roc_curve, auc, roc_auc_score\n",
    "from scipy import interp\n",
    "\n",
    "def build_roc_auc(y_preds, y_test): #model, X_train, X_test, y_train, y_test):\n",
    "    '''\n",
    "    INPUT:\n",
    "    model - an sklearn instantiated model\n",
    "    X_train - the training data\n",
    "    y_train - the training response values\n",
    "    X_test - the test data\n",
    "    y_test - the test response values\n",
    "    \n",
    "    OUTPUT:\n",
    "    auc - returns auc as a float\n",
    "    prints the roc curve\n",
    "    '''\n",
    "    \n",
    "    #y_preds = model.fit(X_train, y_train).predict_proba(X_test)\n",
    "    \n",
    "    # Compute ROC curve and ROC area for each class\n",
    "    fpr = dict()\n",
    "    tpr = dict()\n",
    "    roc_auc = dict()\n",
    "    for i in range(len(y_test)):\n",
    "        fpr[i], tpr[i], _ = roc_curve(y_test, y_preds[:, 1])\n",
    "        roc_auc[i] = auc(fpr[i], tpr[i])\n",
    "\n",
    "    # Compute micro-average ROC curve and ROC area\n",
    "    fpr[\"micro\"], tpr[\"micro\"], _ = roc_curve(y_test.ravel(), y_preds[:, 1].ravel())\n",
    "    roc_auc[\"micro\"] = auc(fpr[\"micro\"], tpr[\"micro\"])\n",
    "    \n",
    "    plt.plot(fpr[2], tpr[2], color='darkorange',\n",
    "             lw=2, label='ROC curve (area = %0.2f)' % roc_auc[2])\n",
    "    plt.plot([0, 1], [0, 1], color='navy', lw=2, linestyle='--')\n",
    "    plt.xlim([0.0, 1.0])\n",
    "    plt.ylim([0.0, 1.05])\n",
    "    plt.xlabel('False Positive Rate')\n",
    "    plt.ylabel('True Positive Rate')\n",
    "    plt.title('Receiver operating characteristic plot')\n",
    "    plt.show()\n",
    "    \n",
    "    return roc_auc_score(y_test, np.round(y_preds[:, 1]))\n",
    "\n",
    "# https://www.analyticsvidhya.com/blog/2020/06/auc-roc-curve-machine-learning/"
   ]
  },
  {
   "cell_type": "markdown",
   "id": "celtic-system",
   "metadata": {},
   "source": [
    "### Gene Identification\n",
    "\n",
    "Using most important features output to identify the genes used by the classifiers"
   ]
  },
  {
   "cell_type": "code",
   "execution_count": 809,
   "id": "substantial-coast",
   "metadata": {},
   "outputs": [
    {
     "data": {
      "text/plain": [
       "[['ILMN_1733276',\n",
       "  'ILMN_1769633',\n",
       "  'ILMN_2110829',\n",
       "  'ILMN_2087989',\n",
       "  'ILMN_1715669',\n",
       "  'ILMN_1675937',\n",
       "  'ILMN_2400183',\n",
       "  'ILMN_1679826',\n",
       "  'ILMN_1804148',\n",
       "  'ILMN_1653200'],\n",
       " ['ILMN_1730082',\n",
       "  'ILMN_1715669',\n",
       "  'ILMN_2079386',\n",
       "  'ILMN_1784523',\n",
       "  'ILMN_1802251',\n",
       "  'ILMN_2337974',\n",
       "  'ILMN_2376205',\n",
       "  'ILMN_1719205',\n",
       "  'ILMN_1666399',\n",
       "  'ILMN_1687738']]"
      ]
     },
     "execution_count": 809,
     "metadata": {},
     "output_type": "execute_result"
    }
   ],
   "source": [
    "# the 500 features selected by feature selection given by\n",
    "\n",
    "gene_codes = df.columns\n",
    "kbest_genes = fs.get_support()\n",
    "gene_list = list(zip(gene_codes, kbest_genes))\n",
    "\n",
    "gene_codes_reduced = []\n",
    "for gene in gene_list:\n",
    "    if gene[1] == True:\n",
    "        gene_codes_reduced.append(gene[0])\n",
    "\n",
    "# the features retained by RFE given by:\n",
    "\n",
    "models = [svm_selector, rf_selector]\n",
    "\n",
    "model_genes_list = []\n",
    "for model in models:\n",
    "    selected_genes_mask = model.support_\n",
    "    selected_genes = []\n",
    "    for gene in list(zip(gene_codes_reduced, selected_genes_mask)):\n",
    "        if gene[1] == True:\n",
    "            selected_genes.append(gene[0]) \n",
    "    model_genes_list.append(selected_genes)\n",
    "\n",
    "model_genes_list\n",
    "            \n",
    "#print(gene_df[gene_df['Probe_Id'].isin(selected_genes)].iloc[:, np.r_[14, 5]])"
   ]
  },
  {
   "cell_type": "code",
   "execution_count": 817,
   "id": "affected-hampton",
   "metadata": {},
   "outputs": [
    {
     "name": "stdout",
     "output_type": "stream",
     "text": [
      "23\n"
     ]
    },
    {
     "data": {
      "image/png": "[encoded data removed]",
      "text/plain": [
       "<Figure size 432x288 with 1 Axes>"
      ]
     },
     "metadata": {
      "needs_background": "light"
     },
     "output_type": "display_data"
    }
   ],
   "source": [
    "# get proxy for feature importance\n",
    "\n",
    "gene_codes = df.columns\n",
    "gene_coefs = list(zip(gene_codes, log_reg_cv.coef_[0]))\n",
    "\n",
    "selected_genes_lr = []\n",
    "for gene in gene_coefs:\n",
    "    if gene[1] != 0:\n",
    "        selected_genes_lr.append(gene)\n",
    "\n",
    "selected_genes_sorted = sorted(selected_genes_lr, key = lambda x: x[1])\n",
    "print(len(selected_genes_sorted))\n",
    "\n",
    "gene_ids_lr = []\n",
    "for gene in selected_genes_sorted:\n",
    "    gene_ids_lr.append(gene[0])\n",
    "\n",
    "model_genes_list.append(gene_ids_lr)\n",
    "\n",
    "from matplotlib import pyplot\n",
    "\n",
    "pyplot.bar(range(len(selected_genes_sorted)), [val[1] for val in selected_genes_sorted])\n",
    "pyplot.xticks(range(len(selected_genes_sorted)), [val[0] for val in selected_genes_sorted])\n",
    "pyplot.xticks(rotation=70)\n",
    "pyplot.show()"
   ]
  },
  {
   "cell_type": "code",
   "execution_count": 815,
   "id": "violent-multimedia",
   "metadata": {},
   "outputs": [
    {
     "data": {
      "text/plain": [
       "['ILMN_1715669',\n",
       " 'ILMN_1804148',\n",
       " 'ILMN_2087989',\n",
       " 'ILMN_1733276',\n",
       " 'ILMN_2400183']"
      ]
     },
     "execution_count": 815,
     "metadata": {},
     "output_type": "execute_result"
    }
   ],
   "source": [
    "intersection_list = []\n",
    "intersection_list.extend(list(set(model_genes_list[0]).intersection(model_genes_list[1])))\n",
    "intersection_list.extend(list(set(model_genes_list[1]).intersection(model_genes_list[2])))\n",
    "intersection_list.extend(list(set(model_genes_list[0]).intersection(model_genes_list[2])))\n",
    "\n",
    "intersection_list"
   ]
  },
  {
   "cell_type": "code",
   "execution_count": 819,
   "id": "removed-storm",
   "metadata": {},
   "outputs": [
    {
     "data": {
      "text/html": [
       "<div>\n",
       "<style scoped>\n",
       "    .dataframe tbody tr th:only-of-type {\n",
       "        vertical-align: middle;\n",
       "    }\n",
       "\n",
       "    .dataframe tbody tr th {\n",
       "        vertical-align: top;\n",
       "    }\n",
       "\n",
       "    .dataframe thead th {\n",
       "        text-align: right;\n",
       "    }\n",
       "</style>\n",
       "<table border=\"1\" class=\"dataframe\">\n",
       "  <thead>\n",
       "    <tr style=\"text-align: right;\">\n",
       "      <th></th>\n",
       "      <th>Probe_Id</th>\n",
       "      <th>ILMN_Gene</th>\n",
       "    </tr>\n",
       "  </thead>\n",
       "  <tbody>\n",
       "    <tr>\n",
       "      <th>1062</th>\n",
       "      <td>ILMN_1733276</td>\n",
       "      <td>CYSLTR1</td>\n",
       "    </tr>\n",
       "    <tr>\n",
       "      <th>16641</th>\n",
       "      <td>ILMN_2087989</td>\n",
       "      <td>ZFAND1</td>\n",
       "    </tr>\n",
       "    <tr>\n",
       "      <th>32934</th>\n",
       "      <td>ILMN_1715669</td>\n",
       "      <td>TP53I11</td>\n",
       "    </tr>\n",
       "    <tr>\n",
       "      <th>39917</th>\n",
       "      <td>ILMN_2400183</td>\n",
       "      <td>DPH5</td>\n",
       "    </tr>\n",
       "    <tr>\n",
       "      <th>45686</th>\n",
       "      <td>ILMN_1804148</td>\n",
       "      <td>TMED4</td>\n",
       "    </tr>\n",
       "  </tbody>\n",
       "</table>\n",
       "</div>"
      ],
      "text/plain": [
       "           Probe_Id ILMN_Gene\n",
       "1062   ILMN_1733276   CYSLTR1\n",
       "16641  ILMN_2087989    ZFAND1\n",
       "32934  ILMN_1715669   TP53I11\n",
       "39917  ILMN_2400183      DPH5\n",
       "45686  ILMN_1804148     TMED4"
      ]
     },
     "execution_count": 819,
     "metadata": {},
     "output_type": "execute_result"
    }
   ],
   "source": [
    "# find the common names of the genes\n",
    "\n",
    "gene_df[gene_df['Probe_Id'].isin(intersection_list)].iloc[:, np.r_[14, 5]]"
   ]
  },
  {
   "cell_type": "code",
   "execution_count": 837,
   "id": "french-rendering",
   "metadata": {},
   "outputs": [
    {
     "name": "stdout",
     "output_type": "stream",
     "text": [
      "Optimum L1 regularisation parameter: [0.23357215]\n",
      "Accuracy:  0.96\n",
      "Recall:  1.0\n",
      "Precision:  0.94\n",
      "AUC:   0.94\n"
     ]
    },
    {
     "data": {
      "image/png": "[encoded data removed]",
      "text/plain": [
       "<Figure size 432x288 with 1 Axes>"
      ]
     },
     "metadata": {
      "needs_background": "light"
     },
     "output_type": "display_data"
    },
    {
     "data": {
      "image/png": "[encoded data removed]",
      "text/plain": [
       "<Figure size 432x288 with 1 Axes>"
      ]
     },
     "metadata": {
      "needs_background": "light"
     },
     "output_type": "display_data"
    }
   ],
   "source": [
    "# x. feature selection based on genes in logistic regression with non-zero coefficient\n",
    "\n",
    "single_gene = df.loc[:, intersection_list]\n",
    "\n",
    "# create new features vector, and split\n",
    "\n",
    "X_reduced_sg = standardise(single_gene)\n",
    "X_train_sg, X_test_sg, y_train_sg, y_test_sg = train_test_split(X_reduced_sg, Y, test_size=0.4, random_state=1)\n",
    "\n",
    "# train\n",
    "log_reg_cv_s = LogisticRegressionCV(Cs=20, penalty='l1', solver=\"liblinear\", random_state=1)\n",
    "log_reg_cv_s.fit(X_train_sg, y_train_sg)\n",
    "print('Optimum L1 regularisation parameter: '+str(log_reg_cv_s.C_))\n",
    "\n",
    "# predict\n",
    "y_pred_sg = log_reg_cv_s.predict(X_test_sg)\n",
    "y_pred_probab_sg = log_reg_cv_s.predict_proba(X_test_sg)\n",
    "\n",
    "# evaluate\n",
    "model_analysis(log_reg_cv_s, X_test_sg, y_pred_sg, y_pred_probab_sg, y_test_sg)"
   ]
  },
  {
   "cell_type": "markdown",
   "id": "pretty-premises",
   "metadata": {},
   "source": [
    "# Not used"
   ]
  },
  {
   "cell_type": "code",
   "execution_count": 463,
   "id": "macro-campbell",
   "metadata": {},
   "outputs": [],
   "source": [
    "# testing for normailty using Shapiro Wilk\n",
    "\n",
    "norm_dict = OrderedDict()\n",
    "for column in column_names: #[0:5]:\n",
    "    con_series = data_tpose3[column][0:35]\n",
    "    shapiro_test = stats.shapiro(con_series)\n",
    "    norm_dict[column] = shapiro_test.pvalue\n",
    "    \n",
    "#norm_dict"
   ]
  },
  {
   "cell_type": "code",
   "execution_count": 659,
   "id": "functioning-stretch",
   "metadata": {},
   "outputs": [
    {
     "data": {
      "text/html": [
       "<div>\n",
       "<style scoped>\n",
       "    .dataframe tbody tr th:only-of-type {\n",
       "        vertical-align: middle;\n",
       "    }\n",
       "\n",
       "    .dataframe tbody tr th {\n",
       "        vertical-align: top;\n",
       "    }\n",
       "\n",
       "    .dataframe thead th {\n",
       "        text-align: right;\n",
       "    }\n",
       "</style>\n",
       "<table border=\"1\" class=\"dataframe\">\n",
       "  <thead>\n",
       "    <tr style=\"text-align: right;\">\n",
       "      <th></th>\n",
       "      <th>ILMN_1804148</th>\n",
       "      <th>ILMN_1733276</th>\n",
       "      <th>ILMN_1683817</th>\n",
       "      <th>ILMN_1691402</th>\n",
       "      <th>ILMN_1652650</th>\n",
       "      <th>ILMN_2400183</th>\n",
       "      <th>ILMN_2264011</th>\n",
       "      <th>ILMN_1717197</th>\n",
       "      <th>ILMN_1747192</th>\n",
       "      <th>ILMN_1659800</th>\n",
       "      <th>...</th>\n",
       "      <th>ILMN_2082209</th>\n",
       "      <th>ILMN_1786433</th>\n",
       "      <th>ILMN_2087989</th>\n",
       "      <th>ILMN_1775744</th>\n",
       "      <th>ILMN_1762071</th>\n",
       "      <th>ILMN_1677906</th>\n",
       "      <th>ILMN_1789642</th>\n",
       "      <th>ILMN_1660629</th>\n",
       "      <th>ILMN_1669281</th>\n",
       "      <th>ILMN_2363489</th>\n",
       "    </tr>\n",
       "  </thead>\n",
       "  <tbody>\n",
       "    <tr>\n",
       "      <th>Con_001</th>\n",
       "      <td>9.2482</td>\n",
       "      <td>8.2974</td>\n",
       "      <td>8.9179</td>\n",
       "      <td>9.1453</td>\n",
       "      <td>8.2035</td>\n",
       "      <td>8.3242</td>\n",
       "      <td>10.8239</td>\n",
       "      <td>9.3468</td>\n",
       "      <td>7.9025</td>\n",
       "      <td>7.923</td>\n",
       "      <td>...</td>\n",
       "      <td>9.3405</td>\n",
       "      <td>7.7609</td>\n",
       "      <td>7.5719</td>\n",
       "      <td>8.7739</td>\n",
       "      <td>7.4165</td>\n",
       "      <td>10.3523</td>\n",
       "      <td>7.4165</td>\n",
       "      <td>7.8414</td>\n",
       "      <td>7.5438</td>\n",
       "      <td>8.0306</td>\n",
       "    </tr>\n",
       "    <tr>\n",
       "      <th>Con_017</th>\n",
       "      <td>9.1308</td>\n",
       "      <td>8.1693</td>\n",
       "      <td>9.1417</td>\n",
       "      <td>8.8694</td>\n",
       "      <td>8.007</td>\n",
       "      <td>8.1921</td>\n",
       "      <td>11.0308</td>\n",
       "      <td>9.5891</td>\n",
       "      <td>7.8209</td>\n",
       "      <td>7.293</td>\n",
       "      <td>...</td>\n",
       "      <td>9.1884</td>\n",
       "      <td>7.8326</td>\n",
       "      <td>7.7396</td>\n",
       "      <td>8.69</td>\n",
       "      <td>7.4233</td>\n",
       "      <td>10.4527</td>\n",
       "      <td>7.6051</td>\n",
       "      <td>7.9381</td>\n",
       "      <td>7.5823</td>\n",
       "      <td>8.0894</td>\n",
       "    </tr>\n",
       "    <tr>\n",
       "      <th>Con_021</th>\n",
       "      <td>9.0007</td>\n",
       "      <td>8.1167</td>\n",
       "      <td>9.154</td>\n",
       "      <td>8.2019</td>\n",
       "      <td>7.909</td>\n",
       "      <td>8.195</td>\n",
       "      <td>10.6904</td>\n",
       "      <td>9.6435</td>\n",
       "      <td>7.8912</td>\n",
       "      <td>7.2871</td>\n",
       "      <td>...</td>\n",
       "      <td>8.6219</td>\n",
       "      <td>7.7485</td>\n",
       "      <td>7.8544</td>\n",
       "      <td>8.1969</td>\n",
       "      <td>7.3221</td>\n",
       "      <td>9.2921</td>\n",
       "      <td>7.6426</td>\n",
       "      <td>8.1409</td>\n",
       "      <td>8.0705</td>\n",
       "      <td>8.2665</td>\n",
       "    </tr>\n",
       "    <tr>\n",
       "      <th>Con_022b</th>\n",
       "      <td>9.1283</td>\n",
       "      <td>7.9644</td>\n",
       "      <td>8.997</td>\n",
       "      <td>7.9236</td>\n",
       "      <td>7.9545</td>\n",
       "      <td>8.2893</td>\n",
       "      <td>11.2486</td>\n",
       "      <td>8.8398</td>\n",
       "      <td>7.8079</td>\n",
       "      <td>7.3722</td>\n",
       "      <td>...</td>\n",
       "      <td>9.6519</td>\n",
       "      <td>7.8024</td>\n",
       "      <td>7.8428</td>\n",
       "      <td>8.4029</td>\n",
       "      <td>7.4075</td>\n",
       "      <td>9.0954</td>\n",
       "      <td>7.6117</td>\n",
       "      <td>8.1839</td>\n",
       "      <td>8.0715</td>\n",
       "      <td>8.305</td>\n",
       "    </tr>\n",
       "    <tr>\n",
       "      <th>Con_028</th>\n",
       "      <td>9.3336</td>\n",
       "      <td>8.2082</td>\n",
       "      <td>9.0675</td>\n",
       "      <td>8.9659</td>\n",
       "      <td>7.8979</td>\n",
       "      <td>8.2616</td>\n",
       "      <td>11.1644</td>\n",
       "      <td>9.6249</td>\n",
       "      <td>7.9401</td>\n",
       "      <td>7.5242</td>\n",
       "      <td>...</td>\n",
       "      <td>9.61</td>\n",
       "      <td>8.0068</td>\n",
       "      <td>7.9339</td>\n",
       "      <td>8.8487</td>\n",
       "      <td>7.4443</td>\n",
       "      <td>10.3253</td>\n",
       "      <td>7.6561</td>\n",
       "      <td>7.9994</td>\n",
       "      <td>7.5062</td>\n",
       "      <td>8.1178</td>\n",
       "    </tr>\n",
       "  </tbody>\n",
       "</table>\n",
       "<p>5 rows × 23 columns</p>\n",
       "</div>"
      ],
      "text/plain": [
       "         ILMN_1804148 ILMN_1733276 ILMN_1683817 ILMN_1691402 ILMN_1652650  \\\n",
       "Con_001        9.2482       8.2974       8.9179       9.1453       8.2035   \n",
       "Con_017        9.1308       8.1693       9.1417       8.8694        8.007   \n",
       "Con_021        9.0007       8.1167        9.154       8.2019        7.909   \n",
       "Con_022b       9.1283       7.9644        8.997       7.9236       7.9545   \n",
       "Con_028        9.3336       8.2082       9.0675       8.9659       7.8979   \n",
       "\n",
       "         ILMN_2400183 ILMN_2264011 ILMN_1717197 ILMN_1747192 ILMN_1659800  \\\n",
       "Con_001        8.3242      10.8239       9.3468       7.9025        7.923   \n",
       "Con_017        8.1921      11.0308       9.5891       7.8209        7.293   \n",
       "Con_021         8.195      10.6904       9.6435       7.8912       7.2871   \n",
       "Con_022b       8.2893      11.2486       8.8398       7.8079       7.3722   \n",
       "Con_028        8.2616      11.1644       9.6249       7.9401       7.5242   \n",
       "\n",
       "          ... ILMN_2082209 ILMN_1786433 ILMN_2087989 ILMN_1775744  \\\n",
       "Con_001   ...       9.3405       7.7609       7.5719       8.7739   \n",
       "Con_017   ...       9.1884       7.8326       7.7396         8.69   \n",
       "Con_021   ...       8.6219       7.7485       7.8544       8.1969   \n",
       "Con_022b  ...       9.6519       7.8024       7.8428       8.4029   \n",
       "Con_028   ...         9.61       8.0068       7.9339       8.8487   \n",
       "\n",
       "         ILMN_1762071 ILMN_1677906 ILMN_1789642 ILMN_1660629 ILMN_1669281  \\\n",
       "Con_001        7.4165      10.3523       7.4165       7.8414       7.5438   \n",
       "Con_017        7.4233      10.4527       7.6051       7.9381       7.5823   \n",
       "Con_021        7.3221       9.2921       7.6426       8.1409       8.0705   \n",
       "Con_022b       7.4075       9.0954       7.6117       8.1839       8.0715   \n",
       "Con_028        7.4443      10.3253       7.6561       7.9994       7.5062   \n",
       "\n",
       "         ILMN_2363489  \n",
       "Con_001        8.0306  \n",
       "Con_017        8.0894  \n",
       "Con_021        8.2665  \n",
       "Con_022b        8.305  \n",
       "Con_028        8.1178  \n",
       "\n",
       "[5 rows x 23 columns]"
      ]
     },
     "execution_count": 659,
     "metadata": {},
     "output_type": "execute_result"
    }
   ],
   "source": [
    "# x. feature selection based on genes in logistic regression with non-zero coefficient\n",
    "\n",
    "gene_index = []\n",
    "gene_index.append([val[0] for val in gene_coefs_sorted])\n",
    "df_red1 = df.loc[:, gene_index[0]]\n",
    "\n",
    "\n",
    "# create new features vector, and split\n",
    "\n",
    "X_reduced = standardise(df_red1)\n",
    "X_red_train, X_red_test, y_red_train, y_red_test = train_test_split(X_reduced, Y, test_size=0.4, random_state=1)\n",
    "\n",
    "# SVM classifier\n",
    "\n",
    "svm_clf=SVC(kernel=\"linear\", random_state=1)\n",
    "svm_clf.fit(X_red_train, y_train)\n",
    "svm_clf.score(X_red_test, y_test)\n"
   ]
  },
  {
   "cell_type": "code",
   "execution_count": 525,
   "id": "bacterial-charge",
   "metadata": {},
   "outputs": [],
   "source": [
    "# to view entire dataframe\n",
    "\n",
    "#with pd.option_context('display.max_rows', None, 'display.max_columns', None):  # more options can be specified also\n",
    "#    print(etc...)"
   ]
  },
  {
   "cell_type": "code",
   "execution_count": null,
   "id": "demonstrated-cooperative",
   "metadata": {},
   "outputs": [],
   "source": [
    "\n",
    "def std_split(examples, labels, split):\n",
    "    imputer = SimpleImputer(strategy='median')\n",
    "    examples_imputed = imputer.fit_transform(examples)\n",
    "    scaler = StandardScaler()\n",
    "    examples_scaled = scaler.fit_transform(examples_imputed)\n",
    "    X_train, X_test, y_train, y_test = train_test_split(examples_scaled, labels, test_size=split, random_state=42)\n",
    "    return X_train, X_test, y_train, y_test"
   ]
  }
 ],
 "metadata": {
  "kernelspec": {
   "display_name": "Python 3",
   "language": "python",
   "name": "python3"
  },
  "language_info": {
   "codemirror_mode": {
    "name": "ipython",
    "version": 3
   },
   "file_extension": ".py",
   "mimetype": "text/x-python",
   "name": "python",
   "nbconvert_exporter": "python",
   "pygments_lexer": "ipython3",
   "version": "3.7.10"
  }
 },
 "nbformat": 4,
 "nbformat_minor": 5
}
